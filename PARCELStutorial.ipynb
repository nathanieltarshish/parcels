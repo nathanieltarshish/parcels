{
 "cells": [
  {
   "cell_type": "markdown",
   "metadata": {},
   "source": [
    "# PARCELS Tutorial"
   ]
  },
  {
   "cell_type": "markdown",
   "metadata": {},
   "source": [
    "Welcome to a quick tutorial on PARCELS. This is meant to get you started with the code, and give you a flavour of some of the key features of PARCELS."
   ]
  },
  {
   "cell_type": "markdown",
   "metadata": {},
   "source": [
    "In this tutorial, we will first cover how to run a set of particles [from a very simple idealised grid](#idealised). Then, we will show how to [add custom behaviour](#customkernel) to the particles. And finally, we will show how to [run particles in a set of NetCDF files from external data](#netcdf)."
   ]
  },
  {
   "cell_type": "markdown",
   "metadata": {},
   "source": [
    "Let's start with importing the relevant modules. The key ones are all in the `parcels` directory. First load in the key functions."
   ]
  },
  {
   "cell_type": "code",
   "execution_count": 1,
   "metadata": {
    "collapsed": false
   },
   "outputs": [],
   "source": [
    "%matplotlib inline\n",
    "from parcels import *\n",
    "from scripts import *\n",
    "import numpy as np\n",
    "import math\n",
    "from datetime import timedelta"
   ]
  },
  {
   "cell_type": "markdown",
   "metadata": {},
   "source": [
    "## Running particles in an idealised grid <a name=\"idealised\"></a>"
   ]
  },
  {
   "cell_type": "markdown",
   "metadata": {},
   "source": [
    "The first step to running particles with PARCELS is to define a `grid` object. In this first case, we use a simple flow of two idealised moving eddies. That field is saved in NetCDF format in the directory `examples/MovingEddies_data`. Since we know that the files are in what's called `NEMO` format, we can call these files using the function `Grid.from_nemo`."
   ]
  },
  {
   "cell_type": "code",
   "execution_count": 2,
   "metadata": {
    "collapsed": false
   },
   "outputs": [],
   "source": [
    "grid = Grid.from_nemo(\"examples/MovingEddies_data/moving_eddies\")"
   ]
  },
  {
   "cell_type": "markdown",
   "metadata": {},
   "source": [
    "The grid can then be visualised with the `show()` function. To plot an animation of the zonal velocity (`U`), give the following command"
   ]
  },
  {
   "cell_type": "code",
   "execution_count": 3,
   "metadata": {
    "collapsed": false
   },
   "outputs": [
    {
     "data": {
      "text/html": [
       "<video width=\"432.0\" height=\"288.0\" controls autoplay loop>\n",
       "  <source type=\"video/mp4\" src=\"data:video/mp4;base64,AAAAHGZ0eXBNNFYgAAACAGlzb21pc28yYXZjMQAAAAhmcmVlAAA1N21kYXQAAAKgBgX//5zcRem9\n",
       "5tlIt5Ys2CDZI+7veDI2NCAtIGNvcmUgMTQ4IC0gSC4yNjQvTVBFRy00IEFWQyBjb2RlYyAtIENv\n",
       "cHlsZWZ0IDIwMDMtMjAxNSAtIGh0dHA6Ly93d3cudmlkZW9sYW4ub3JnL3gyNjQuaHRtbCAtIG9w\n",
       "dGlvbnM6IGNhYmFjPTEgcmVmPTMgZGVibG9jaz0xOjA6MCBhbmFseXNlPTB4MzoweDExMyBtZT1o\n",
       "ZXggc3VibWU9NyBwc3k9MSBwc3lfcmQ9MS4wMDowLjAwIG1peGVkX3JlZj0xIG1lX3JhbmdlPTE2\n",
       "IGNocm9tYV9tZT0xIHRyZWxsaXM9MSA4eDhkY3Q9MSBjcW09MCBkZWFkem9uZT0yMSwxMSBmYXN0\n",
       "X3Bza2lwPTEgY2hyb21hX3FwX29mZnNldD0tMiB0aHJlYWRzPTkgbG9va2FoZWFkX3RocmVhZHM9\n",
       "MSBzbGljZWRfdGhyZWFkcz0wIG5yPTAgZGVjaW1hdGU9MSBpbnRlcmxhY2VkPTAgYmx1cmF5X2Nv\n",
       "bXBhdD0wIGNvbnN0cmFpbmVkX2ludHJhPTAgYmZyYW1lcz0zIGJfcHlyYW1pZD0yIGJfYWRhcHQ9\n",
       "MSBiX2JpYXM9MCBkaXJlY3Q9MSB3ZWlnaHRiPTEgb3Blbl9nb3A9MCB3ZWlnaHRwPTIga2V5aW50\n",
       "PTI1MCBrZXlpbnRfbWluPTEwIHNjZW5lY3V0PTQwIGludHJhX3JlZnJlc2g9MCByY19sb29rYWhl\n",
       "YWQ9NDAgcmM9Y3JmIG1idHJlZT0xIGNyZj0yMy4wIHFjb21wPTAuNjAgcXBtaW49MCBxcG1heD02\n",
       "OSBxcHN0ZXA9NCBpcF9yYXRpbz0xLjQwIGFxPTE6MS4wMACAAAAVWmWIhAAR//73iB8yy2n5Otdy\n",
       "EeetLq0fUO5GcV6kvf4gAAADABacrtfxCc+uAA4u7V2uXqTWrlJpoGEUjreH6xwOjqmU42cQlQWC\n",
       "kRzdgrRaOR08DJyczaoDoxpTMXyBxgOC8Gncn41s+z6XWMFnHwpHFy5T0305/7gq5wpe+Q4fptx6\n",
       "rePhJ5SWyAltsx9EFHga/fK5KGZBCjwujj2MIfO/60CqZv2x23WLb5IYI4PSKzp03XLCxvhfsMDW\n",
       "erQey7ojJFgbr2iVaGNzVYRIOKzpRpUHV40GORCA/nYb06DAueftV8+kuSFMToJD2a2Kp6qgNNpa\n",
       "mX+Dlr0RCkkd48DzEZmz3D2Y8THJaloGCP/gjNDRxP4+TuOnYOk//GflBy/p5XXPwS4UmoA2OYsu\n",
       "p6eKiDChkiAdgoerFZaErqD15U3/AUmahiZw66Knyuc4QN9iexAo33Ghwu5P7gZEPqBnS9jCTfSV\n",
       "qnyzbOMMz0mvtNxQ1fIrO1+HC5K+Zt5iTECYcuXYER2O52w1u1gZfAWh1yiEwFZlKeyxmUMl9kCN\n",
       "5SRAWUzffqnL7d8u/JuI4DkIK6yxMmw1I+t6lXBuEeU5q+YC1DJS/O0hLLLM/PN5VU6149yFBQg2\n",
       "Ik/6wA5tIMTxUYOR0BsBI14ZaB9dItqZorrBPIeqQj3tbgm3jJVh8xC6xxr8bYUWzDz60Aa7/IQw\n",
       "u+ebww2Kt/6tPQCdan3th6kChUaS1x6u4SSerMY1ooz0VrSLLdNdjkDVBzZMARyMNAn68qZ0WMnv\n",
       "krtuFKdtXObgEvPe8id2FJMLpJD34k65CWpknAu1bgYnu70wmNSbTpGWG0LUFShJZUT6a4BDMlw9\n",
       "6AVhYx2g39Ns1XTyF7VNEt800RNChLi5duZSmiG88CbFVWILpZfnzNMfnNmDtZvG2pkcrBkAjj1D\n",
       "7oAAI8LRH8NPQj1gGmVd1m9ebiCfxP0WXwHZ/oq3V8y6QDAvcqoRGBEPLbCf9di23fhQUP7eoHRW\n",
       "/jpaM5YU8cZsAtUDzlreRORw3q13qab4RwxTdTJPrpIJBXJSFHGVNRLhDyNAae8VZVb60rg+6uc4\n",
       "Oz+drwoHVI0DS4e7Na0i3aAcAqhYDgcFHQNeF4jOxRT6/KZtPxXYEKlG/oqoGWZKEUnOSobl7SCE\n",
       "ZLAkU77VsTuge4MzrAqVSQY1r3NDCNL3elWlkS1n8emZWLGbR6aFVyGXpuH//U7RpFzVfzZFlEBs\n",
       "S48MbWMNK3zR4UhxYrYVIU9TBoCigjcikemd7QrZBXfghpTqO8luQ4VYn2npG9IW4rrMg0sIqkmx\n",
       "kIQF/dYvZu9ys6YjJ+RUQsryDPbHFkicBiusBu1cofSZ0IFfIuS8oRQoqPGA+knHxA7bI65ZR6ko\n",
       "PHxSEUhGDlx78GKuvU3ynLQORflZdXD4a4bEm9noMUx8Xi406iFvZo8+tG+fxOZaXLmKw3YyMJtL\n",
       "Usx9xHYZKDeVjswSgRxCUugfddZdwuLsoWnS9b3V4NdOECwDtD1naimjKLkGh25CnCn5rCXHAmNy\n",
       "d9emmdR8FidFgcoaIaUyvc7B28lHVmCE4cfA5ODKoz8P4XFakgQ+0dWW+UoSjEVRFAKDMwYGr6FC\n",
       "hENNuWb+7xfWyXUK7+q+d6dHQct0oFovDmdZadLsXSbSKbwDe3kxD2H5qe7u1U7k4Z2AEmeJrwos\n",
       "SY0eQy82JhV1Zwt+8D4DfvYgdYLNQS8a7QPZ9L9LKoInrsYP5TqRFobs+8TwK8P1njUBPJV56D3s\n",
       "AACzZG9hqwPZvhZPNeu246obustWTDx7XP7u33oqXYCjLJFWfN0sWjiiFsabMXmHgx2Q4kLvFt4s\n",
       "7QZQsCluNFLl3YIhYEKKnqQSuHgmxM+PHERChuyl7KYU4wst2xpz3tJ8klw01uOhN5yyEmOrUZSN\n",
       "8H1lejPiwaowaOdKDY5wRpsphdM+KQhFHAV69nfZZyND8U586G5+sAO818ZR52iKVkpKJCJYcTzD\n",
       "4Jf61KE//5msbqn3K1feEtgZd1zp++ho6Sn8UzUFjiKQ03ThhjrSobadaHBgN4v+GCFlHrcop/jy\n",
       "x9ghsvaEyJaBftH53tmZlghTAEgARpC9fUzzRBg56EXFi0S8XTJHj3WjFexnRZW5efshD2EfHsH6\n",
       "+t2VTW6vrQmpVztPwhpafxEADk/kQSBrolQexr91jr2kdpJjJE1O7WA+slWizdMDBE/r5JfmQAP/\n",
       "1O8fATdbjSkMzReyK87ajOImmvDp1JcQ+OBccVOMlsMmB3DUfLC6eoAWbIXc50OHiKsbqmaP9W+U\n",
       "U6FQPE7cCGOPxOHvfMWfBeuxKKVhZnmePehkRfyIOoDUYj0MQ68meRXHcMvfN+4S4HTtTsuYFYHo\n",
       "Y/hr65/lXWUaXOQLMpDnuS3C8ogWrkT9Q9UvXpoLmK4BG2J/5zk8AjKq3vPqhkpImYR/7QtX3uVb\n",
       "UF7plqfMvTDGHbWXvzSbl5YFiKvo2IroDHBjD23+KtFKoTYQUkVLvdOqLaK/h5d6PsUCLk4V4usz\n",
       "JTVH4Fv6Yf/sqGpsDg1qmOzEzITZJlcQt2VoVp+b65J+zlD6KScO/PBmDqKOmEiaAQjB6hSt/d5n\n",
       "/jcvPfw02wTMytzExkXB5LyJahaxx9FAK4W3psa+AfYmeTIKalOaKWUc2q/+3XzeESilSk+BL2nQ\n",
       "GRiD/XdYfEG7ore8I1FAgkskE93ZSG5AlHDUvj+eNz/GQvYoxNNi+3nsgHcM6CSr5PXQ/gNzA1Ff\n",
       "/F1swqbSQuSPjOu837r431jSyBmZfQAK5M4+IPMDgJ/dO7USrzNnsL4i1VG5RDyfMfI8uYi4ioP0\n",
       "zxOOOrKDA8vSgxJFXR9IRUUOH4cpsbGx/bfEhEiQxjEOrWOG6kziVUjGg2op3+59poaEhMob8bPI\n",
       "oUY2kBVdztYHi0yYKfqUrEvDvP3cil+8uKCmuSuOFn59hkjjVdUSHsKWC+wL7VQ2FyuxT/ec1m1h\n",
       "qKpKjU1USL3HL22TmPmJOoUJuxY+YOUj9pYdIVU/Q5/lZRPspZiMkJ6MJH2BIZiCxpuahcRIRa51\n",
       "TR+ICWjP5TK/aKfQ7CaZX9uBBabPVDJfwXHznYyqkn9On8x4RstPP1tEL3AymuShQwm1RVpyoMIK\n",
       "S7JP8PKqQdqM+ipp5CaIpS0TdVE6pfVKpv0a66bhtGKxQHVMx7D8Qu56jj8GuyiOb3+Y1CgkENcy\n",
       "NTtmlvMfvdCel1JVoLuN08jpjAg9wsK8OR9OLvDFX4g2vtfx3dTHxsTpmAkDMDmFf+HYetYjMzxx\n",
       "SXg/Z1jeIadS8ZUAm9ycQYgea1AIAWQ8lVkRXhmcFjx2IuZznFsUtxeJPgAP/yvOpQ+QK6hP3j2t\n",
       "0+lY8s+5CEmyjAV37oShXbFMigUIiOgBnfIyjP5j1pLkfUZE+MBZLhWnUS4r1DyNnqAOI6z9quVv\n",
       "tITDDNn1jdeAakwoocVeCezHW/qz30PNkEiHlk2Y9cwCLRAsD8NEs2NMjJgTfQ652+lG5ryrr4p3\n",
       "lA+c4y8Ibw+lo0/htYyTGxdWufTuBfIf5D19CQtFPAKdqE0bQPvcD6xKLTWnutBFoupxVmuyEuzG\n",
       "CDzO2t7+A9mMgsC0UjOgm4F0Si4EPjshiGpH+Zgyq5h/5q1NaWZTPigmQKRtD89LLgzlfQ9+LaEV\n",
       "CqSAFWeMiqbOkt3yID+NrEJ1hDP2asZ5xxXEyrdC+vOkzCshr5dNaGaDip2vL7EnSvLXxV3oFUEu\n",
       "7CHsHkhp+OqsnTgbzunfxWVDJHXZmXCdm8N4ONp53yDGMbaDFnVcaVqKznvaeoiBJjFHy+hrZCIS\n",
       "Y5vnPX2gjJLUL2u6wXU+uUdm+jn0vO64Nc1rVK0m/hhn1Uv4SLk3pWS9ZVMs/19gWkXl2G8GsyYL\n",
       "WMXblvd9U3DjchEIxl98bUog4WkBYzvM9AO/mZvCUORECq4zQrHV7jOjBR8UOh1CQ2j0jOpcdRJe\n",
       "i+TQcE9K5B0tOmo4t6BwJEYH5fj2pEvP5uTYYzU8168EHxYwQOWLKKfPR5wVBDkB1pjtp3s5xIP2\n",
       "52aPLqU8P0OIRrWrU2qquVoVOL9lU/nit4e9xNvYoVyK8K1BZU/6+VWpF1WETo8e8bu676DT5Mai\n",
       "EiluQ5i/MgnzbZoST7I+zf4ivpiqYlQt/MuwkSxemxrF7O0z8Rbq+Xc14pqgYxIXOEKvjFgP0rd2\n",
       "SJh4HeTZmN31oOJIg9LZ2+peLa1cB/LBkaVuSVlC5C2+7RWRetcWZuZS73OsVxUaeeCinLseuXIN\n",
       "n7d0urG6ZqKJFJwmfEXqrH9Duy2DAVf9ZKly2IYk60d8YnDuxD2rY229FSb6TOCmk6I24OOQ7HJv\n",
       "1UKDOf1zXUQUIBAaeHEm/awpa8Y9of0btYEXJG/gnSUmOm6uLpVFhUTHPW4RZkIZXK6dNr/PUkIl\n",
       "Cpvzoj3yOeYpASv5vg0faqRpStfM4On/anehyCuhBD1WeFcFTezwK5Gc1/mq6v4YWt0MlfEAYZ7c\n",
       "O0mpMXHPyuJy6BDoDVSAKdQTW0auZ3Lx5dfExyy8ZGkY+27GBbvsjS80IdHct6+4ATlpWF7wjkLH\n",
       "msBKh9NGjH9Gq1Xz7JAAnrGCv56SaBG3rHBIkSgzPHF2HbGTUwbSompferub6atqf6xXkExX2qQ2\n",
       "PLImkdvuWuwxizYKox2eoU+7sJ2sI0lK1X++tH+ZkW3MafIIUMZxPs4Xfxol00pF2KIDuUh6GYHD\n",
       "t36JhIXtPJN+JR/BIYmFXgUltZqDRAdUbZu2kkMsd7mWAPT2jGdyPjYDLT+N8kwdySMPBz4+S+iv\n",
       "NxLIX3OC+zMN87qFsrcta1BP9f99SEyJ/qroS5POFP+q1HIyt52qSeA4BgkM9JSygSrbVi6nRzRD\n",
       "hS5drABpCla3qvhDhdKXlBY3phSdG35ljZ3ISfbpZTZag1HD1oGnPeHSIK87tDclJjZ4pLaDZJ4r\n",
       "7W5OwMWfb+3JA1E4Qrih+EFCIwOoyUPV0x5EromjqzF5BbzAYD9ODKRJKrsE6T9/GJ+zmkTCM4bI\n",
       "uT08tKbSwdDu05u3crDiQmTXbEqbvNsydBZhhSTq6+n/ZrIU8GHikLjYU8elp03IFdnA9+g+ryoh\n",
       "5MeIL6Ix486acmtTD5yw2U4KuIrv5ulVDCw1BhaU4AgeVw4RcKtoEkZ+yTkRob6sWdRrkVrhXBUz\n",
       "RCOZNw8U/X942fWhFkNry7xCGDGT/9ZoK5uxgdeGIiE1JmInIHlSz5toIh3r0YwkOiVImn/qjEpS\n",
       "swSVNSlcSpFhdFWiq7m+lF/lzAgOG6v5d0Xt+eVotDByVev+CEgqD2s85/GBqrAg1fyOPvMjSUh+\n",
       "m+3bpDITkUUxfxi1kLJB1mad8SILxF9W62Q3tyIzNJBYy9X9/Dvv947hzuIAcnyQJ/F1YwGeS3+W\n",
       "+VTRAL79kv65dKN4SPfuglYcSgUb4FYvLnAe9QR/AQnUs1f4075tH6XhcY5xWj8BfxM+s8QVKqKg\n",
       "EjtCbpZOPO4pWIhlq/ELaHEy6OCtnxdBZON/DttrENaVcfGJqhhSm0B/8uv79BVcv0mSjcTfHkHL\n",
       "I9iPf1Og5hItUsn0x/3bY5JV1JTp3Xf8R/x/fMZyqQf43Wt/YPchXLIIcwxa6H/c0i3knc3lCXKE\n",
       "A1EOBaBnn4pbQecP+aPVP9JIyFzQtXNPVgbZjbf9a79qGBZRffnKcddo25QxKH2JSrbENhsQUoAp\n",
       "mucAxBC/vseuKdONawYyLU/i5+cyq5nCxxWxt5hDMfNivlte69JwbdJx62fPeikj4U6J+RH0e4zk\n",
       "AlfwGg3ecq0aQmx0VGUwD8MxMbW9h1lLG7Zkh/a/l3V83gFntBN5ZUuDt58bJbMGVcGz7SHd4UEz\n",
       "xAawgpGfM+znk9cGWRknj8Z8FwaDrsSCMRKildHSR8FagRPvjmkis7S4Gdw7YK3md0nLEd2Azveh\n",
       "RZRIolusG7Tgq6q2OaHzmpojJ9pJYe/bHMySH8BLOXbq+1O9zL5APiocowrj7UJ14q9kTQBelZaB\n",
       "LhSsV9gmum8lmfV0bl05Vbi+zp9v9mysM4pPHCwoUTt1ks+FP5/56YBRox24vWioitdbFylt02DX\n",
       "uyiakPjhLSuA/Ec2+LdGzEIYiA3WOP2PNKyvny/TlKBZN6llEuVJ96jAZxBHOqGfqeuVTDmLoOvF\n",
       "nXKSauLh2MYfWaAXdlp2HjB65l5yI6sVsfD3D11FrgUogLGQ4tNidCsH7dBGEE8gywkp4BVLNM66\n",
       "CckEHv0yuTEz6hb2W2lxdjSpJUFh7WJOOjXp/yV93LX+ywTaRFfpjdwdXrUaQ4ho26n6GevvIIA9\n",
       "UCHOpougyjcwT9anHUhLXpI1SKEtyt90HoWLQdQBjDKrAUVxYqj1agn4DYQF6xkbC7vBKkix2FMY\n",
       "o5SrFSkuaLHq9St3nCyTalUUOXk0rUops7SLxY9f4yB0Mxcsivnk8bdeKdg82zGyW3D7IZiRlN/4\n",
       "WEuMVfs/OJ8YM3VBymk4Kh4Fc4sErQ658A5sGaGPMLvCNcd3faYIknaOfnALMPffE3my3pXJWDuG\n",
       "bDESJmrIqMeoP7DV2BDTBipEDfrLNhnIRkB049kybYXfpmum9JGJkpuh6R2FfvD1gs6qSCIQlV/f\n",
       "CpovaGwpnjhJgoQ43u0TPrThlcl9nu0JSCUm87+zPdu+VW+hNU5S4WQvTyFzclvZ5xJMNmXoFQ3W\n",
       "FZtZpTDb7zHtOdjqanzQxart9biqa2/LZS+cdN7qut32cU8hJ2lraNJLycp6lLjnmebQeTXU4+9R\n",
       "NFRvA9R1a8qxAC69yFhd2jQb7AQz/SOznhOjDaN5z1NhkWhcs1voYE3sMJQnEiIAer8EmLb2FO+r\n",
       "VtSDoseRRjZcMpkjLlVd4UWvsRsrF1Pe3qxxXH1HYcnKX9XmUxba91UxQikH2+aHJKKAVNq9cTq4\n",
       "o9d1oCe0Hj4Sr9z+64qTIs7bHQSsJfPFgXF6yHkMEMkvRQ2olOxkp4UkmWNxSS/tDMSlq+/omufV\n",
       "idTPK/JVL/dZ/ji2pOGqd7AbD/9M9+T/Cs4GoVH+WZMle1KUsb2N9AmWuKbIkK+ck4Xvzk+cfZE9\n",
       "iGWsCqaTgXCuOaLgoYwGbnflYj2V23qOIfuPt+DRIk827LRx1RkF6XTJDdRLxqL8H0OhjVuSMzq/\n",
       "9EnhF9Hea3bzrPULiz2SulND3kjvO5DHNNopfhE/FmICn9NV9t8FiWY3BocWwWquVQWeYjcgYt/J\n",
       "kFl/bTnwaI3Fq2lSgqItA0LjtmK1XNp6ReUhYTBAAACZgQAAA0xBmiRsQR/+tSqC8p1IAK38nTiy\n",
       "WgYBa1+Nfr9/YaZmyLQUWGGwYT+v+yAh46P425V95G2VADS9YMG0+XVc4gjaXegFVDutT9THzxtK\n",
       "5mq/cs/Lt7MDdW12ptm/vfeI89fNSwr9gEN4SfP5I1umcTqfZQvrBC9QgApSGxQS4ShrR4j//qcO\n",
       "YmAGG1PaFD5mBbD5X+mLjKtPRHC+mMJNlpUABaVkntdWH1RrbujMXutsS1YLlWxdJXxflE8Yu7Yo\n",
       "/dYd4n+ShsmddUDaj3+Z2sGf+H1wpm9hvvMAgjc13iWACDz3+VJ4zHM6BeFiHveoqIBAOnU+3mef\n",
       "63WcMjS4zHliw24RYfnopqFAiP6osVnJ9WimAsP3rDfoC0W06hg7GPcwMF6vEeNsu5Ieg2q7INHc\n",
       "yCHkaAEFMnvgICBWFURrG5we+tG4+GrwvvY7k8oamZ35G4tsi0aomcEWX9jnj7OBnOiEPTvF9Iku\n",
       "BByHJRY/4g+ZW2oBzABF3wCKD1uTAJ5VoFXZh/scP6loKUfjqAktcfN9qeHVQ9x8hDWR88JpBQDK\n",
       "Bf5DEupyQtac1xjHtLDUW/ixIkoZDru8WMthdyoUh7PzXAYsHI+ADBcMlJkuDR3mDQFGucqdgxRF\n",
       "6b1XMdh6KV0z0a+YgxooPhRVs8mLNuh93KCjS6vqCd36W4dLSsRMlLnA/oOofxZutkqu2G6Tq5tu\n",
       "l5DH0KAubxbR4NvYJe2aWqlEzwEMkxsWgJapoqlsLLwFvwof6EIUVRJdCWTmKJOe5oczTCnD4Mnc\n",
       "kU5X7EQkmqgdlwQTKVfSSPur5MWNDQPtgifMBVgDxnQtyexFnBQk6GTKkbhb8zr+RO7I9XU+OXOE\n",
       "vnyVzPS3MFDn29amgwz+/Q3uXP0MXAfFQ9gUZLltwcATi2yfqkWYRZP4t2NguLWb4RYWlo9FSu0H\n",
       "cVoeGna1owy+eTSLWZfu7xmnzLG9hzhxCeLHyFSHxX9/npaTDgIx/a/chudLMW/SW3o1qoCvds4k\n",
       "sd1visX35EulUu52C8l8jYWRgOsYH8Y4/xQKYDUzgu1z+UGNGZp/1T/SYMiyRayWGbDmBaooL1+e\n",
       "o6PWa0B6uJEEUTJ2BVEvQ2NC3N9bvf7kwKaAAAABUkGeQniHfwFLqgbQOppfEGsdjWxBPpqO0zI8\n",
       "dM6vrpUAkVwvJ4cV14DnwgL3xbLqJSYXo7uyVfFWTfaz+64c8AVGserLhufW2y/p5FHaRJR23KLU\n",
       "hrRoFr2vzhHh1W5TOHVoSFwv4dBNzy30H0XZIV4wbuKyfvUeIDM++USqePUFVGL6DwPr2Z5rplQm\n",
       "Am6qkox7f21BVSVuQUuufQsWgGDCJS+2iFZ2kKeajlkMwPZZ+41/d6SmlXF5xiV61kDzLcDZcWVF\n",
       "3bO0KxpX0jQeSgZ1/zT8YivZZ3AyKU59Cox6gHVBhvTxP0JOx6DmzUPRfyembbk37CABgX0dtDNE\n",
       "kSmzK5C8xHM48wmJ9bGqnYBsXIh1uxS1HI+aY9VluaqvW6JtqEaOmhU6+P5+7tzFPgur+ThYOy+8\n",
       "OtLBYfTCzoFu8U2Fln9Hpfehl/Amh31dfvlRAAABBAGeYXRDfwHM75LI37oi5c40zNddSVdDrW76\n",
       "j7co6K+re5XVpAIYzzwU4UkkCFRnhPyLpcBjhscY2SKqKG85KUxE2bSjW+ynTg5aW3n1JYgFTTTp\n",
       "HUQ/9Cm1RMBGngplztN9/RwtgrzzLzxHRTdef2Kn5HIUKgL3bcIX7OqagdrwsJ72bJ263Sbh+0Kv\n",
       "1vGkTTyXQd6QtwIsDHbaHrPgtlkO3RG2bSc5iNaAaQdj0MZWbqG6mIw9jerZBPT58nxUewJ5Vub+\n",
       "cmlgGZqwAPWV0RYGiB5xyewmnZEezP9svmaFpeV3n7y22VBDn6wa+m9JQxegzuTNBjejI8TyaBPl\n",
       "BS0+5yZEAAABBwGeY2pDfwAL8Xass2MaTdgBMH9BBgXmveRfFq+Mcal6YpD0TGKzE5Y4PLqSiKnj\n",
       "PKxsPHQYJnsDuYnsp3R/EIS683Q1yscZ5V9Y4DQVFphMnlU6bVbZslQGmt+nvmBackwWRV3xmQnS\n",
       "QRzu1IwT4wwvQQ4cp711v16xqWXARn7GPiVpSXs7w6D4XgWnfUc7PjsgspIVmy3Pd6IQ3ymVa2+N\n",
       "LSwEGKRtyH+eteShC1MR95aTEM+lJxqkd/4p3Xz7qfaEGDbohGD/VH+faqKuDul/s4QxH1aLydj+\n",
       "Ez+7InXfUVQd33T1EwonMToInSbZCrgpFBei+N77UteFJNFnQ12oAgyQIhpxAAACD0GaaEmoQWiZ\n",
       "TAgj//61KoAER+zdcB0Fct/2c6bW648HplilEcRxcfWtKPY9hmsvZ8m5UsqSrILwrc1mY/ZmVbiR\n",
       "mbpKC79EX8lD5lZZYu25tVIr5ve4BNsbCKri4ScqKNxO82lruq1P0E107o6dB7uImKwfnHpKVkEB\n",
       "TJhNUhG7Gd6vnFPehW2yPMZFXtHWPeqclOEGEeyCJcpzRvWXTudqaY8Py4wexvifc772wocEG/5i\n",
       "gCKULijrmVJRin19c4QMzde2dnbF0d+vLy0lcNy8UI+S+r7oT4TFWdcG13ip5AUsRCIlox4kpDZp\n",
       "d8jOs/I+FIzTY4Jid8ApwizmdYUeaTof/jb7IyjPQ3QawGZ74AkfYMLm70sIyajulM3hsxyg34te\n",
       "/gGaTElD4ThbDAAGdH2e2QNlyJfZVdRyN6rUekCM1V4KVbTAULhMypGdFge2MeCjzX4BGqA7Bc+Z\n",
       "ZVDBgJvM3JyfmWTr+HoUC4bbBCyo8jiNim7ueUI+Z5m5Y30UktMB5fyIV9VQfFdZ7jAHD6IUVRfJ\n",
       "XQxUTrlXiGyQpKUC/G7TtvUy1Xj9iAXI1FaMNnEM5tI1O4oDMVi6EJqXZtRMyVolwshETIQktpZm\n",
       "dQSUUXhnNVzCYlIkF8XJAeXrQFCzWTOfavU15c8TysucfsoWvTzVudwUXKgf4LogmfxXvCgJvYgf\n",
       "Df+bDq2BAAABVkGehkURLDv/AAt0cdsbDHeW4b6VMiLndKTDafT6vicaW1DB6DdmgXxAEyDLERQN\n",
       "QKS7c5TOlHOsfWxqkPiAd9BE9FWYUtSz0/cNjKDAl5p9RmlEkoJgXhF9TEIPBNpLYpoSGL+/TRWF\n",
       "WS5u1RhpZD21etQRXxybgIW/RRYU7Zn18ubOb068Z7nwThlG9N2mHJltXMdMEO1p7vmjo0nwSbxo\n",
       "l6khloNySz4Fwtv/NH/81rvtFyZV1dquJuVcW0X4P0VNBzmx1VNUWGj4y9JZYnBU71geb38T+mBW\n",
       "kijRs3aVixPCRi75QW2M2AVbti/FxsuCIKXbT34kwZopRtRYcbZqWQKLeuUThw5oGk8WVobZsXwu\n",
       "27Z2DS8QfMl5R6bu+pYO8pPXFFhrUvMMjrQBhwc/juAs+fmiKJcSEH07Mm7H8UzolWHHdCaNZw8/\n",
       "TCNPeOe0aLOErQAAAPIBnqV0Q38AC+9Y6hIHioDCIgPFPy5s7NJaE+RhH8l1C0hSYJUGLC0YqIYK\n",
       "+kGko3XYCC1u5syAVJ6Jht++EDV6f+jcGjTD3VHnFnMOGFaH7sr239CBbsNegu5K5ZHpX/2Tyy+1\n",
       "HYIh2A67K6QAptkP2UWe1csYQjpexGfClvmYiGChljKnxWo02tA787wxAKYyzoF4d/Gmj8QM6nSV\n",
       "w+PvVNoZrGVK+WnB8YjrLagmrbH8angfoOnQsGAJ6w9TraIyT1PvEIRby6K8yu+crfRpToMvgNSX\n",
       "LIy/fI+7mKlMFWVAF9RT/KPEN6wdZgCuOpYiIQAAAOMBnqdqQ38ADzBC+RHRxCEEELtL1RZlRuqq\n",
       "3nzQp7MWPLjU6TzjeMAlN/uZ7i7razrPaoOZa2/pxeOH+f3hkOrgJ6DryCZZsligA1wPzYUWNrB3\n",
       "GrfNdC2sk5/2vfUmY6Bs6vmKc8mluCJ1W047Nl0yXLUzR0y21cbth6n30Ije+xP1ALaMNwz32Wfz\n",
       "2fvrDH5JOpzXcHbkIS5pcST9mE9Gc6Il8BQekV4XGuMNeGnHQNv64vJsEiYuEr59z8oJXJO0mRTu\n",
       "OpAqryfLE96P+CjhdJYgiiPRbxqFxgiyn2l47V3xEAAAAb1BmqxJqEFsmUwII//+tSqAA1GwT4AX\n",
       "l2HxwIC3Rt+9pvSNAjhjl8/VqmI1lxZnMUvSELKh+6jxzasrf/szRqI4LsZu2zxBDrvWnlda0cgv\n",
       "OSeg4dCVr0GXXvr+lxECIab78KF3KgiFC1EihMJ63FWM59R14W8R+omIZRFCo1XidgIonsqvapMp\n",
       "x8lsg+1XDwXwoQErsieGleg3lnjjVQFTO9OqLahLA+ryU9L8p2hCrk3Fgs+am74fVeL3+NU6+iIB\n",
       "ELh+ugYajPXADYlk55ZrroClh004/7HmaAoFU2eNv5S7z0MVCzA1FyaMvGZ5JgoelGqvPnkbxoVQ\n",
       "XEXjGgVjSSpKOBbcx7wPpv5gTmRfJk/J+b2Bc7iBBZlKDK/csP/vo3bLoznvqMaL04sl35BTsKL/\n",
       "FQD078mxgU6h2ukC8MFR/p0+FCA7HdCohOzi+/af68RWxP4G09PyaB2TgknbSiA6MZckmpCtNmJi\n",
       "PFgox+IqnJmytV8fd/9N+jWwOtrOloa7o7IDudKYDRsSmgaekypZH29WcS4G32jFaqG/O83RfI8n\n",
       "YM4c8+rqq37HVJHYoLx0ynGscp7qOLiAAAABDUGeykUVLDv/AAz7LRxdse/6NEBdcvpoekJpPowm\n",
       "Hao/TLZC3fMWkbBqnWquUyUNc2UTGXPUQgDcgllWQl+Ty8vf4YiOR554py/6txEGnPoIawSKy92b\n",
       "MlkPOGsrjIS0hZT9PAzDXaBGp0Pwfz6wMoNTp1C9i77ZI5hCXUvJy7oIOcHiiSoirSeOK0GSnTAw\n",
       "54RjtHembJbaPZaY4sHqPhQS/51M/HXNf9n6Ff0xYv5G0GkRe2Jhkg8/2k8okY6fs2R44mNEUnOm\n",
       "9bk1g0loI/cjFZDU26wBMTQanOB8nh7qTtbC8rsQsQMtg9yklKiNMaTgZdR+NEV8KNI1bE7NzB1o\n",
       "bXiLu6ctNk1sgKmBAAAAxgGe6XRDfwARX5cVOZvEH7YhZLGAgmP39aOU+7fv0yittXJnesf8tQle\n",
       "rw51tmdgaDrlvGoTVLM6DZGbyCSJq6YlcaDE/cMhhDlR0HHembP/vqbmHKE6criYIQFr8JUmeP0G\n",
       "hTImrng7uIR8ozlzwZZ3JZSpmaqvFB26RJfpbHTVlGDzxB4tJtQLZ7yoMRvNTE8nY0eLPs+VkyAX\n",
       "vyEL4P0+wU/Yqg9UnLJhNcmlR8vR3aRyvdyfBDsKvf3wvsKeMZ/FviKLgAAAANcBnutqQ38AEl+X\n",
       "Oe19SJJ/sqhyuMaL8B374PS/oKMc5KdJfc9DvW9uafeqHsZWkGlZDrQf6UY0oExaolnekAjI7BkV\n",
       "Y65ZETTFrcDidQ7JOcgbTsfVx4GK/A+HIyUvuWwZjc9mlm+Zm0w40jtQeDmVegCBxWuS/MgXx+/A\n",
       "IssuM0DjEBXOmiVCOOvMvjfA0tuXsOx8hZvlbgylrcxTLT9d5nvla3K0Vj7fjmda13soKE7ncsA7\n",
       "PJkjCmOP289ddIA07WA9TAlSkpxLhS8ARQkVbKHaTl9fQAAAAYVBmvBJqEFsmUwIIf/+qlUADZUK\n",
       "5QQmwzqRuCJs4AzNrArCKi4yRLvAIL7uRJ7mbYkhx57j8f/OTkzOuxr6HKQILsXuxPk/DkUGa9R3\n",
       "8wbYztCri+xCAcUszqFuPQGxgqBbVYqHXC7f2M+3IRjwhUSNFd4Ph4ZnIp+YF5BejYtqzAknQyW9\n",
       "3mrUklJnacEu+GXKqUQG29u5H5WaZOFt6d6cN299r/DZLBb/qEQl/wISmR0x/b2uWLZQkalBxQGD\n",
       "vo+etjbH+m0Xl5RGbelgvcN1XeniIY351oM8lylzn3UjmapqQu+SEMLEXHE5UZRTwAPOX6Za3T/G\n",
       "IKMLb4klfsFxuNaUjE/mI7n6r2y0Qj9Ttzfiz48S8kSLx5N6rt5NGjAzB04LrSk9frTiuZi5cv9U\n",
       "QuUb3VwctFOFo1LGSF8RdV67KJznOcQ3IJz2zqjo53ADq8vdfjjVGLPvedlhD9IMJpunzsqpZgmH\n",
       "o4QHfRPNGL+6VJ0DROpNJvCOYZzEDyVyWDQeUQAAATZBnw5FFSw7/wAalHqM0o/4pJOeDAiBOwmB\n",
       "GEjBPKJjiDBPIFYxTvMmQxjf2GLtspFSBubRKiH1yLHB96ccEkzU4HupyWZQAs1ZylaSyWxbOG05\n",
       "mdA6QUpAsSSTnY2g0U+VfZFRFRMOyfIvXAzdOgbSAMv9qB3L8kfXmE7uR24W2tghor9llqrChDSH\n",
       "ooc5A+BudxKa2uf5JChaRkc3MhkEKkKVsRORAK7vBCTzllHx/SMx9Iiq9BqZAL8NIV7Csrji9Xs/\n",
       "X9RPvdmA4Oqr6CzCjfkCp94XruD5dJ5vvnrzwYFh9Xqxf7V3te0CuBHYq2ILYWAn7Ez6oFLG/9gz\n",
       "n55CclxaUhmB9l4qasOacrzRTKOHvx+kA/wmrDgOOKgsUYAX7OtPy5tm9eTbb92Txvf/dSXRGkPB\n",
       "AAAA6gGfLXRDfwAivySRfP9YduV80QwzjsmF6JzOybz3ZzJPMKDxm6ETC6bY/LKoFHRNcuBBlulv\n",
       "3NfTAGFqjGUOLtgDIL8KZuxz1nl/KBPfhAH5jKip+165ceKw0Sl2K1d+FjljyTIz/reBgC1uzLZh\n",
       "3Bqc8LCz/RriahLMgWtxU/t4DEUaFgrBIJ/7Trz+K4jKdnpoR5ORru2e2M5qYa//FIk57klEv3eL\n",
       "hhwIseOrGtoUcMZ/ain6xMJtV6O0xSkztcLOyKNcGG++7EzXfTiAwsxCuN1xiq+BqKjFJGeL4IxA\n",
       "CNkMH8QS0vkCGwAAANIBny9qQ38AJb2qdmG3E5fig5qmR62Ma6O65z9VTjp8Nx5OmT/66p2vpPq8\n",
       "CE6cP/DqEs8RdKqcayhimOpIfI3gvy5Wc60feWKhovZBj71PF/neZ57MuDhcl78bV7nnnxfXrhc7\n",
       "jW/Cuj/7Hw/GAozqHrNhGbASnYA1RTHPc+y1FEI8shpbHOcR5d6Ibg2kRMt8foaWgE3i1ZcxeXpH\n",
       "ScyWHE2OBIzu/FCzhbsivVa7hOW9Zb4xcWvOUHnMwJ4EL71zfCT1Cwd9pa2C3P+dwXI3x0AAAAHn\n",
       "QZs0SahBbJlMCH///qmWAGq/l6gki+/SGLoJrOcW6BEjdz+7ygcyd9m0fQWLZGhNr2g86LOgsOf0\n",
       "Bnlkk+e1KAYTHVt8ogarB57YfcZNf6VEcVoXemHuJv8gMm4G48Vbgs+HOKohhIvJXH6SStW8t4lN\n",
       "z5QCyfQWwoupeLpiFON3jl7gEJeDl6lnTrz7BudTbJIGL4TfdVZe4964KtHBQ4mkqq9/2GcHigDq\n",
       "r4sWHOvTzrI5gdcHxYodiNB3eIS1QsAgKgFcQ2yBMzYAmLVwtcxya8zg/Y18XfzD4Uway0LmCPpT\n",
       "imQ8991bFM4VQBQOLgvfj0z/kO5A9BxnkdLAAOcx01e/S2SkDtOp+ntiLrmvI6Bo/D1wBcYUY/tV\n",
       "UaFdyvJOtiyzbM4nLHvABfdADfff8hMTqemRo9EP8uz9QgDFA2Bp7TMnEsZ6bhCBW3Qm9WpVVn78\n",
       "tclHmFhV79Rj/4TJpT1s/evEGAZiU8TsuomU/XPsbLz7mFBx4tO6JeABPD5A1wEn+QkQROW6aq9a\n",
       "9teJGffIreM/BW1XVtgwKK5TW8Ig6akMEBx9gxTGa6wFkKw0E3THO+OkOld8Gh7y6LIEqeA1NR83\n",
       "Cc9q7SdEHiGtusDR/Ocrb4Ui817kf2QYrrKGhF3LwgAAAW5Bn1JFFSw7/wA1KQH8cxxwfCQ9UP1q\n",
       "PljcMoFBVACQjEXtHgAc35fKwzBcsWQume6YpKDlnstAWxe+1BIuEvx0Lewqda/OZ2FuLYVGX+gu\n",
       "800fY/s8xpvF8sw7S4PnrSoE1leSl1C51sSTUIt6qBYsPhlkcmT67NCOkxn9FM23t56ydRpTZ8GE\n",
       "ecHiZ6skYfWQGUvl5vG2Bm34uAc/OJ/5iCgY/SgpXPitR9KLFSZLMgyf8jC23qN2buATaQnyTRTC\n",
       "soqtoHQFROF9pAOfX9t8F6olMrTsHHOUGcUdECGBObl/gGZI5yVC03+nkh4ty+T5tIpvgnu8AM9x\n",
       "/2L3d5TpPFC/+XlurVReFVXixee+APicFc5RF4kZlhSwfJnZWdIn5X6UIyR9G6NVz3inpsiBDnG7\n",
       "VyeyLRRrPc6SlzeRYh1L4kprASnFEqtnUZIWu48IZeqGt9q5Y2YqXTZ8xgWYg64r2qMAHNME13gk\n",
       "0zEAAAC4AZ9xdEN/ACW/IQHgbQyl06qbL/Th2vabHm/7miLPqv9+r7doiSUdOlsKqeCKJmaotY4W\n",
       "LOjaHZpWvei+RDDLOvgwtNtIY9GvaqXVEd0mho00UFPuA8osMqNO/nmS/gacIWR0IqPY2S0+kX1r\n",
       "bRq4PSS8Yb/uE6uLM4vMSJtGCsGUZ3MnKdTVsEKCrBXce4XLk8rm2Wbp9TT4yP1QxwC0ldthZqvc\n",
       "0oJCFQqDSx6xx3JnEeGeWF4ljgAAAOoBn3NqQ38AS3tU7jTNBPX6hrQUdsLXLBPRnGJErr7PkjQR\n",
       "TUMNR/2cuYOPDP4Q8bTPA6YL0A/CUY4obGN7/kFCbh+3OXnjkqkKjAJWHw75Tw2lWAciACBr9nml\n",
       "3a0y2+yAREhWTiuJBD/vSeZseZsut+EREJhs1K6JHa5uI6vLFGHwgWaWTJ6D0HrcIgmyWlV6o1/g\n",
       "d7F1MijBGdH2JnHzvhYmWSIG7zBhfle4jhkzl3A8cdA4rdRRGtHT6a78SwZTt/802tYJexmTCUPx\n",
       "NPZWUp1Ns83wbMzX7EvF146qZ23cvOp6jL+hrXMAAAFsQZt3SahBbJlMCG///qeEANvFa8AAhYd8\n",
       "WxoGF0fudkkyen5m9xZlIB9PyB1tX+KkDYbJemiSswdrhPUeuawYc4mf80UYH8KkJQZ9vvizT/4s\n",
       "cPuL2lrayTdtY70h5pLGK38AYuzvAi5tLcFlp1H/BBtjTlUUgBLodcqON5M+pxEaLjrelieePtHe\n",
       "YjjzPe0D+/QQAgpP4wrGTv0UP3r+uOdrDCHH8PRZnLoWC+or7JcTTss8sEuCu6aMfvtCQyH6Kjzp\n",
       "A/8UpPMQNwONPSNEGMnN928XzESRIeCZpmGKq2Rm3Y4+WufmtWTOdoXGqpXJ4wkJs4VT0LmiCLpF\n",
       "8Wgeq6uDFgRxIbfbjbMpf0u8nSwNmQ6Tqjl4S5RNTcxbXiw/kR0iixboZjgpI4eW+QPIfnal+qSx\n",
       "Q+BHPq9UIvkre3O93jWYGVC71hKymF1Y5E37t7yGIL38AboxPkmz998est/0rsY8osWA16LQ6QAA\n",
       "AOdBn5ZCG/8AR2aUbGXEkmcN6wAQVGx9CV6Rl928omhytGPHN3GgRTLxr0uLehBe2m1+w0/PvQ2l\n",
       "vGB3jaSYNvaLY6M7A/sMa07oMEkW0k9gWxyN6TZerPfRl4V7sH9N4SiKyu7SlvST6P/WHII9f9TK\n",
       "aKnW6tc2rZwP+yWEm+LpRwws4gc88+CesVprAKRTtdeWJkfbi/4QEq26rKftZ592XxkTDfu3706i\n",
       "aEZsDLCVarDO13XxqWxTT/eR+VKKQ7vs/TtodzdT02zamv87uHxRUgYDPfWYDjIy0fOFVa6v+nAz\n",
       "ZOWAroAAAADGAZ+1aRDfAE1thhQgBOkZOQNDGzlioDkd6lB/c07j9dtfY82gWba8t1XnCc/bk0pL\n",
       "n9Ks1oN1rIIhjwEUzr2ESC8KpKuHRyEL7b6WGwrR33LBPdz433ptkUBiGPxScg6BVcRN90nmh/8r\n",
       "HyNNCNVcUQB/dDYdI5Ws7JiVa8I98v8s/S9WQ7IqIWGDNp6R1HSxjPbQXMZW0JKvG/rRO4jsByTN\n",
       "zvviTTf3/fgV8Yfuuo/pvJMlsPA8qET39hDTgP2wshANx5KxAAAETm1vb3YAAABsbXZoZAAAAAAA\n",
       "AAAAAAAAAAAAA+gAAAlgAAEAAAEAAAAAAAAAAAAAAAABAAAAAAAAAAAAAAAAAAAAAQAAAAAAAAAA\n",
       "AAAAAAAAQAAAAAAAAAAAAAAAAAAAAAAAAAAAAAAAAAAAAAAAAAIAAAN4dHJhawAAAFx0a2hkAAAA\n",
       "AwAAAAAAAAAAAAAAAQAAAAAAAAlgAAAAAAAAAAAAAAAAAAAAAAABAAAAAAAAAAAAAAAAAAAAAQAA\n",
       "AAAAAAAAAAAAAAAAQAAAAAGwAAABIAAAAAAAJGVkdHMAAAAcZWxzdAAAAAAAAAABAAAJYAAACAAA\n",
       "AQAAAAAC8G1kaWEAAAAgbWRoZAAAAAAAAAAAAAAAAAAAKAAAAGAAVcQAAAAAAC1oZGxyAAAAAAAA\n",
       "AAB2aWRlAAAAAAAAAAAAAAAAVmlkZW9IYW5kbGVyAAAAApttaW5mAAAAFHZtaGQAAAABAAAAAAAA\n",
       "AAAAAAAkZGluZgAAABxkcmVmAAAAAAAAAAEAAAAMdXJsIAAAAAEAAAJbc3RibAAAALNzdHNkAAAA\n",
       "AAAAAAEAAACjYXZjMQAAAAAAAAABAAAAAAAAAAAAAAAAAAAAAAGwASAASAAAAEgAAAAAAAAAAQAA\n",
       "AAAAAAAAAAAAAAAAAAAAAAAAAAAAAAAAAAAAAAAAABj//wAAADFhdmNDAWQAFf/hABhnZAAVrNlB\n",
       "sJaEAAADAAQAAAMAUDxYtlgBAAZo6+PLIsAAAAAcdXVpZGtoQPJfJE/FujmlG88DI/MAAAAAAAAA\n",
       "GHN0dHMAAAAAAAAAAQAAABgAAAQAAAAAFHN0c3MAAAAAAAAAAQAAAAEAAADQY3R0cwAAAAAAAAAY\n",
       "AAAAAQAACAAAAAABAAAUAAAAAAEAAAgAAAAAAQAAAAAAAAABAAAEAAAAAAEAABQAAAAAAQAACAAA\n",
       "AAABAAAAAAAAAAEAAAQAAAAAAQAAFAAAAAABAAAIAAAAAAEAAAAAAAAAAQAABAAAAAABAAAUAAAA\n",
       "AAEAAAgAAAAAAQAAAAAAAAABAAAEAAAAAAEAABQAAAAAAQAACAAAAAABAAAAAAAAAAEAAAQAAAAA\n",
       "AQAAEAAAAAABAAAIAAAAAAEAAAAAAAAAHHN0c2MAAAAAAAAAAQAAAAEAAAAYAAAAAQAAAHRzdHN6\n",
       "AAAAAAAAAAAAAAAYAAAYAgAAA1AAAAFWAAABCAAAAQsAAAITAAABWgAAAPYAAADnAAABwQAAAREA\n",
       "AADKAAAA2wAAAYkAAAE6AAAA7gAAANYAAAHrAAABcgAAALwAAADuAAABcAAAAOsAAADKAAAAFHN0\n",
       "Y28AAAAAAAAAAQAAACwAAABidWR0YQAAAFptZXRhAAAAAAAAACFoZGxyAAAAAAAAAABtZGlyYXBw\n",
       "bAAAAAAAAAAAAAAAAC1pbHN0AAAAJal0b28AAAAdZGF0YQAAAAEAAAAATGF2ZjU2LjQwLjEwMQ==\n",
       "\">\n",
       "  Your browser does not support the video tag.\n",
       "</video>"
      ],
      "text/plain": [
       "<matplotlib.animation.FuncAnimation at 0x10f51c190>"
      ]
     },
     "execution_count": 3,
     "metadata": {},
     "output_type": "execute_result"
    }
   ],
   "source": [
    "grid.U.show(animation=True)"
   ]
  },
  {
   "cell_type": "markdown",
   "metadata": {},
   "source": [
    "The next step is to define a `ParticleSet`, that lives on this grid. In this case, we start 2 particles at (3.3E, 46N) and (3.3E, 47.8N). Note that we use `JITParticle` as `pclass`, because we will be executing the advection in JIT (Just-In-Time) mode. The alternative is to run in `scipy` mode, in which case `pclass` is simply `Particle`"
   ]
  },
  {
   "cell_type": "code",
   "execution_count": 4,
   "metadata": {
    "collapsed": true
   },
   "outputs": [],
   "source": [
    "pset = grid.ParticleSet(size=2,             # the number of particles\n",
    "                        pclass=JITParticle, # the type of particles (JITParticle or Particle)\n",
    "                        lon=[ 3.3,  3.3],   # a vector of release longitudes \n",
    "                        lat=[46.0, 47.8])   # a vector of release latitudes"
   ]
  },
  {
   "cell_type": "markdown",
   "metadata": {},
   "source": [
    "Print the `ParticleSet` to see where they start"
   ]
  },
  {
   "cell_type": "code",
   "execution_count": 5,
   "metadata": {
    "collapsed": false
   },
   "outputs": [
    {
     "name": "stdout",
     "output_type": "stream",
     "text": [
      "P(3.300000, 46.000000, 0.000000)[164, 49]\n",
      "P(3.300000, 47.799999, 0.000000)[164, 139]\n"
     ]
    }
   ],
   "source": [
    "print pset"
   ]
  },
  {
   "cell_type": "markdown",
   "metadata": {},
   "source": [
    "This output shows for each particle the (longitude, latitude, depth), and then in square brackets the grid indices of the longitude and latitude."
   ]
  },
  {
   "cell_type": "markdown",
   "metadata": {},
   "source": [
    "To plot the positions of these particles on the zonal velocity, use the following command"
   ]
  },
  {
   "cell_type": "code",
   "execution_count": 6,
   "metadata": {
    "collapsed": false
   },
   "outputs": [
    {
     "data": {
      "image/png": "[encoded data removed]",
      "text/plain": [
       "<matplotlib.figure.Figure at 0x1064ca290>"
      ]
     },
     "metadata": {},
     "output_type": "display_data"
    }
   ],
   "source": [
    "pset.show(field=grid.U)"
   ]
  },
  {
   "cell_type": "markdown",
   "metadata": {},
   "source": [
    "The final step is to run (or 'execute') the `ParticelSet`. We run the particles using the `AdvectionRK4` kernel, which is a 4th order Runge-Kutte implementation that comes with PARCELS. We run the particles for 6 days (using the `timedelta` function from `datetime`), at an RK4 timestep of 5 minutes. We store the trajectory information at an interval of 1 hour in a file called `EddyParticles.nc`."
   ]
  },
  {
   "cell_type": "code",
   "execution_count": 7,
   "metadata": {
    "collapsed": false
   },
   "outputs": [
    {
     "name": "stdout",
     "output_type": "stream",
     "text": [
      "Compiled JITParticleAdvectionRK4 ==> /var/folders/r2/8593q8z93kd7t4j9kbb_f7p00000gn/T/parcels-501/9f8658500c543573b6cb42579adb2bd9.so\n"
     ]
    }
   ],
   "source": [
    "pset.execute(AdvectionRK4,                # the kernel (which defines how particles move)\n",
    "             runtime=timedelta(days=6),   # the total length of the run\n",
    "             dt=timedelta(minutes=5),     # the timestep of the kernel\n",
    "             interval=timedelta(hours=1), # the interval at which output is stored\n",
    "             output_file=pset.ParticleFile(name=\"EddyParticles\")) # the name of the output file"
   ]
  },
  {
   "cell_type": "markdown",
   "metadata": {},
   "source": [
    "The code should have run, which can be confirmed by printing and plotting the `ParticleSet` again"
   ]
  },
  {
   "cell_type": "code",
   "execution_count": 8,
   "metadata": {
    "collapsed": false
   },
   "outputs": [
    {
     "name": "stdout",
     "output_type": "stream",
     "text": [
      "P(2.024544, 46.088627, 518400.000000)[100, 54]\n",
      "P(2.017195, 48.305283, 518400.000000)[100, 164]\n"
     ]
    },
    {
     "data": {
      "image/png": "[encoded data removed]",
      "text/plain": [
       "<matplotlib.figure.Figure at 0x116f18e90>"
      ]
     },
     "metadata": {},
     "output_type": "display_data"
    }
   ],
   "source": [
    "print pset\n",
    "pset.show(field=grid.U)"
   ]
  },
  {
   "cell_type": "markdown",
   "metadata": {},
   "source": [
    "Note that both the particles (the black dots) and the `U` field have moved in the plot above."
   ]
  },
  {
   "cell_type": "markdown",
   "metadata": {},
   "source": [
    "The trajectory information of the particles is stored in the `EddyParticles.nc` file. It can be quickly plotted using the `plotTrajectoriesFile` function."
   ]
  },
  {
   "cell_type": "code",
   "execution_count": 9,
   "metadata": {
    "collapsed": false
   },
   "outputs": [
    {
     "data": {
      "image/png": "[encoded data removed]",
      "text/plain": [
       "<matplotlib.figure.Figure at 0x116aeab50>"
      ]
     },
     "metadata": {},
     "output_type": "display_data"
    }
   ],
   "source": [
    "plotTrajectoriesFile('EddyParticles.nc')"
   ]
  },
  {
   "cell_type": "markdown",
   "metadata": {},
   "source": [
    "The `plotTrajectoriesFile` function can also be used to show the trajectories as a movie, by specifying that it has to run in `movie2d_notebook` mode. If we pass this to our function above, we can watch the particles go!"
   ]
  },
  {
   "cell_type": "code",
   "execution_count": 10,
   "metadata": {
    "collapsed": false
   },
   "outputs": [
    {
     "data": {
      "text/html": [
       "<video width=\"432.0\" height=\"288.0\" controls autoplay loop>\n",
       "  <source type=\"video/mp4\" src=\"data:video/mp4;base64,AAAAHGZ0eXBNNFYgAAACAGlzb21pc28yYXZjMQAAAAhmcmVlAABn/G1kYXQAAAKgBgX//5zcRem9\n",
       "5tlIt5Ys2CDZI+7veDI2NCAtIGNvcmUgMTQ4IC0gSC4yNjQvTVBFRy00IEFWQyBjb2RlYyAtIENv\n",
       "cHlsZWZ0IDIwMDMtMjAxNSAtIGh0dHA6Ly93d3cudmlkZW9sYW4ub3JnL3gyNjQuaHRtbCAtIG9w\n",
       "dGlvbnM6IGNhYmFjPTEgcmVmPTMgZGVibG9jaz0xOjA6MCBhbmFseXNlPTB4MzoweDExMyBtZT1o\n",
       "ZXggc3VibWU9NyBwc3k9MSBwc3lfcmQ9MS4wMDowLjAwIG1peGVkX3JlZj0xIG1lX3JhbmdlPTE2\n",
       "IGNocm9tYV9tZT0xIHRyZWxsaXM9MSA4eDhkY3Q9MSBjcW09MCBkZWFkem9uZT0yMSwxMSBmYXN0\n",
       "X3Bza2lwPTEgY2hyb21hX3FwX29mZnNldD0tMiB0aHJlYWRzPTkgbG9va2FoZWFkX3RocmVhZHM9\n",
       "MSBzbGljZWRfdGhyZWFkcz0wIG5yPTAgZGVjaW1hdGU9MSBpbnRlcmxhY2VkPTAgYmx1cmF5X2Nv\n",
       "bXBhdD0wIGNvbnN0cmFpbmVkX2ludHJhPTAgYmZyYW1lcz0zIGJfcHlyYW1pZD0yIGJfYWRhcHQ9\n",
       "MSBiX2JpYXM9MCBkaXJlY3Q9MSB3ZWlnaHRiPTEgb3Blbl9nb3A9MCB3ZWlnaHRwPTIga2V5aW50\n",
       "PTI1MCBrZXlpbnRfbWluPTEwIHNjZW5lY3V0PTQwIGludHJhX3JlZnJlc2g9MCByY19sb29rYWhl\n",
       "YWQ9NDAgcmM9Y3JmIG1idHJlZT0xIGNyZj0yMy4wIHFjb21wPTAuNjAgcXBtaW49MCBxcG1heD02\n",
       "OSBxcHN0ZXA9NCBpcF9yYXRpbz0xLjQwIGFxPTE6MS4wMACAAAALBGWIhAAR//73iB8yy2n5Otdy\n",
       "EeetLq0fUO5GcV6kvf4gAAADABacmWev4eSe1ALSKopsZrR9JDG49NUhYrrncS9de0dU4jZKfPI/\n",
       "7/+94t21Iq6q9rJ7Lfn8vZWzZlop4vDgNgJ0L3Eb/dAjxYWiV7Fuz9I3F7Dc01wCSiAc3EIMfbQG\n",
       "30+Ry6nYwFIpKAdEu2QHyBdEJwaSPHuOmZ5K1HUYcXdJ40+n88H9SiXM2EhBksUtd1A/dbipVVbT\n",
       "GZbVPNoSzkrFyWxgz3fuPVoDpGAGX2Ta4qSTvqfIRN5gMv71gmOeO2dZpU33VehJVGJgX1moR0a2\n",
       "UkIIMx/WZVseGOu+sXLDprSphzb/v/SecFBmuqCIGCdf6D8+WUjef30+bMKuLcd4nvoWP48DgHkB\n",
       "MtCiZM8oimzS3Czo1ErllIAo+NlmpCAF98EZXoJCuvVSsXTCYNs85UnUXQyskfTr4tilR6AyU/6W\n",
       "Vf+uVXZ8J2/Iq1lAYwjgSVjNU2HUAEiaPVFXZF9WLJxgKJNHjfVf26I9kQUYdXt3PrACRqImROTa\n",
       "HI+A60ffV+E7zTvKqcSsCpt0FTSRujk6K4T25RloSDKSbiuK29uFthXwl0uGaOe69oBHMkJAActd\n",
       "xzlomiJExBKs8sfEDi69wksb2Y9TJ7qbMmP+2L4kHXHWdSi8Pi3BYiJd9saYrv3IHX+aHaQi4iTz\n",
       "zobe0QEWEwzAMWthDL7/NoLDU9u/fb3J6IeAegiZ2nI+Unq2ZTdspb1JO7SADTDeDPS/NjTE7pCO\n",
       "q8pdbdgA4NXHmXAETfIXbJvA4fmjLsR5e1s4MrV24fSpTleXRqOkcMnyFrSSLX2VuigsQxostAGk\n",
       "s1wPNv3LNj0fOW7rPNnxVc2PBuuJIbF1seeb2JScea3eWTNUxw7v+cmeOKoyp6WlahsLJy8FRZWW\n",
       "xaRB0d6pJXHAu2mcE0xD3cfWEnvswvB6wr5z3fYu+c9w4cC6ZPv2tQrMmCVDsv4nD2prxDY4s3u6\n",
       "OALCvWXftUB7ykHJ+wV1bB9WJmEx/y+aTAAuXRXqtHbvCts1S2reAYKJcejn1ROKTlok3OeJRjgF\n",
       "afC2UkMEpnWMNfUM856Oop73mihnjBG8zVTunwfkoJ11JPAYE2Ax76lHfwc5r8m+Z3JWXwumpdQ1\n",
       "SOmQk9N003lsXKP+b8vybHsWtHtnErHzCrmBFxnwIETJhC5ZO29HnyECF+bDZlQlhHgipGTfsO5W\n",
       "1deFjF2RDEr95hI4ouAtd1nIuNnfVryyeH0l6u+Bn1He9UjTSBr81ROclVXlDnSO72gG6a43E4Y9\n",
       "6tcl0cD5WGHFUnD0mBJJyu4tXWD2RUUSEyGfEbdTOzQJxa0CtiXqafRqDOS391/qf0cZBglzwujc\n",
       "XqR5h+p1DQnJLt4hoGBVJzFQ9pKjJCRTHUxmaXXBCocnGmsbLhfvu6OCC0tRZjaTxESgN/t+inLv\n",
       "3TgTQtgT54AGDu85LP3POPulSaJMLm4LHIFqv1HOWPUYpmVxFIsW8NrVsRAYMVTGnUATDHQUtvWc\n",
       "NPIg3m2fbmCg3wBqsaT4tj4gj7Pd8396LKyDj1gcU/mtpRbFXxBIxVs+qRXnWP5BI3z5NT9wmx22\n",
       "O8gBE9gZRowgDIOUyb25+Ao3i2+AqQOJqquHZhF1ZuRefpM+0P/3/qUB70o50qiPXWx5xB+i/UF+\n",
       "0Jff1YAwm158c16Je6/YAUv1QKYbIVADtHbZEqTMdC1SNiP+aUatj7S9Zi4vC3VgjLgcX9kt9QN3\n",
       "0BR8etfdiuvtsJKxfkrY/LjanRtkg34Gd1KcsnphkVXxIccDw/ZSI2vk+BfcEbc1MRMZi+kJGA4R\n",
       "ySqBO3P0vQQeOwBM9LzXjaMLJW+E9fF3Oj/He7yyRQYGuOtHWBB8WjaEiVJ7fSNKbI9i3jJ/9dbU\n",
       "67gFgLyMJv2n/xy3qBG8lVhjlEhWJhh5S5rhmP/CMHUFtOsYSWgiQC+yXRtwwM7wJiubeffb8F+D\n",
       "bg6Q/aZKUSHykPz6brx7Xoy3JpoBRefGd6IYQ9D7Js6VTrIf0U0hj7MVcbv4TpUJ+G1PfS/DbuW0\n",
       "l+Ztfemf7RB9GBb2B73YT88j4KV8ByeaWqYJ4Jy7SaPoNFLkutxDjQuQ7QFjZz3BATei7gtJlrpY\n",
       "pc1opnJcmS1hxvAAe0mMs9tAoXNeJugShKfgZ/x1v+GC1c1WQEIRdYTBHa2qvW30jIDi5QthItzp\n",
       "hnLykFOvhyTY0dv+kDgo80UX3tTKY8SyoC55raCouwvpyH4MJg/SYVNLek3V9x5Y7N1U1ZIvvmhJ\n",
       "QW7Sp8Y+RvqVb0DISNHZDp2qL0v+wBOL+dleX2T7vKFe4IrxRTbItsAOFIdX3Dd4bXgeL2dK7ba8\n",
       "t4xLQlTrb16qkgUUolYtgzgEoJkoCBXjKKm6JBkKRdNr6/ur4ZlS/tk9+0BZ32IxEFhhMyMWC5eZ\n",
       "9a0yAATqhbGk4Yr2/hShFwVzFvONupt6pv0csFBPgiLYNHqW8MuIZ8Sr2+vYc0g7seRSxTigh48E\n",
       "8GF28+3l6Tq5mQu2EycOLp7MelFXWDMNV2MmceFPa8Fj6iKfQu1SXFr1ThEypA56ZaVwKbVQxI9l\n",
       "GGI8DAOkBLH6iCuyrbMjBZJCegvnBYlcgifXS+4sDcsTUzRXL3vgTk+HVPclmivvweSGQJYD8Gf1\n",
       "qo6OnriQUpgxcm2sF9pACEHFDwoT5BcpRv4CRzf5vkqwmi0cBW5JADkX+0PQZdiiiMs9fP/B6kgD\n",
       "Rs61uOjdrfPUjDJkjdkqcyAhKUz2gV63IoMu0kRXgZixFnDDnGzexQCYbjeeG1g1PeTMv/OTTaG2\n",
       "kk6pk0LloaDQkPAHx3jXsFg04vnPIpKgr6xxXx6IJWM/8rOq2oYWbJq2DVXokZgS+sJ0OhJGcpcG\n",
       "vSTrJbgSqsMsXuw3E6n2cqs+19eu/Ib6/Gz8oXRu24XkWdkntjQsS71ophgKG5YabYGpaYbtoVMq\n",
       "+SPZa+FGTvBfs3b7Pqo8zTsOB3L9oEu6ZGic2tMGz93dboBsJUAUpe1X0NBglPe3YP+wVDycC60a\n",
       "9HZ/nDVVFHsdnBPTeTgiHrbkMi6+N13HCSGGSWarJ+9pBLa1V+40385/g52tITul3CpjxtEjk494\n",
       "Qw/2RuW5PxNWAmYZo9hS2Wp+1WxSafr+MrlsQ3+0iS6tFZaFPNtKEGTs3GGDN3t+VssG+GqqKO8B\n",
       "BHch8LQjN2PyjzBGlbpPAxSiDCDjWTc0gtx5grFl357lFwAK2hM+/nwwaGRI60vkjcHIHEWLRVAi\n",
       "LL/4LW/u37KFY4Ltnp+lX6B8tTwyB+3zTV6QBRMhd9iiSxIydw76h2rXo7P84aqoo8iOV3f1ycEQ\n",
       "9bchkXY3g3dQB4gwm5jfChSvnDuHk9VnKydeIt0sobofduwB2ZQ8EHDIrrlaCzazCt1fk7m4RJhR\n",
       "J/5Sy6SOoTY5C4yq7lwC/w1poo7gHpV5HgOzGTdZ01s8zbBH9Wmduon11yWRHyDNWDtaZfgUstO/\n",
       "AmHxIUiuP6NyeHogLqhzQKAw9pyMbE6oeYdKHby1ECyPnYB7YAlcpru7Qm4Uj24CLGPXpgZhFc+o\n",
       "+iNlJNg4TniBswNs+aBPkCpYMA1KqI4CvVa0fj7M2wR/VpnbrtxVL15/bsOi6S0y/ddixKK0qw2R\n",
       "x2Pdmm7Tw0gYAsqJ7uKx0+or7+SM7oBi5FRuIdAdXeNuOBBqhFAlTIRLnt/ij+iJ8LVHeAz08w2l\n",
       "eyt+IkiVABIZsQAAAYtBmiRsQR/+tSqC8p1IATX5OnFvf8PjmVDnxfr9/aN0pqaJxBLcVPTDNlRr\n",
       "9IuJC2bwXj2D8oiQv++oHnf+NLQDjLzTPr8N5yxPNnvO7z5cE1XVQ/5i24bSWgf6807K88L7SZKx\n",
       "iLXKcny7LQ5iHtS63J3X/0JGpStuzzxbkQtw1Op8dS9AXGar6coQUyhudiKaR4pKteqePIoAspWN\n",
       "DC6qGmK0wddjbT3jYJXWIn3yEy7WE+jb/legakIrIg2zLqwkKQU2PVOnz8TZVvWDNUE2ouojUA3h\n",
       "gmz45l+PxtrBnQxzKtMNkC1M44cXKUrfoeWhQ6S87qrrBtvPb7o76aNLb/CMS8bYZN19bRRKchXi\n",
       "t/z9BSGcBTaUURZE3nyH+8jPjhrK+9B1PeycL9MjwxJ398TZkVGSCggwSBA+HJ92LAVP62hNTzDX\n",
       "J4/Dpx0x0sdbjm5yj4dpBiuSrLdg0zrVPn3hNIchnxcm4fsHEdwllz0ibc9VLabtPckZB8ktYIBS\n",
       "t2wKirhbQCYDSgAAAO5BnkJ4h38BS6oG0Dx6ocvS/3EGrvyWRvbB262jAA1dJVSHkpbeHLpOBYpZ\n",
       "Kk0mG2uGzvXKVEYYujskUs9/y95bh/hbksd44+Y1OlHJnbQ6oSkBdFr9FiJqOSoH51u5XTFJAZLw\n",
       "3cnGF/D8a5XrE2AAZuAOilLaPUhxk5EG0feD+EVxBTde1f+yLsf3E6I/6iynn3niXzRIrPkY0zRv\n",
       "JUBrh+ynIYtLEW1ZYlbxw93xf+pNNuQH8kw3H0wNWkYPMPb+5a43hyQj4ALACjs7b/3lmi85pFLu\n",
       "DGjpv27+s+OK3SBG2ToEOVXyZmZY1xgxAAAAiAGeYXRDfwHM75LI4bqe3ZouMRFNTKHBy/CAB0GV\n",
       "4k8zxBaOM2erqv8707DZ3e+QkQxn+9iVLudngbojNgp1fDV6CccfTn/f7U91khrCIB0B+ZYmecz4\n",
       "VyD2PdmuarDTfSs8akawpIw0R66K4AI2bnl21wjrtjH2lM24pLDCE4L3+hJDQ3rZ2fAAAADqAZ5j\n",
       "akN/ABebciAaRjm/+pB0PgK1K6ib5qH+/+iggLLsOYHWRMbMBo/lwaFrdCPdmUt+iCawSfpVFPBr\n",
       "zJ397empX88Bi4Lz+yCso3+iq+tOOq7cVzz7Jj+80TtVGIy9kW9Tn/36sLlIXspm0O/XCVvKyS3h\n",
       "C1pgMljn+zp0PNYxpm+btl+qkM4PHW4ocPZ/EVBvdi2nMAtUyR9r5Xb3phi0qRPJwgcBv+Bqj/R9\n",
       "pkyMZ6o6Oea/Elwi7QTrOuK3qfnaB4Che1Uya1MAftAt66WStbiyU+GvTD8Q0jauJIs+eozFi6cA\n",
       "Q155AAABGEGaaEmoQWiZTAgh//6qVQASnlz+NOaa9ABZMsU9LdwDs/hc7X/DeyZ0M6DWrzUvXwB8\n",
       "hGYfu1wYr/Ld2XcPrupIk7X1wsHArAWOf3YpEoCeK6twiy5jgyFm+tmmsemYpyiJvtl0BETnYQAA\n",
       "d2AqXRTmpE4gE5aQARWsELcuGIAXXmYd9TrpKLDzmRBwSZBLqpSF7Yh9u5HGRAgnl0C5ZZ9i6nII\n",
       "42g8x+VrdEH4kalOdlkGjeh+okthOqOKvVYN12LtB/434Q1ttqT7BNPsoqzSK/xueoeTqWvStzBi\n",
       "FjxGu7Ll+FJoG0xAhBkO3tdchHXn7QTey2ogkAwQCeYO+oGMrAQYBJQgGIfwgLn9Mw+LPavbs9G0\n",
       "JBMAAADdQZ6GRREsO/8AJBH9duF/BV9QACMUGqt5YX4mwn1BHz+0ncxDcCGuueFmh0sut9Hoehoe\n",
       "2+Jcrm3lHePnyF6pxMMqavUc0vmaZcTEeULIfQrSXUmSbHlrsvx40QHko37+qmBXViIRSI2stN9h\n",
       "HEivN0KFusZ1nP87TQ9+BXhV/yhL8TbEXCXzaz0UyA9btvAlcfaLZxs1N16/ZWDFm9CjG/GWGsUd\n",
       "9XL57cKbYtgsia2zqF4uZ9lMkmbS3pq0kZbACWpISxH1gVSjyRNM0czbrKWWiWg0ZMVTnBQaYykA\n",
       "AACZAZ6ldEN/ADEILL4BzkKMbouWqAguu6wnJfMLQk4AEsoDOVxYDIhR10/Q9L4oZI3Epq8TDn/l\n",
       "oH9pWljibJ8SRO3+YfZQvMhgsUrJyvH0Mvvwx9Zc75Z58LhqKTCVqwTaO8OUgIX2arCiBnLHKy4Q\n",
       "OgRiEVAsjalRiD6mvxbs2lYoi6VOUsx12CexTDaZHor0zEdEtgqhwKqBAAAA3wGep2pDfwAzhb9X\n",
       "+HtS5gANXLxCYZrRktQoiX/RHdCqDSQwdNtsjGeiZVloAAU2xpTKj/nquTM8OfihtOM7pcmKO+4j\n",
       "E3vxffhltc4vmpYSMsrIzrzbf402Nx8qlv38lh/9FO/Lix+VRIl1FsfTGpXaXoAusGRpRjd/4St8\n",
       "pWzcGogt1TQqV/pCX8D7847EpG1RLt82VbgZWG+vA26qO9770LqnPMrBxtzPdi2EoKZeKskgvMUJ\n",
       "IeToc64cV+fTFmjhDbP2cTPPE6EqCFzJyP/Tmj7sJBEsGZYaypLI9sAAAADYQZqsSahBbJlMCCH/\n",
       "/qpVABS+G9TJbIaa4AInXlejcl6RjJ0oO8cVvcstTrA3hflOmvHe/G0gqq6a/V3ed0zI6nmpCLVr\n",
       "SQPZjhqQTzvzmmZwFdzODa2yHep1ZCciM1WmKsuwDCKUjQEY8OCIDKQX2oG+h0y/gg6R6YdvwzMm\n",
       "DLi9bXow4Iwqg4b0Sk53aTAr2IeNh5OY05JC5j5KfIqjx+uI7tRvM05sw/+Lo6DlnNl44R32Gm9+\n",
       "ow4uPj2gN/0AoHOadB4RF+gHu3ebOv8ue1yLPTseDxwwAAAA0UGeykUVLDv/ACgqvXbhfbqxshnw\n",
       "AGi13dkrlDioPsVP+YWxd4FaeCPQY3d5STZ/UdwMzogdm0dGYb+WMRruP6MkmakWnStQQ6+fxUYV\n",
       "wvOiPgO5aedgqzpnh5vJAPi011f+f0l0NP+g8yyDc53ZZvC0if0ivjkpYbUe23x6sr+Ih4DUZJIU\n",
       "rjr9vomjaIr8v+FvdIZE6qBELSWJd7WkxLY+HxaTOp2oV8tVlpdPXb5InzosvLy9Sp85MJ7Ji3dq\n",
       "s6B2xCtKNPbU64+9XiH1r/KtAAAAzAGe6XRDfwA2CC7326vUuk2ADmz/jIhWl4ZVEPtnt+Gfhnrl\n",
       "0Re+p55THSubTIeoMGEQ8GZukd90qsPmUgsIEiE3FwU1CRiSDjowDBcBqKR8biiqThrtiqZC4oeU\n",
       "zp/SNKLR9Hi+AHVPH/NbdBdV9ecj0Q7Yj2Qtyd5318xBINW0PY7U9elTAalzicUrQyr2qsknLt7c\n",
       "+gsUs99mKzpcvaOIFz4VSekqRML8fqM74hGT9mIxm1uDlr6DxzHfwanARiALkoI0+WZrv7BrLAAA\n",
       "AIMBnutqQ38AOKTr16EZ45Fn1oAOcuS2uDcxCEoh+sCcS1fRhFVbXS3gICxUmrimoGf+LfoPqAPx\n",
       "K4H4HXLyYwPA/kSWS4CvNZN49ki82oQad+4ZhHGUeSPUEW5Vz1p/792Y5ez0eV7NdvPel8s01Q37\n",
       "fyBBvWqUw87t3MGtbENsucgLgAAAAIVBmu1JqEFsmUwIIf/+qlUAFU4b/RizIFIAFF68v2QScJlC\n",
       "RyurF3ByEjC+N7VfUXYSTaoq6E11qd4HiodKkv3MA7xnw0uZajuIjMvJY6U9VTZgCvL5gcwZbXiU\n",
       "qdIQxp4R4GCgutHUiVtdk2YZKxMtGfhYhnIXHdni70M0+lnKItiE/OU1AAAAqUGbDknhClJlMCCH\n",
       "//6qVQAV3hv9dqY6eYAF061zB0ox45CZ1WANUBYkq6+ynLZhvPIvByOrLAC0mKTQKEN784D4y+IQ\n",
       "XB9buGHVd2kWMw79KB4vbIbtVs9aW2okqstota82ar38NHmafehmAOURYhuU5UmEsN3fqOS+19mg\n",
       "UOuxNkt4jTtcUfVkh40ipGyKC7O/f7uKwyYibE4oFb39A2aLc26ivk1geOMAAADDQZsySeEOiZTA\n",
       "gh/+qlUAFd+L2vl8f7CY22AB2aOGn3/wZFfuETKDc6Fb5JoILB5K2PVxV754GFbl43aOete0mjKw\n",
       "WQnchT/Wz1UKUdS5wpbEu9q1B41gjqmUQoCM7HzmZ/9+8C0Rv4I8lhhrOTPP9mLCda0sepIf1qJ1\n",
       "DKwpHIkI1XUY34xAibOEtS7u+WrAAODWnAX2wMBITipz0kSgw5GB8dvogKfOVwNbSHSF4DPKGrN7\n",
       "BW1nyz3BY1/7B7j8wiMDAAAA0EGfUEURPDv/ACpmLFWtXV8+adCMAJmS0rjVaMiPoHT/h9IlJ8WY\n",
       "+TZmr9HOYtu/R3jKqi8+KQsHMpwXJ+EZbyvsgzhXKTwNlizZDRHTM0z1c1UyaLibd/K98BJ0qwVp\n",
       "aQe9ae2UrzFIA9eVYpG2gaD5zNrHFWkBh4AYjOKd79hdZjPCZeAhrBxLCqV1iIM9yoKTU7Q8xgfc\n",
       "nkpvEZCnO9CfCjJqlnyvRVlweqEyqveAmD+y3pUb3zQFP7r13E6pNCZmN39rdapOCXqZTnYIn6gA\n",
       "AACBAZ9vdEN/AD4nlq/wXeG4AW6gJ21ekE0OFXAmjcKNunJE4E1UU64b9WXjqXC3IW/9X+2V+8wO\n",
       "D08X6jtRQJDIGW+zejM8H3SHvyiPfN4Ehi2mudawGfhgcJQ81MBy6i1hU5xQkOZJb8HyhuNhSxSk\n",
       "XplHkUvfQwrabHxHsKKalpOAAAAAbwGfcWpDfwA+Hawz8dNDtKAC9bV6zzIpsAYMHOS+9C6Pgt7k\n",
       "0tCHSbKEOW7yF9Yyi2//Pz0rRitzCiogAVM/Wcw6D0V97n86Kbiu2OUeS4cHwixh0hCWPupWLdlA\n",
       "lRTJ0Z08oBI55Q3cbVn3rOG/PwAAAGBBm3NJqEFomUwIIf/+qlUAC3Dbji9CHAu2fsRg/UwBIyVZ\n",
       "DY8sCGkmMUu9f+hx47NYOEuMG3bZnNSdWtBsTwaYRxKdqTunx6agd8MD7M7npkY1gVLOJlFgn9an\n",
       "o5oReTwAAABhQZuUSeEKUmUwIIf//qpVAAW4MHTxVIAALcI31K/lfSS0G0duyKptfULp5P/6G+Am\n",
       "TWDhLjBt22ZzUnVlsVlPR1bPd/C5+6fHpqB3wwPszuemRjWBUs4mXYQ/rU9HNCROUAAAAOhBm7hJ\n",
       "4Q6JlMCCH/6qVQAF4+L1+W+ddhfb1Q6DENcAETrzjaeCdyFjxky0QgSF5IPFEUYQNrzkzqEwf6j0\n",
       "ikxPCWNkhlIxeekGTIQ4gwJRhmG002Dxjk5OeCz6pUrVNT9BQH+15d3h9nUnd/T0kzlEw0oCUdhS\n",
       "H2L5RgM7zn+KzOWIH8CNqZY2wtuc1px633q4ePjvY4O1UpbYfo384Wvxy0GV1bBbamYMVLP5me3p\n",
       "PCwynGlny2pfyqFPBhwHQdYzaienb2eUpHHQWbYBKiHabuTRosqjJ8NLEPLGOWeQv+NjkI9skBnB\n",
       "AAAAy0Gf1kURPDv/AClMXC3bxF4V+Cz+gAC6UIlbcfuxU3HXjKvl0sj6Z6n76Fxtm7czsMisJwoj\n",
       "Bso8CNlB3yHZvocpEPQ6qMFUmSkPzKQWECUdf6rkivRumCm/Y9saWzKNFPThEJ+lcqWfwMcwsJ9p\n",
       "cANfZ3BxIgUEj4qeSdGBT05B2T1Kia/wLzZbOsM3hDTOBrlPABHP6CiLgS9/pZcAMIaa/7uM5g/0\n",
       "MlzIlPIVaYJqAsJNuds9Exb9ejni8ieBKn+MbyKnnBj+69SAAAAAdAGf9XRDfwAP3pwSLERW2B5r\n",
       "uKC6Ce1rv115hhOU4bvSUi0g+4s+w2ACIPd8cCNR0ejdf97mLadWcae9S7AcKi8sxGp3C9SrptXE\n",
       "EwlbSE9DgeadDiFLUb+zWyfZBGYyZWZkJoo5DMUkNGtjc8M0c6eeKJnhAAAAfwGf92pDfwAPL2sN\n",
       "AYtbW+QKCPsAHOXJcawImg6LDUxYnNI2peMQomhJBRjz+NAgcwPeQEr5xiToSj88TkQxPQ2KYNv/\n",
       "VZ9/HzWD5ekMpTgJOgyb4+BlQ0/TgC7HaBCIGMoNES2XvwyRN3rMYRbOZcKBd3x0c0iKf88v0zqm\n",
       "KQ0AAABHQZv5SahBaJlMCCH//qpVAAKp8XXSIOc5rYAKWNcwAPY9X2QYZ2B+pWS49a9Kp4oXfFfP\n",
       "VReCEu2qwmCFO5O3PcmXlJPKmvAAAABBQZoaSeEKUmUwIIf//qpVAAKX8McL8uQsqMWkYKdZ86en\n",
       "v/q/rndIf/K0bvXkAESUZstdVgr+NVfK2I9gmtCoRlkAAADbQZo+SeEOiZTAh//+qZYAEZ5X/YMO\n",
       "3qgA4hqX/fCmHUY2vkoR35xJN7L2ECre//hR/yuCLhvoWBmXp00eeIZ21LzKE+Efo+u0ho1+2HeC\n",
       "dEDQYYlRhwzYkkZHgarA7NB1hx2MaWkBtSPqmSmNL4mHXQsd/VvL83yF6KlusRhfFriLhjMjPm33\n",
       "Df2lBWqoHObktZinjkA3gUI0J0nwT7iydnSAdbt8m/7Y2ijOiL4yozUzuGDJfhrNEI+FJE4/a95m\n",
       "xeObKtwr0guzk2NfjF8j0JaLv5gwWdqbCcS4AAAAyUGeXEURPDv/AClMXCf3rIVKmx5c47L8wwAH\n",
       "Qe9HeTtGaJ2ujJvug6R7h/3pzL/fiT5D1qFODr8ticzPNdZjlF0Q4VCi2LPtKnvhTv5ML1yeQWwq\n",
       "H0fiM5wnQgHPxU3NdUOotq5UOUdodGqvsj2lQtOq2elfw82mfvfBIHtquV6in8AHTsQcwwGCQMFu\n",
       "DTKJeKE9fKQSbPCi83gfFel6eKOckv3SbUHMajfV72DdRK1ziJzNkMm++XXJN2xM18yddCjdxMvh\n",
       "r8zegQAAADYBnnt0Q38ABuem25loAV4APyUhUbwR3upu/WOyEH+Mf2LmsWQ2CxFrVC5+fESvovsJ\n",
       "yIll9T0AAAB7AZ59akN/AAzfchKKXb7TB7VoqaOmQi+9vHX6rNXxwsT9ojXjjBAAL5rWkFiHI7sN\n",
       "WS8WE6C0CtLTEQY1sZpwJazFqxBWbYGhZvecCtoO7ai4/lUSwyZVG4Sw07JV04zql9NHYw9OmTQT\n",
       "rXK/av8Dk3/o1J2emvaKW4dAAAAAjEGaf0moQWiZTAh///6plgARiQwjuuRyUAH5arN28svoa4NA\n",
       "RSzdRyH0uHnxM+SY7jYmAbHlXy3h5rYs5OTwIQgHemfMK29DflJ7RLB25Uw3aYnCofLzeaTUZB5q\n",
       "GQg24NqBd1Xd6T8a1GCuarARjeAgj9StXw+PmVCtI15ME/Naib66lWo1wW9C0FKvAAAAqkGagEnh\n",
       "ClJlMCCH//6qVQAJAbHS4GfAFBK1yzRi8D+35Tw3G58ePc/HzWj9RQcK9HmK6mwN6f3aET0ud0k4\n",
       "FbcTOzA5ls9H9qNu1Uy7e8XbPJhajkXd//+DIZeN13ekm02PtNvt00AcOpP+qJ1ejcb/vdBA8o8f\n",
       "0H/Bg83FhE6NTKblGmX57geok6h2n+ts7kSHTNNSCR357s2XUJBWM0sl1onkafSf2JMhAAAAqEGa\n",
       "oUnhDomUwIIf/qpVAHVpEIFmXWnq5APWzPBb/+y+aMdf35UeTll+oXqUws2yFapJNEUpSbmD+Eel\n",
       "kC2XMI3HrWw5w0J3uEYeoqaNubRbrHI4MNkBL8FLQudCOwj5UmRxn2MejLno4wnj7iFmauqo25Jn\n",
       "ywrjT+5BW/jsueHRDEFRNM3Hg30cIITDLyUf8D0LDid9wwEXimS86+IBgXIzdRSiWKel7gAAAIFB\n",
       "msJJ4Q8mUwIIf/6qVQAJAa1lHUcADKfHetbxfoNfVG8r7Pz9FUbuJ4b3MoEcoWss51ESJQK8VLSI\n",
       "Lr23YKJvseV//+3UOFlduSG4ct1hz9q7CWVgGEwo5CIOd5j8Oh2Jiy+Y7L0vZN/bsDmWsBaqiP5m\n",
       "EkD6rO4LT/DY0G3NgeEAAACDQZrjSeEPJlMCCP/+tSqACQM4oHpDrrgjGc11B2PnN1I7rMa8FmJO\n",
       "T6egAJKPVxBTVmVBKpNYbrh05O7t6pfvDq2fS16/5cew8W59ViM9609bQ4dqfDHM5XTSoD8NJs4C\n",
       "aI7cyg1P8xFl4+1bncd90Ii4Hnf1w7Y9NXwcgO4u8bKjaHAAAAC3QZsHSeEPJlMCCP/+tSqACc8l\n",
       "mbqMIq2H3ABJTqv/T5ngzKjM78h4ZVJzImRcMLDawLU/lvXUMa5S+X4JkyMcQlBXn7glU8d+Xn7t\n",
       "0Y80sCNfaCmek0Vcn8rUZ4ag9jECbCyKUdJZVg+Iq9q/rpP4doDc1cv4shJ11ntsYTpwT/MKFUHp\n",
       "a0a66vlIcTx2cNRVnHe1VsG5iKpx3KfCGcj0aaJyYwVRREdwrnsmH2uFrixz4vLjTldzAAAAvUGf\n",
       "JUURPDv/ACYR9F/8EXKMAE5JZ0p+GRMD/7f8lg0lj80+nz5/WqGPII3dInQnyndgcZC2NNvMfG7g\n",
       "qgGN1PkWC+K1zwL6wFGtq3oApotwnYs5bmaONeBBgteD3AKlRbTNUJ8WepJPkuY+Y35EbWlV7evR\n",
       "s5BCPWGeHZuB13t2A78BUhc8Fqmv6bGgVCCLxhz9wG/WaDcMhIA6M5FgMU+xeJJqZ+BNyNugMDZu\n",
       "zdUkSzBHJboMlf7/1C5fwQAAAIwBn0R0Q38ANMhMU4eEzXsMABGzn+C3rcAvMITYOf0MQdHwIvur\n",
       "e2GYnz13vcpcl93e/nBufncadD79evpmkyQ1bhaqD6uqZaMKupZRDZVgC9DqzoEC1h8uVAsT1+mF\n",
       "NjgAGUZQH18KjLWZRBwerJFLqRIT0fWnfx9qCIds5B7ZZqCt4r7wEF46ApzmUwAAAG8Bn0ZqQ38A\n",
       "NgW/OVmkhPEPpaADiOEfUAtPrcEoL6GghRv2Jg0I9BOzANp7SMSrvfnWHfthIy6/sxcwzo8bH0S9\n",
       "s/JXeAqwvm2g0sl1sEFr+gAuA9a0FwznNy99kCjD2Qs2sfOueKDBagpFIWVgbRsAAADGQZtLSahB\n",
       "aJlMCCP//rUqgBbH1JAAhT6LoiLzHK05kSn7n/+G+t5jeibr7FO5d9TYBGFzQ634j74P1MtB9/gh\n",
       "ki92Ot3WHlflsJMQ4dqb8Rotgx0qul/J9r45+ApcnuamO34Ole+VyshluyP3guE4nXsGhiXOleKA\n",
       "zdcUePxI5xQRdYaAjnEEYmiopQC+9JooyGcQhIrBFgtFKhrfhgFWCFEKPQ2fpu3oIpRLlbPfu7Vu\n",
       "5gZ9exnhsHGepw+4IXbW3mSbk5xwAAAAl0GfaUURLDv/AFcVevRH+AETXQC+4OA20g2QN4Gxh/sq\n",
       "1vO6cmSM1LJgfB7eHY9hgX747ISti6IKqF064eUCzkiOWMqqiP1MzPKHDusQJPltHAwe5MGFhVdL\n",
       "cmn9+EYXxn90HhRcR6bWTFWlzQqibIprsEkv6EPJS9+zuy/1isEIJB1BQpwW/YIwU5dVHNWrOLnj\n",
       "Z4UM5UwAAAB5AZ+IdEN/AHPPeylv88RNTgBuh76Vetek863R60ZqjnDJB55fUSmVUYIgEv4jcWQZ\n",
       "sK8tf3utHhV/nCTNH2XJP+6yfYbQxq9n3FLvzxhun8yG4SHwOeix66NYLMb2TfmCzr0WXWjo8lVl\n",
       "wGKopqvOpAdUurQC3AXS/wAAAHYBn4pqQ38AeUoQW5AA43vJ21fFP74dQtzfov2KEfVWVgY10VRf\n",
       "lReW+t2e/84q7xfzGulva8Sd22FNSSwQkUgBuR36mb/e0gS1bZVzGiuVHJv/5PXB1oTgU/Jx7gDQ\n",
       "Zl3D+fHdaAM0rp4exGhD2Ma93ZA1Ya9YAAAAvkGbj0moQWyZTAgh//6qVQAtjCyhsOcn/hsl/kAH\n",
       "OXnAd/ye0wYf3RkGxf+USmpQJdmZ+a/5lVLHy3X4x/SifszBuF0FtoOvCf+MePhTfLCg0OfhYnvv\n",
       "bDvJT0IL7NKNvUHxx6X+C/gBCo2vzCl8z7aKpcy/JnAMOVuCdqCBmj6GdG0/pF2WcbxbsKDwYOdf\n",
       "IJoBEtHqfp4OY0O3Sqxm+5uuBRE96ELYa68NlSTH6P4AoA7uCZv4F6nJ7s+ub5gAAACwQZ+tRRUs\n",
       "O/8AVwxThQH1/X4TzgLwAc5dATx4vPIWB9J9LLAYas1lZgO5W6tTETh+aTcYPhkiU4/eaJ0KN+Pm\n",
       "Kg1AO1zScew5U3I1ulFbB3WPp4WsyiDzHH7+zyRImMeTv0dsqmusN5m7/O4crUzhebdvRk9CyLJB\n",
       "OP772bL5xMUnnlG77BtejV1csw9I6KY0luBzLtSqozXKgaytX9kqALHDipKHZAFaDwjOL3XYK00A\n",
       "AADIAZ/MdEN/AHk02mFFfvW56F3/VEACBqsaIoowHZ9YBLIX80ImF4yKetgFeQ/+gmkj5Gdm2CE+\n",
       "6UVou5ls4nStTwpPM76z3b2qY61xAoB5BiVo4zDyKDfpkhtFCYeKDA08Vh7fXNpiWDfXCRJ8Nskl\n",
       "lIgAkeHS3kkUeTJIbwsJHrrXYPoHmaWnykotNPJUkUjcJvtkVWzz5OiBwrvEpONl3mo0mtyWJegz\n",
       "kkxngO2RG98tgJqVuUWZRKA4lHmZVugpeJjm3p+VcKEAAAA7AZ/OakN/AEFgCgwcCJLJgAW11zMn\n",
       "3egPbUD4/uo55iYHkmlPZYJQh7wvKVrmwnPPocZW2vNWOUU+0sEAAABPQZvQSahBbJlMCCP//rUq\n",
       "gAwXyDD2yNIHwBJAeURhGqJ8hPRkgA/rdfPpbHcHbSZGDJ3wqh4T/2xQQ6OIEoa4Z6EJa0qnrr5J\n",
       "Y7SbHu29EwAAAKtBm/RJ4QpSZTAgh//+qlUADBe9TO3a5kyeaHV7NsAFHEXmEkn9hgkJ2qUUlf3O\n",
       "aKU8VLE9GuuF80d7AT41Iiv6zHhVPTno1H74HRlT/riAZXRQiNWNcEXnMMrp8bJ+6McJc6/Jtccc\n",
       "wJJBVQkrNhl+hO/QER542NZu7y1mV9oNPFgw4DhYWHwUYz9j2EpEQWIqYF9q4WUoct/lChI6GAip\n",
       "NgiGDNX4pK+i+pgAAABGQZ4SRTRMO/8AF3YP+g1+by2VNrGiyFOgAnajHJ6hAEpPiniq5tHFkWA2\n",
       "38iixEYqOkDYZ+mEGZbQPyBbD++AciYdMpwppQAAAEkBnjF0Q38AIbY/XbRwDtaU9/iOzg5qMtqJ\n",
       "TYBEugRWxz9SuvZ8uCEUoYOScIAL2Q+wZV56RVcy9k5Y7bUU17iLpf9jF9r+LetAAAAAQgGeM2pD\n",
       "fwAgsZSqUR4+cXTI9BqPxg63QEPrwnrWgbJqxkkgWeCeu5sAAvmV2OiVIh++oIJ/9Ky8EbS7fbci\n",
       "jeguGAAAAJpBmjVJqEFomUwIIf/+qlUABeOG/wc2BAANCVzgUAsE1PxE4/gB/SR8DG3gr6mz7bnG\n",
       "ezQqmENihr8LJryc3YiNrnMWYHHMaqDR3EGN5f9535CFvLutTzlyIfqQwHLQSyZEfcblJ1uIznP7\n",
       "JyRdwh9UxPXrT5kVYmjQZ+p1z0XiibFTh6QGey8flQD2IZfwK2C6ZLomZM+tmJLxAAAAoEGaVknh\n",
       "ClJlMCCP//61KoAC7ek7038IHQIAEvUlfEm+l41/AMCpYA1VOORzxoM+pWy32FzXRxNMliJYIqmI\n",
       "09fw7smNq51glh5v4X97VaBg+eXnrQDIZGNiJJ6J0lbzEQRMyFFdyWZ/eXsq1zvCJFYWAgegOk70\n",
       "WUPYdYcvRJKSr+9tJ4Uy9nUTHErxegng5Fi6dU0x00aZL+/7Mio629AAAADJQZp6SeEOiZTAgh/+\n",
       "qlUABb/i9erJBeT4AHaXnAm/Vez9TCz4KR/+ZKD9Y5kRoWvvfowXstjz7cqfibrTntsEOjEKwbfh\n",
       "DrcDxEsOuhwRZBJ1PahJeWiywBAL80rDMyGJ8NcX+PrzugX5otLaJk0t57eStu4X5tMtzaP32VhG\n",
       "133Ge2NEVoYvsi/jaH6eXtaP8n48nsm3L46jsyeuJ807kDdUlqOrcA/C/zI/iENMqGNxYUgYiLwt\n",
       "RwrzmZKVo52BFjf/aR/+LIMtAAAA3EGemEURPDv/ABbmLiEBkIC7oAON8JOrSHebWCdaDb//3fG9\n",
       "Gf3M2L7fDHxx5f8hsjdcSbgla3N4qf/nAnPUbrq3EPozmJKpv2S5KdLKqSkguwHSC2fSyOp1hrRE\n",
       "qX43XO30U2zHeK65tFW8OEgaXiOpjNKQLEluJfrdll28TA2ViCIYFny5YL9oNQQhtD4SrxkJQ6wj\n",
       "gQKxxO6XhNf33nr/8bq/1raTXtTsI6x4pGPax/fhJdA/bBBkyn6bv9+z2P1fQwcjxe6hX5/b1RgO\n",
       "d1swIepGSC7Q6HxkloUAAADYAZ63dEN/AB+9PKgya4+gBbSETtq+Kf3w6hbmZ8ffsbp4NlcmU+nj\n",
       "tcBLRBLfW8EapJg66ziYbZYSwjg7EJqKjPj19yO/Uzf72kCWrJ9gwJgQ041eXSsjp9Fxnx8gJtKL\n",
       "TBxr1nyB45uP0dTue015Cdt5X7hrMgEvGye8q+Rih4BFlqRZcmtOTcFl/cpjmWfCVPjwxlvkxd1U\n",
       "x5zZ/BOw3Zjw3PyzzvkzHH/O1gSAvb2lNFccghoaRLC0wBaO5uzzllYws8bNqgpvKOwytFpnq/IV\n",
       "YBu2Ry3QAAAA0QGeuWpDfwAfwoigO4tAQBE1yWJVLUhS2yZvQeL6+yav7sRZJkS4DrMADh6I7RPp\n",
       "OIaZ41yRebUH4/fVRlVbABGggwYEJ3FRBGPqhdKXTIUfrTgGf3h0y9m34bNkvqBLtxf5bqPSpWGM\n",
       "lgYkjjXXCWP/lo3ipZECTvPWMeu1EvxF2FuqyzoSxfnVvIS2c6cKyvO2SjrRCKxB+G0V2MFAhxX8\n",
       "h5S98MpqLNujszo1kQM5nzJwuX+BXpPPL2a/AalgDZJUmNyPD7ABU6cnSHXFoEFvAAAAzkGavkmo\n",
       "QWiZTAgh//6qVQAJjy5/HszcwARB896Z7rVNVh3LFljY98cyjua/ddbtZDVQ3zVUQCyc2MlxmAv3\n",
       "qdDH/gzOHzDFe+0pNZ6Bzk+0l1as6g2VP/O8AeWkWA7QCfn01O4vD3qX5vk+ThIjPXVjo6eus5AX\n",
       "AG3ACKhUK2YGCzDytZZvoiNSgDvyBd7FOKIMaEWs77NJSJN8J2fp+3dkXwjPp5rkpFU6Jc52TpsJ\n",
       "NCbMv3HYaNkOEk8H+0fMCw4rqX9dl0Fapd7NS+aQAAAAykGe3EURLDv/ABbnDHotgG/ZmPPaI142\n",
       "wwAGi13vEfDkeHG94FGpCI1ArS0y7KbO7tOAdTV9YWaZiBoWb3nBLaDyfwWvSX9v3YGgVQvCAw00\n",
       "x7W11OhU8/G0rcYNPJ/av8Dk4CrDLNfNqmAZVo93c3H17kXFt69RLeYHEAervAZrKUZ1HqTtdu/B\n",
       "+G+xTOx42CDQ5IGttuRBYOU/z0kwnwej+IK7rHden+sIBruuNo40AJq0KK6rC+GOz9I+HroQ9fZh\n",
       "gzJcmnCmbB8AAADlAZ77dEN/AB+9PJgx8N/BB+bgBMyH0Y57zxqXqr7ElGFj6B5+3y5B/BlZm76w\n",
       "gC1gyhUbsJC9RanKiA/pPdH9xpOA8m91gPlAqhuIMwjP+BoRwjD7B6BAY7aKdwoJza/5aSJjbIOg\n",
       "aAPWrEj2rgUSqv5iiXasVSJ1oaj2E9lSAiJwx3McZiRaKt1YblX/5q771w4qD/LSlbIzgJz3jBFT\n",
       "iXLptPSXp2/LZ222Mhj0UsQbnSoZAhkImhbp1kIghdhoJ1HhoTe0vshMxn+x0/jwfiqz87ywp3rj\n",
       "zAbE7muH0xzu0GLOeQAAAIYBnv1qQ38AH8KLA9CLRjvNcjhmAKyrDLBvqIBNGCv7xcuHOuR0cAFy\n",
       "gr77r9tqTAvFJH5zbMwA21HmrEkjLXTAccALVm0RuYdwJjFfqdF7UMK4zoVAxRtGX6nc9vO58O46\n",
       "KCpS6xFtOPFSkICJzb+tJfmNpU6KR1uxwiU2tOAoLjKwqI8K1AAAAHdBmv9JqEFsmUwIIf/+qlUA\n",
       "CYSDwHh1XFUQ10OJhCsse6Cxbkbz/M5ucE6PDUQgARDqyLUDB5pFeFT3QivY5Q9ji6X3IOlfK8aL\n",
       "9ZXB/RBuPARDuI40BVQn0GzVOu5WwtM4WcJeQ7rfFVwjCzp1UGL2qJNvgDKTOAAAAChBmwBJ4QpS\n",
       "ZTAgh//+qlUACYXNReG+zWGhuZJkTGKaAMCblltWR5qBAAAAO0GbIUnhDomUwII//rUqgAmDNqIg\n",
       "znOTaRuQYegmoX5vReHCQa+8Ztxw6iIY392IBKwT6p9IO/4QAdOaAAAA0EGbRUnhDyZTAgj//rUq\n",
       "gBTdwfx7MxAAETrih6bSsQUnYgMgdI+Wsvb9gaW2+td4f8KGqbVI3puFhqshKsAlBYM1zhU67CaK\n",
       "f/KX5CHvGpeeXN8GkftmThS28CtiMsndC1tXuH0uOoLSZgXzZ9cs30cL51oS/PV5J36q9gThuSx8\n",
       "ssDiSsC+2l/p4JT/4523bgKf/30dWMQS05Qa7UWBTYVTlCwuqmRs9R4uYs4X9Fts9NN4SHqPf3kj\n",
       "l71MEuZ0NusWnqjnD/AGbfs8hqJc6y0AAACGQZ9jRRE8O/8AUFV69TNn5QWigzcnf8IgAqBKWiT1\n",
       "P/O7LMwjHAHHWTVMc30bH9zajUSzY8izq3Vah+/+PCBePu5ZIfRTPYWPdQKX03pAkO4N9rftiYCi\n",
       "oi6pvb5xW4jAes+OuVWRIgG01S6WRHKbgJqn0Xf1UeTb4SFqar1wUgfD1Gw0pOAAAAA6AZ+CdEN/\n",
       "ADYGZd82GgAlPfp7ZHzmnA9kr7eD3eKuNEF8EofGwsg14JWm6wgd/c2VS138NgGsd/ye6QAAAIoB\n",
       "n4RqQ38AcQnXr+ECpLMALeuS7q0HuIhR11AE5wXxs3K6qUt6+n/loHyal3BSrD2md73v/Q6CLZYx\n",
       "9DL78MfWNfiPGBcVjM5K0x51FEX7E4SKOR/qPUqUhSpeyTWlkEbzCEk1H1PJPrsAZjLVSHb4Lh/4\n",
       "Hau4EadrrRSA71JFd01CCu/b35YVf4EAAACtQZuJSahBaJlMCCP//rUqgBetSVGfJYplwAAtUjN2\n",
       "2FjoAUfMHpI9J5f+kZTs0MzU872zQ3d5HRv/zUUcqSP1LQj+j4Y3fwmIpclAzcMM6LADq6Nop7dD\n",
       "PH42A6pSIlrRI8e/3iRIZNQOQDUak7IBnX2H9XPXnPWNaRRRjaX7KkeXS5LD8kaxm40rFYGwgYJN\n",
       "ES29FvhKCgtfmDC/05ePSKSiXmKznCe1G7nls4EAAACZQZ+nRREsO/8AW5V682lG/W14i0XZgAZb\n",
       "XSOhjRn23MRAB3ThxulzYWVTahFizlo8pfUKi6a6Odml8OomGG+yp3PH6SY8ay2/HjRAeTM+kWng\n",
       "u7iQdyixc3gxg2ovUqPNNxo4WPnm4Ov/aJ9m94LvxqXqvBhTRyGs7qsHUcLv8iVjB9VqJMo5zTJF\n",
       "2BgkYIB3h6E2JMcc4CphAAAAaAGfxnRDfwB2j2ZgOWtRQAF8q5Kf4mwq+Dw2vaUT6oKtPYHFLz1+\n",
       "fm5T1ZDwy+pL/MwRsg89/VtoUYhqSl/6BPuycA/L2wezaOd3MWWa0RiLOINzzpFfQTOiXVFUjgnH\n",
       "T1/Nz23tu1/fAAAAVwGfyGpDfwB/V6Aa56tOOAB12tAK/4PjERmYuVzQ8fLKwtKl72v45PPXqe4/\n",
       "CetKftVFNVoVP0XwIwY+pKL40Jw8kUvXUbZLbYfzTt1A35+Gq5/ytqj0jAAAAMVBm81JqEFsmUwI\n",
       "I//+tSqAF4Fptijr1JnDXJ3dGAA7eXJfxP7DRITthW3K/uc1AEgzaCq25QXzR3sCblUiK/rvflsF\n",
       "RxOHZh4Pg63eKwyskV+d2QiHdTgRogZ5cDD1cVm4/FiGiQWRRHfwEtLH2F1NC6Od3swhzunr79kC\n",
       "psPy9NfYojx3RbWMLs/QUTQLb6X3jgaAiw6IK657xBhvVOMGFfvz171MMARePavmsKRNiOn4WqU5\n",
       "6atoxsMGJNXnaDK2IRexgQAAANJBn+tFFSw7/wBdAU/4oYUTsAHEfT7ntHLn7toiY//XjIBVbJWC\n",
       "J9o0/ZDaepk9BtMgJyUvqm1k8aU1Y76Qg99sJFZrijxLy4xgUjdC/RM6ZbjchuxhsxBhjpP//EQY\n",
       "8x15rfJcXfS+bKXXkdHnDhqZeTpB7nfv3x/qbvbgE6u8VqojuXqVOphHg+wXhlLldCFZnyJHQRlM\n",
       "8upHAiIUXl2T7jevvYifHx83D7BVH+/0NUgPv2D//mrvqobj3GkaX5uOcHJD1OQNs73hBtdW0Ybh\n",
       "M+AAAABfAZ4KdEN/AIdeIsfg8ME0OADm3rK9vFAZw9s/PfbFrA65Dht3Q8196h0bQdIKx2vcq4ZS\n",
       "/4Nw0iL0JlC29cJ9jiDDPMnmTH21Sx6vq78etvxXYT01KWU5fLeeARMWg4AAAACCAZ4MakN/AIdH\n",
       "gEAF1XITh8UvaN5l/p7s4bn7ez7hzDLhwySLlW0HZryrOdcJsryPn9hpwjSLQWiopVlLlgrHltaI\n",
       "v0MIeNqzWy2AZN2Tbb0v/3HtLIEqiRG5yCWlExYqSh83uGFRSk+QQZD3V5Fl4Xl6HN1DijtqIVth\n",
       "xizQNOzdgQAAAMNBmhFJqEFsmUwII//+tSqADLfHzJXd8nb+K8VUgAVORp35zk9iiVJNfHNFjw72\n",
       "psoX6zF3xns/NX9L04q0mfe5A6oGnADOlkcdGzQX9l0X0q6zNV6VBTsWa6i1Y122zK0cCigiypZk\n",
       "X3N+Gdl8TYklynOpTOxehnaaAFmDy3w8YizpMJqyGskbNcieAKsIvGWXPVYVTvi3DXCv1oao8Qnr\n",
       "bbfTHztx7eVyrAqviET+oDQG7dhWfG+3ILFVbZUb1gaayYEAAADQQZ4vRRUsO/8AMiTz4KNfcALd\n",
       "QiMB48rIm1Og7YkwIR5iIwPwdwDd/gtATHj2AJvjsoGbxMUhbILzpOcqcub1WjQAJqUoOZBhKR4a\n",
       "fVr1DOEMavm00bCWtVCI7By34j2arjX56qd+P56iOUyUxhw7ovEOdCl/Cskn5mNnoVZXRBxag+8h\n",
       "488mUO94a5V+tm7XVtLhqK1YjodDr06I7VdWSFGXT15hXrFIGklft9lavb3ChZUjQS4Zaz8qdJRH\n",
       "HeBtjOBpAqN9nsVFHH7qptAxYQAAAD0Bnk50Q38AR12xMOAhAULBGemis2cwomCy/dVTk6r3rvoz\n",
       "WWl4XlZOfv3YvIJggSLwGlCpQiMgyiohIyLgAAAALwGeUGpDfwBHYyUxV9rumMH9ZWe/EjfSILtA\n",
       "UW+6gqKzfbfswPi6XjmFX2hZtFtAAAAAz0GaVUmoQWyZTAgh//6qVQANB71KyXjuRye3z2pg1ABE\n",
       "05Mj+TVmVBIRAYm/h05O4MCxXvDq2fOYAeIDN8x3c+qwQQMLh/82P6T9+EIyCJMu1CiGarxyZMXn\n",
       "wnNhT1SvKivxEg7C3dCIuB51tmokN1f9yYH9mZ8xLVqS6AXHFymZDiI1bn/LAG2OpxehVutl9c27\n",
       "m+klmASaU4OrTRf0uePihdDHCQtEY/I70N/8HBxtSKwzDzIM6nPMhbnhwFzczk6T2vsOQ6Gx2RyI\n",
       "ITIOoQAAANFBnnNFFSw7/wAZTad1NwD/ugF9wcBtpBsgbwNnxfdEvIIlx5dkpNpfC6jY3l0yQOUX\n",
       "+uggV2KWfWjwW9LhYfbDjpv3ycmfr5oHnV0tcjM6cT2HTG5W5WKyivfdzNDMCUXwCyw8r9VCV3ys\n",
       "afkcmhh5XUBEMPuCYoqSJ6WmgBApjDQ31sVlAXZdjcJDBYHl2shQbuwbuniUi4Oz21VlqWhWo14C\n",
       "znki6cFLt7/mqks+FRq6ikD4t2V8iLpTuEOjXw8gh5PygcParovQ3IVKBPhjWgAAAHoBnpJ0Q38A\n",
       "I6+sodGzLUZx9H/HgsWVKMqkJZW4zwr0oEzeU649/7cgAdeCFIhKvo+txVelZRcvymGJ2ulrH9yJ\n",
       "E4BuebD8W4lomdG4d0PePuufEeb5k4SPdQKUCSr4za8qpw7uaapgcoi6L3esWyieAS/P9yeYrwqm\n",
       "DAAAAM4BnpRqQ38AIrGSoYoDdvYp3rKWR3AAAbKCD5UNGcmJtyZQs3YjL41+HHjg6ICEfHMTZPHi\n",
       "PtnLFyNwijocf2VtpNwf/z32iyr5FZo14RMrWpP4IIER0QjBhltCuoznW0kwxcQKVChI+0mNb4VU\n",
       "oifdT3mO1TJNIb14V0elD9u0uHlCbU2Az62ctHmAUKxY01SSbDo5UGdqjLpWUJofBBeEp5wZNvD2\n",
       "gcZR0BiLlhciG0Xnb+8zMDoWrvujSRHQxVJYWklJInKBDnWqC1p5wQAAAMdBmplJqEFsmUwIf//+\n",
       "qZYAF494QBQCa38pcIK6gA0JPlMpXwyuFqAwk0n39bH03//SqfKjUFD3WR9N1DFWa5T6gtxZ94og\n",
       "JxoWctvqG1jvea4em6YaIPmnDSUIbgNyPJ0SuFxu23e+zGFRbBuRi14faALPCW0ZSIyaFLtVMqF+\n",
       "vdPXwFlhwSDkBVhtfExWCdK+v1E771QvLNZxyRCJzQf+77yIiNz1fZj7Anz7MuZPZHgEJOWiB7K2\n",
       "j18JFQfI+GhylGeBldVAAAAAyEGet0UVLDv/ABbnDL3wWK37rDI2BhPxh8Jc+gAvr4S0WUIBXQN+\n",
       "yrT48Z7sVP2cwX2rhjsyn6hKt/fq0oaCYVI21xdQH2z6sURIrP3yxdsBhX/oz+zkt6dmSNWoxgM9\n",
       "mbLdIbNdAwHlUiHqAs3NyOJmjWfgG7Ng4XLmqiZtDkmapzlp6hjC3TQf4kUZuJBaX/thyn5laFup\n",
       "6BvNFJahNlvt/9ypGAgP9DyeO0/9ySQwaWymdrDOD9h/WPK1xFBhc79scduc9fXdAAAA2gGe1nRD\n",
       "fwAfvTy2yEa6dm4P/bgBCdazXeV0rg7ccelSV04X18HfOx9kAWwndWMkkiXhMjRIP5JiNzFlnHj1\n",
       "Y4mrq7+/ZoDI1WYa72j46NBG/T5wjjXIUoJJCNplPlUJ8e24iQdHF9TX1XEZFLO5UU4fIs59KC54\n",
       "EPp7gGj9J1ybOti360R7U4aiplQLguHsRTkikRMuv0BQo6i5RUryPB1N6TWarsunbhPPnX90Jp8J\n",
       "Me7B/yHYmgIOOnwo3MzgfZsXLPyUvVXZQrZEo+SVG7UuS6MzsPMrC/09AAAA1AGe2GpDfwAfwozG\n",
       "mznJi14+FyR2QAG1XJZTKHmfW1RhHZm6cPDnDJFD0x+GIifwolVmyNEErQ9KP+KcNueztkt04F4G\n",
       "WnciFIoN46PdiJjWVg/RQF6w8O9gxyHwO33r5qgC8dn3GLobwilbOIAGKQLLOWW++RJyRWPkHol8\n",
       "cid4ZHTUYD6fjQxJJDDEmr/Yk6DWSvk3dj3lmMEPRrbiNdzh4l14sjKJNGc2yzc3iQQWtfmPlLYg\n",
       "4Sga2+niYjIR/lrrleCzcnIMWRIj5Ac0qPdqXgtIAAAAkEGa2kmoQWyZTAgh//6qVQAKmH+6VdGc\n",
       "F2pbfQpBJK19mXTPgAlW7O2kfaM2fNdGjc6CCAD1tNTxZH/YRRko0IfkBo7LYoH8pK6db7k9PQ4g\n",
       "xiF42d875mF65PM+tlvvawOc5jm7NL2jRfiK4sW1eNkiw5rsnB4koAHFOtw1f5RhK/zP7fD2fSc2\n",
       "zqUF6IvDUQAAAKdBmvtJ4QpSZTAgh//+qlUACqfGQofiv4bI9WCy3zZ19/8GRX7hEy50sZl0SaCC\n",
       "weStj1cR37ylvR8uaeqSGnNSO2CNy5mO1FYAgYPe1ag8awR1e2mKtgEDu0U4ERtkMRD6nBWiOZz/\n",
       "Di5e8l7eZ7I0xIa3N9bO0wVhLzudLhEiOGG2nP8psnpTWKcgtfNaKLnI8esoASCh590SpENxRtaS\n",
       "9yYJ3j/B5AAAAD1BmxxJ4Q6JlMCCH/6qVQAKTygOjr+L3kyBAByy1fg5sZKrzVQmsIj8HfQ3uF2n\n",
       "6Y26e8GyJ/EZeJshvnORAAAAOkGbPUnhDyZTAgj//rUqgAoXRvZkk5bGHU1iy0/nrm0AAsFy2z2J\n",
       "8QySbn3G0hQ9OmYI8EO0EYK24oEAAACwQZtBSeEPJlMCCP/+tSqAFN3B/D64KwAOcvPmkgwXSx13\n",
       "QySHGm3JLat2pn2Qa5TZPpJTW3V94VRxh+I0BkEJTqy8XtkHkkA5gvBGzbZblZJF2kH4ZSM7kzHf\n",
       "Hx0Xdhdy4UUy/2VY3k7xt3fzhorrDlt/8V6Sv/AdodCF4eaMGCNIuD5rWUtCt1S2Jb6R8pu1d6Id\n",
       "S1Y7mBaTIlbdDFazio6Y4S95shBcJWMCOkB6bGgAAACOQZ9/RRE8O/8AUFV69TNadvV2VGgw3vuY\n",
       "MTAFW/vkkVVTT+zKHv6mBVw4C6XbJvCbGP1rQvxFf3qkUSlok9T/zuyzMIxwBx1k2tAALWwR2kec\n",
       "NIPBWPYY3dQJOFtK/WyPl6/0nfW/2XwJQTyzIPiFeMSnyxlXLVYmQWiybphkir2JfS0aivsDvJKx\n",
       "oU2foAAAADcBn550Q38AN0adetN5xNFxwyU0AECbnMuTBVV9Hj64W/zI6AZ2vncFhl5dQ2b0P3US\n",
       "RHBsPhaBAAAAZgGfgGpDfwBxChAiJ5ydhBDMbWzz76lVifqMBVAcdWX/Yc9FUH7OSfZcLgA5tAX/\n",
       "tIbC+A073kPXuhfO0uMHuJKXmOJP2iv3UXgtoLMnNvVwgJC56ibjEGWvE0a3WZCiWLC2PQ1wuAAA\n",
       "AMlBm4VJqEFomUwII//+tSqAF61JgNu21SABUd93Dr3zUtUEDlfEgFPR07wgmMPWkLcZqHubBtf0\n",
       "vmR0fDMGLBo8uJYuuZ+rV5KPz3sgsdaA5/b49xP8mSurcmSEh44k0j6knFp9rva/G+2rNVqyWS0h\n",
       "kTQzvWSJ1sfPzOLSWtCfl4kiQyyg2zT9rAQZPfPWjBafUVznhkZS9bHWFsxDjKY2/riJJuYzkvJk\n",
       "4O02E+tHWnyYJKh4dIrQ/IsbUVPGfR4rx/G5SiF2bYEAAAC0QZ+jRREsO/8AW4xXaebBfhckRBAB\n",
       "zlz8Qn2rGyv9uYt3fXil6ptUag8KQkHbhuvKLR+NyBKF43WIjd3acz57FwMruvnYVkj2tL+loRKn\n",
       "sGKSQJb18WjOwH6+5vNjjhzp/cBeCRATrxtTYjxg+F+BfjmcF7Vjoshqa10cs9T41HZ2uHZ/6cWd\n",
       "ec/STpTpfC/bErQUOaZrPSostMsdC1Zut+7OhMaylK9pbEcE5qkcNwDVq86IAAAAYAGfwnRDfwB/\n",
       "PtwfgUEneOjYAPrTCiURdgI1J71KfcKqpUU0z97X3kI/nYsa2uD9gtuEt5BFfaX2qbLtKcUjjEen\n",
       "Tch0haF+uDCPQEQp1YyxZEChr/X5v/62MWFHFkr/JwAAALUBn8RqQ38AfAnXr5cl1ybACZkPoMpj\n",
       "3GlCkVws4H6N3UlJCR59Ub9/hGEwdRP7AZWAcsLPD8adpTejh25oTNAyXm70YGp2G142MsHe8dxA\n",
       "wX3WgFyOhKDuBTs9UTbixM0ydMGwMrxYh3QKRemnTVcouqi6ReKmVDtTCsf5/nifSpv8ScIrH79L\n",
       "Gb9MZwZqsGAaBe/8DqoBl3qgjyktxGU4IRulqUK6rEfh3EMtTyfee+dqft6BAAAAt0GbyUmoQWyZ\n",
       "TAgj//61KoAbjEeKMkhBH0ACUX0qsnYZ/cRpW48D5Gm1TeSswiWx5f+XwsbrUxk1RDsa8m2pLQz3\n",
       "5bBUcTh2YeFZNHZAiMrJFdnbGJL6OcPIn2G/2EXRsJu1ghBhSQeqaYMnuVhA4l0THE/7oIMvGMI0\n",
       "IZonUCJzepTCns9lRNEJP+FUTUb/ehF5G0pmCwCGLVLPHArSup4GhwHJRiohTcFpS1mmqftl94Fr\n",
       "6H3VQQAAAOhBn+dFFSw7/wDaQ1AA7NBlf4LS5+O7FaThVrBKR0pltLmLLu12ODzctzHB9w5fAriM\n",
       "OY2h3tQWI7mEPQ6qMFUmSkPzKQWECUdf6cz/gfYVMfE+JJh+TBOs3L9N2SX5P2uVLP4GOhyFVg0E\n",
       "BGZtOVT8u0YFASQVlF0IuPuZGAetY4q7iTpMr30VhT6PmtoRAzbOGG/L87esGV91Jk6DHW4gO0ZA\n",
       "hVIx8IGBKKyQ1Q1R56oLu9RwaR/OyYtUVQyCQgfHcTJ8SCO08RtmeaXSSdRLRe/1epKZoN+SXQUo\n",
       "43KAPwbLzmCBDAxJAAAAPQGeBnRDfwE1eQUam1pOhxfRKQAGh9CyeD/u/mxfbM8c3i+fab1U8eW4\n",
       "eJ2SKH2bW5OMyWXB1bFic8Ip4ccAAAA0AZ4IakN/ATUZzSCmTk3w01Y7djgyQOvzrSpnF9j8JZ0l\n",
       "l5xHdCb9f2ZJtCQQZya3HnlXQAAAAM9Bmg1JqEFsmUwIIf/+qlUANx5/GYZNAPuF1hUhEj5wAOgs\n",
       "muiTDoz8+mEDvXinevGdoTdjBvaHgRgxF31TsD6oP2AKi7iagcNfA/Dm3YgsUavXTIxkJN8QURHi\n",
       "bp8suv44tmNeQjmUM76zmMeO8HAJEPMv5NimpYPM+a5XhTyj8M9yfFPSdXatAa3lm5yU2mCltH6r\n",
       "MZ4Nic5d89g045xnBdouBwmlzVqSgL42XQAflj2kl8/wuEr8mUJE4XLG3uuWmzZR19d5tw52lcqd\n",
       "9x8AAADNQZ4rRRUsO/8AZ+yYAA4BogEZA56O+tcQXTfFe0nCHxt+9q5nssT4K3tFzGekPwo5YnFC\n",
       "8/N4e6H8pGdb2g/7DKOpO0As1XhJcIoPfWQ+ruNrDnuCGHSyfSSsRvUWu7cwyWM5JzPygpcVoQe1\n",
       "GX/Vg/4s86Ka0cedfXP//OGYV5rH5mlB8iJt5exYqnQsUw58G+HidrXawwilLtWcN4bp/C5YLvZr\n",
       "HyOYIYi/k3drLTTbWt3+H+emK3BEelri811hRc6X5h1ArpDjhmmAgAAAAIIBnkp0Q38Ak12vX26s\n",
       "bIdwAC+a1gWuyhxUDTu8317oXzweOhENasPykmntHuSg81RmZ0PFeDRCpsDYy69QKslhrW7iHhqf\n",
       "iowheQIydC09yOTX7B+5E2bzLDeB/XgtKo7J15RHOv3TbY+4FkFlKB+KCpprtn9xedrvd8yqYjT9\n",
       "yHOAAAAARwGeTGpDfwCTP/OA+MuADZNbcjisf/3M+aDlS1DCVtpi4/FotbQYDorHPJa54Ajnn6vh\n",
       "udPop7wuxGZqeKe7gSr0006ByNSBAAAAeEGaTkmoQWyZTAgj//61KoANlmcVGuQACuZSoSmYd9cG\n",
       "J3Z/hKjmkmTpLXX2FQLx6niujdORQIx3CSZK11uKzBDDIrFcxNLSRy6ajtSx1GWGKySK1e3E7kIh\n",
       "YF3oFWHnMOpKJ4V617NZ6bNwfogEX+nAxYH8vJ91gQAAANVBmnJJ4QpSZTAgj//+tSqADafHzLLf\n",
       "mrGp/ByuDABRe1YAFGA0zhvyTsPX0dyGmvxyT0F+av6XzI6Pc+s7np04qqtPWefhpZvjN32wjHGy\n",
       "/4X4uUomrsMdnB78hS2VvBeNtQfLskfDCgDy+iX8TpArDk6XaKpRI4yjqv4Vaul1Cks87gOc82We\n",
       "In73xJrV8Tt79djMVyTagA+mAg4iNcCRoky/qjxPVVAuloYLZhXDaS+MvQOoYjN2G5Mge66qKiUG\n",
       "PZP5ajvdw92oYskJUDrhS1S+yakAAACXQZ6QRTRMO/8ANRsAobOcNmBhXSB6YMnsE6d/aqtBAC+E\n",
       "cNidSk/Y7hRb+3f4QK1c0ArkhiVxqtGRH0DqAJ27JUZuV1Updl5uJMzPA2U2QTSdpY8/c37lYt4m\n",
       "6MznAxCUegViM7r5j1jZHiuUk28XW6aA+dRdaBEt0kCS/sLH5l/SXXbC5vYuMLLCSbVv7w5iGqjp\n",
       "chWwIAAAAHUBnq90Q38AS12t9uCupUPEzLfWYu603Wky8JJRz+C8t9wAt0/9g+KXtG8y/rxiSofN\n",
       "bEpj1Kw7Y36IIOD8FO6bc5/i3RhB04K9/EkOQVJUFVgAvIEyjeCWBhcUvfj05KMzwfdIe/KI6Ddn\n",
       "sFyqbukaLDukxYAAAABzAZ6xakN/AD4lEksC7esuaYb0BsvqQhzGf/ifDGvANxem0BWDYhvO5Keg\n",
       "M+EuADltLX0ufK2x4ny70P0XrrRNLM48rwGjHcDAteymspo0FKw1vjIBvt62HtsuTx+cU2X0iykd\n",
       "IeM53QjFABer6YrztS8jYQAAAN5BmrZJqEFomUwIIf/+qlUADVe9SsmJ0X/gluoAj5F5KkdgqSaf\n",
       "0yffo2d1q+NYlWEC+X/hrlt6BmG+54snBIztbwuLt4+wh5eEVcFLPt+yjI+QXvWmZddDZcFw4VKY\n",
       "C3PNSqGjreTHdNWFYykJo3ULCLeRd031XcCQCYS9ZT25lcTOO0KP+pX062lzsMwU2sOEZWKUiJC8\n",
       "R800xSpOO8VCY0Tra7lVXFWwtpE1XfyA5efBlPr4zwP7E8xOG3i5MlcE4R/xwA7aZzRhPlCOay0x\n",
       "PmLy8cCbBfGwNKFa3YQAAADsQZ7URREsO/8ALK4YYBDu/P+C0DiACaa6QluI+MykhkYyhl539icu\n",
       "s1SsbMABCEG8C5/PD/yJJ5wjbSnLo851LlFBy9xsQ4UwKCtqylA50HrFVeedgcPJxbYbTmKRBBuG\n",
       "/mQZitaJ5hw1xwAstJuPdGZxKM2m0WY2tLzrpaY3jpBA0FXEgdF0xVclrl5g8wxIWEfweH+52uVy\n",
       "blVgCkOfblBLdz6wT3kMA4a24/4d3khPYjMSWkKw6MRqWwQXT2nD5OcT+GmXlUUiIyFJaLv6lDVO\n",
       "NY68Su4n9/3Cebf/AA6HR7M7O3IRnPPQOuAAAADUAZ7zdEN/AD4aeh6AWXwUfm4AQnWhG/5c622x\n",
       "orobAw4HeJ56Klf5p26i6LzsHGD46bOt+vwUcyyw/NiSyJD/W9Hq9o0F69t9AqYTZ5PK92VXH0W1\n",
       "Fdi1LAYdjpBhwa3JS7FKTpKUKlmkwHET+yLClWgkIC8tcIhFQOfgMgSS6LnuKlvRle+/+8KH4aYJ\n",
       "LnL2ySlUzBfxsBGstpRebaYd+7H7ugYlJmkyMPmjJf0QpvDAqYiO1eVX1Wahk5sN4xS3+2hvjSHB\n",
       "qYwsNkrsAUSCRCBIAh8AAACFAZ71akN/AD4lEdDHtfQA49yEgghmOVoNdjMGX3hBi+uzPEthZA01\n",
       "vIaroRkTE0NLhw7PH+x+oxClb8EH3G2rKtpkKx8QxTLEpg9L4ilvJ65UHYxvjOD5FA+npjISl08H\n",
       "Q/dl5r3c99+JPxXRyBFToUpW+MvhndXyWpPiO2lETDxGzGDFgAAAAJ5BmvdJqEFsmUwIIf/+qlUA\n",
       "DBe9R6P8E54gBNXz2f3xzzGMEX30APDQiWlrxsWushXH9IzM+5UJYxjvuJqBlxWv9mcw7Bb2HWbq\n",
       "fILMsL0GjU4GJj6qbWzE/KlolK0QOcMZ2N/7GMLr7sELD2VvbtxktKUxnhs2JehW0uoWd3JObCYW\n",
       "um4bsLo4fSu7qA3PkqKGJorm7lotbPPSxwpsQQAAAJxBmxhJ4QpSZTAgj//+tSqABePoL/L/BzJ+\n",
       "ABoS1ZWpidTHlk7JfzdnRgTDnrYEKuQS3CSSBt73bJ+Vw9gsux+VrRymzL6hdbY7W+BG/VqNAm2M\n",
       "VxMgBH3BZ2craaS4NNXJAX29VpvoL85n8whTSvUBXI/W3mkQl/wwGK0HsBOz46u3ceiyJhPyUdEW\n",
       "JDvIotwAH5lwEYCE9fENJYEAAAC/QZs8SeEOiZTAgj/+tSqACu8R/wZYCAAi0xi4dIKkpQIMoE8T\n",
       "1Sm8O0Oh+MPkaE83k62IXF8W/+CFq99MEeLsohir3ZzYDhHILmBYPy/AXX8AOrqRG94cuFvAE+Vr\n",
       "lVtHM88UUx1i81/jZANoH2X94J9aUO8T5kVupnbvsMic9aiPTbGWC5nFUHeGZDjyUs7/9JwYQqXD\n",
       "W2t4Cp8rrmVyFWi1qi5kh02Pkwjd/XLjbFES6JbZd2JBvPby8Iz8laAAAAC/QZ9aRRE8O/8ALKxd\n",
       "oxRLo42mh3pCn6o/R0AHLhQi4psGuhFuqxHS4SGkpkE3imfk7bCBaAqKX3AqIPunRA/c0XPb4U0k\n",
       "HtoT9AxZJzpRakmPAcrnKbN0zjG8SjTZAXvYgnRxxoJWhMIwyu+hJZD+0S9lwjzKS4stnp2sXvmR\n",
       "aBFMj7c1jAvCbgp5gGChmGoJKTU1EKwVsF9g+tYeQ1pbYsU9GKQJp0n/KHk/WNFGGw1J5r6JeT3T\n",
       "gPaaow1gUUEAAABfAZ95dEN/AD4ad5idZRtOYtuxOggOMmTZNmvqCBMISbRL4qp4m1rTu5GADlwW\n",
       "B0ZHKN7JfwsbBagoDsFbVtlqxriooF+IW1b1FkLq/s2oYd/wWaCobUQV/pn7jDo29PgAAABqAZ97\n",
       "akN/AD4lGnNrm5Op6y5qgAH4WcJebvT0rLcNAEJS4ifdo+PlRIekrbW40m/HKAII3uQj6qHv6x1l\n",
       "yMRQ2C6hHQ8I3fZDRN/jdnw/Pen+TTceBrJElQkaR02xY/s3XaiFn+N+BsL6gQAAAOJBm2BJqEFo\n",
       "mUwII//+tSqAFu3B6f+tbQ4AFTEipItC81GGHIE4jYesfiUF7ehudKLvqU0CUip5lDVu9NJT54vp\n",
       "Hy65ZZ/ShdgPA/sA80tqx4OxBDf4Tef/AxaC6X5eU6mHLwOoQYLtxq+pmMTsT9sXY89YP7bIMIYf\n",
       "K2JxaaBBY494RYCam2HE4euEJVfAY1gGwGImlHOUfc5eRXdSIxf91k5VH/9hgAhmhNiyGlTQoZng\n",
       "4T9OTqW3lFNBNiQEe0rF2WpRw2VDVFZ/uwz9LPgvvkC9MQCiH2OPeFURpZe1UcFpAAAAa0GfnkUR\n",
       "LDv/AFlVevNPjO1LwrjcSsP7uuexKLvrtCx3Z5jNVP3qKf2MtIgZKnXRl0KWzcAHaXO0CyhAK6Bv\n",
       "8c37+0cv+9fLd3Elca6p9w8sW56IcebhI1iPJDXLi9PFrPeiX9ystovAPYFTAAAATwGfvXRDfwB2\n",
       "j3tm0XPKdC/lOXO/ncKRbvx8rQIjgUSsXbZTPPKJAAvrTe/FtoR2p7Tl3KKcGv7WGKl3eedoTQU6\n",
       "h8xPfTsHZVWqV5FjDFgAAAB6AZ+/akN/AHwKEBysPudGwAbc2HHTrOqShD/vlQ/2vQ2Bj0SocjF7\n",
       "GhyBMM0pFIYdcuTBDizfSoPXF6963BKC+hoIUb9iYNCPQTswDae0jEq7351h37YSMuv7MXMKcwju\n",
       "N5UP58Poq/aywu9pVhfM/5PWXWwQNlN6MAkAAADLQZukSahBbJlMCCP//rUqgV+hooBUt2o8o8xo\n",
       "9qmRrFjmsheOWAcD6GMTt/nCDWQ17dZ2O5eRbSFBMUPxNRgmeCSNl/ltctxvf/FO3eCdZzDxsqeJ\n",
       "IYUbhfM3n+/+QcqHMcUZU2C/7CzGdYbI+imKjum0e1m5qU5A4PtsG1cJJVUhS+XGMEXq5v7RgJqZ\n",
       "cSJBWqpLcV7+nYn/FbBQtlcjSDS+q4tcz/27a4vpIW1iFGXmiYki1aWU/EhlOAb3UMbduVyFD40V\n",
       "JrQKNMAAAADIQZ/CRRUsO/8A5Q/XuzSLgA5tAZ4DctZBlkyK597wPUjhb3xYAZJC5d7DnoFtn/ki\n",
       "1efh/NbV7p9yKLNY4u0JlupFoH3QoW0FXDKbjeOVsvF+K3OMxGZRY84ZDdu4LlvoDnAGWT+YOQ54\n",
       "2yfHzG+8Mt/SElRZ6c6HbYXaCwbcx6+m0CfiPoNHlTbuPUUHeWRSMUZm0Am+d8Wqh02nW0C7TyxD\n",
       "FLOscGcc650Ykw+zZKsEpSiuetx/7SJnFjxLXP4qVSOMPq65rfEAAABaAZ/hdEN/ARrZB5pdNuUG\n",
       "lSP3gBKfQi+Hvasty5bjqMTEJ+cPj1k5tqFOUAWQG/4fifiGisTzCy2F58JOfi5c/SWC9MIeRjiH\n",
       "+Qcy343qyuDN15Bre+KV6UFsAAAAdAGf42pDfwFF5SYxKMAG0RWf5CA3MSJTT4SYqAU1gQg6JSSg\n",
       "1ptes1B+gsxiDF9gwUJ95ITV/OtWNMueoFI+t2GDysWRl8vzH0rhDu0EY3LXMLCxLBGCYhmvw5zY\n",
       "hWxQF7WFt/KyJCxDHByIeeskFiHhIOUlAAAA8UGb6EmoQWyZTAgh//6qVQQkuf+hrvQAWoR7tEKj\n",
       "rHZ/CmnP2qO5e4BF1fgpPiW5HNRN3qYs28v0mH+WcG7++3TUWBRSj9jRhArNdlYLi34y3UJKDKWY\n",
       "/KUBLJPb5FpV4bxNfOuzW0B3bQmM/fpEs/hqCx3Kha7rqWZ5A1hzz8wovVFqdb7ajYUbh+BEge9Z\n",
       "Tv87QvI2SXOt+pQkVt25KlNb0DlSEffjeSLlVhV25NMdJanLsQlrgMdNzMnjc6wDhzPXE/PqmxWD\n",
       "Cl2gQ5YF3zkFBjg+YSH8R2oyBQn+WN+qKNLo8mdOqpwyeaX3NzbUWpkAAADQQZ4GRRUsO/8BIgj/\n",
       "rfcgAvmu9UEfQl4lecyqR38mQayGvDVbdmAjbAwhaNqhy6wnxmGQDSYqbhI6mWM1G0Q97OOLfonj\n",
       "OulRzKvQ1QKJ7JbN16qIAuq7pDTgz/k2mxqxWC8MybWzDgzqZgGgLP0Oihfmk7l2CPi609mj/i8r\n",
       "YF9QpBswrtOhW3R9K60hdSYE0g/MADfhmlXbFTqbeYHkmEwc0UakfRq7H/7QKZ4fPCVEm6nUBLVX\n",
       "KG/FkwLXt2Y5H53S2/NPE9QkJ+Eu2sc9IQAAAIgBniV0Q38BaoTQa8AG1XISa64lAf6WihX+tCxS\n",
       "6cOhxfv8Nah35z1k1uycpOoWvzxVlatXPITTs2M6ORZt5UY5SuqxdLqO9x7/hvNIVbjMDsqm0bU9\n",
       "Ld/ijplpZuVT3ke+BrR2DXtzYxokbTPiK3vwLrM9Zk17SSvGh0cB7RbIV2rZSZv98oG1AAAA0AGe\n",
       "J2pDfwGYez1/cEEbgBCc9009X1O85IJDuAbvjFBPxj8uqszchPXOukfToSzPHghbyrrfiO76YJGd\n",
       "iCS1RoIeZK17mc6lZPgkk5Gu5W72PNaZ0MI1ykOYuzsY4gCeJMthbB6CJf/BeQBNBLEYiJZU9FcI\n",
       "XcCS7vWC7NuVUwHSHYhfIf/xC8XJv11XpIgXxnaIlN7mgb7vrYn2kf1o3Uffs0G+FaYmhIdtjYtz\n",
       "fCHqdvQPKTEm8KPg1VuL85+d1sjnad1PM/w0flGowpmyUS8AAADBQZosSahBbJlMCH///qmWDP04\n",
       "i8PgQdABCnqrBRYnxEGHfPEd0ElJVNLTqtMna0LuGvh3LGyme2A9lPjpnfW//8Nv8aFmFI6VopvQ\n",
       "BBbgY8prUd665/4PJrO7c/E35v2LX8Q39p3n1FqKXBC7sT6Nk7PAXMyB7gFGhKxjMfzX7w8UxNyP\n",
       "nXqHJ9StknEds5bSMvwXn0Oh7pzhxWFwN292TWA0iXd9b6E4gsr/sIIGl3SgTR9vaZeecmaDkX4u\n",
       "FUT9gAAAANlBnkpFFSw7/wEhtLbrT6/kZUr/Cx9ZwAZbXSVax9/fQA1eTMppqOvlbN3MCZc03aXx\n",
       "v7J3N23XfJ0uB6L/7RZ/AGG3aX4pxeLBGLkqDnngiMH23ddyJglKDi/eG1v6On77Kl1m4Kzvuclg\n",
       "Zyf0a+eziX2su3HXKfYE6Gty36HrDJZgoNInt5d9aeMfmd0+qQJ6qrxRtJeWUEyxXyUxhiPM5iHt\n",
       "IeooFKvIXm0Z1XzFGWiDMFKSpqkz7C/mpBgjBjYocgM95957FmKHU1pqS+qrGmLgHKblEMz5AAAA\n",
       "3AGeaXRDfwGXtZr8q8eHNmeIADZQWkFkvPIJh9J9Lr79evpmkyRCWi00QbkdWSyzfPLTfUUx1lNh\n",
       "HZBski3r9MEYT1nO0ZPaF6FS+43Kr0erJEYaRwVu33doJPW6RFC3N36UU1I7Ryj6EjnAXRtTVOVH\n",
       "8wOJIEFouWyO4j/b+aOPjwEnvmArg5J24+Pni1Y78EPixATb8iRC4tvrmOar226+X3+OJKJXVqwP\n",
       "3WDX/j+LCMq5Pr/R/TzKBbvkMIcbuE5A7vN5eWClyFD9zvKnHEZ74ZIlH4pFami5iqgAAADQAZ5r\n",
       "akN/AJ1yukZbdbeaAC1H/mAjh3JZDnMyAwxcNjNqs/xiaruTM0bIxnomVMTTJWm39eMMyeBHfrRO\n",
       "e725xcS1e4QtF3lNee5b2uAqtRNoY03mWvtZ8KMutlsySqUQJVL6kpKSYhQ75oWEv7KcU3L9JB8S\n",
       "Pq9Pi+6+yuqA2hkYYo3D90E4i3MzxsJTnCH1M59aKZY6maI/AwhuBBtRWg5WfgNN3b6Hi/pBBjX9\n",
       "2IpRu79hEKIz9tM9B1H9Orxo0ioTS6JKiMZHN3M80cBDwAAAANtBmm9JqEFsmUwIb//+p4QCBUHp\n",
       "/LyACIPeX/tIfZc3vORPwyVVu/vIH7pl6MyvVRxiM0BJ4SmVVPcDwgYqurHhQsrNWoq/zGpWfmHG\n",
       "GzMLAdGTjPYyLUBGu73ovAcgCfUh6iZD5teERaxZLY9U7NmjcB49LJcoa7ROXMxBmzba5RnJCD+9\n",
       "9sK6mM5Gc7xXAPvVNsfAnMx5F9NXHAM09c1Hf4tjQGqvbT3jRYfD2iTQao7jNF1RFswv/fzmJ/Dt\n",
       "k76KYIIIoRDuPtqKeHiW3ceA5yh+iByGGsZDGJUAAACRQZ6OQhv/AJ+nte976j1+u3whk4wAcuCz\n",
       "XeMXo0/+kVrUrbBfjBmopD+yCxquXgLneY/h+oxfkIdunde/FqIYo8RDDNo2RN8t48IcpLpN/aIV\n",
       "FnwrUAr8wfy51tQPB0mjDUkCoZLSoNkv5r86yOvsIxjKR+wI6s9pxLpfNsi3SQ0mkN+wgWjtN2p9\n",
       "1J9JRdosoQAAAIwBnq1pEN8An7GyFu+CdxqjNe3EYPgAujam6QAkvQwEr8CiFsHXUXS0OfM4sIhV\n",
       "dyOfd28JVOzkdC/91MpmA5iUt+ffsSae6NG2YF9o4RUVDENFC0oTrMq7T3iLSwItV8oAlYJ4BMAt\n",
       "+mlzmY9BE+z6Je2pcHAtJXJzWc9Bazi5eGTs9rOXlq7yRgC4gQAACX5tb292AAAAbG12aGQAAAAA\n",
       "AAAAAAAAAAAAAAPoAAA4QAABAAABAAAAAAAAAAAAAAAAAQAAAAAAAAAAAAAAAAAAAAEAAAAAAAAA\n",
       "AAAAAAAAAEAAAAAAAAAAAAAAAAAAAAAAAAAAAAAAAAAAAAAAAAACAAAIqHRyYWsAAABcdGtoZAAA\n",
       "AAMAAAAAAAAAAAAAAAEAAAAAAAA4QAAAAAAAAAAAAAAAAAAAAAAAAQAAAAAAAAAAAAAAAAAAAAEA\n",
       "AAAAAAAAAAAAAAAAAEAAAAABsAAAASAAAAAAACRlZHRzAAAAHGVsc3QAAAAAAAAAAQAAOEAAAAgA\n",
       "AAEAAAAACCBtZGlhAAAAIG1kaGQAAAAAAAAAAAAAAAAAACgAAAJAAFXEAAAAAAAtaGRscgAAAAAA\n",
       "AAAAdmlkZQAAAAAAAAAAAAAAAFZpZGVvSGFuZGxlcgAAAAfLbWluZgAAABR2bWhkAAAAAQAAAAAA\n",
       "AAAAAAAAJGRpbmYAAAAcZHJlZgAAAAAAAAABAAAADHVybCAAAAABAAAHi3N0YmwAAACzc3RzZAAA\n",
       "AAAAAAABAAAAo2F2YzEAAAAAAAAAAQAAAAAAAAAAAAAAAAAAAAABsAEgAEgAAABIAAAAAAAAAAEA\n",
       "AAAAAAAAAAAAAAAAAAAAAAAAAAAAAAAAAAAAAAAAAAAY//8AAAAxYXZjQwFkABX/4QAYZ2QAFazZ\n",
       "QbCWhAAAAwAEAAADAFA8WLZYAQAGaOvjyyLAAAAAHHV1aWRraEDyXyRPxbo5pRvPAyPzAAAAAAAA\n",
       "ABhzdHRzAAAAAAAAAAEAAACQAAAEAAAAABRzdHNzAAAAAAAAAAEAAAABAAAEIGN0dHMAAAAAAAAA\n",
       "ggAAAAEAAAgAAAAAAQAAFAAAAAABAAAIAAAAAAEAAAAAAAAAAQAABAAAAAABAAAUAAAAAAEAAAgA\n",
       "AAAAAQAAAAAAAAABAAAEAAAAAAEAABQAAAAAAQAACAAAAAABAAAAAAAAAAEAAAQAAAAAAgAACAAA\n",
       "AAABAAAUAAAAAAEAAAgAAAAAAQAAAAAAAAABAAAEAAAAAAIAAAgAAAAAAQAAFAAAAAABAAAIAAAA\n",
       "AAEAAAAAAAAAAQAABAAAAAACAAAIAAAAAAEAABQAAAAAAQAACAAAAAABAAAAAAAAAAEAAAQAAAAA\n",
       "BQAACAAAAAABAAAUAAAAAAEAAAgAAAAAAQAAAAAAAAABAAAEAAAAAAEAABQAAAAAAQAACAAAAAAB\n",
       "AAAAAAAAAAEAAAQAAAAAAQAAFAAAAAABAAAIAAAAAAEAAAAAAAAAAQAABAAAAAABAAAIAAAAAAEA\n",
       "ABQAAAAAAQAACAAAAAABAAAAAAAAAAEAAAQAAAAAAgAACAAAAAABAAAUAAAAAAEAAAgAAAAAAQAA\n",
       "AAAAAAABAAAEAAAAAAEAABQAAAAAAQAACAAAAAABAAAAAAAAAAEAAAQAAAAAAwAACAAAAAABAAAU\n",
       "AAAAAAEAAAgAAAAAAQAAAAAAAAABAAAEAAAAAAEAABQAAAAAAQAACAAAAAABAAAAAAAAAAEAAAQA\n",
       "AAAAAQAAFAAAAAABAAAIAAAAAAEAAAAAAAAAAQAABAAAAAABAAAUAAAAAAEAAAgAAAAAAQAAAAAA\n",
       "AAABAAAEAAAAAAEAABQAAAAAAQAACAAAAAABAAAAAAAAAAEAAAQAAAAAAQAAFAAAAAABAAAIAAAA\n",
       "AAEAAAAAAAAAAQAABAAAAAAEAAAIAAAAAAEAABQAAAAAAQAACAAAAAABAAAAAAAAAAEAAAQAAAAA\n",
       "AQAAFAAAAAABAAAIAAAAAAEAAAAAAAAAAQAABAAAAAABAAAUAAAAAAEAAAgAAAAAAQAAAAAAAAAB\n",
       "AAAEAAAAAAEAABQAAAAAAQAACAAAAAABAAAAAAAAAAEAAAQAAAAAAQAACAAAAAABAAAUAAAAAAEA\n",
       "AAgAAAAAAQAAAAAAAAABAAAEAAAAAAEAABQAAAAAAQAACAAAAAABAAAAAAAAAAEAAAQAAAAAAgAA\n",
       "CAAAAAABAAAUAAAAAAEAAAgAAAAAAQAAAAAAAAABAAAEAAAAAAEAABQAAAAAAQAACAAAAAABAAAA\n",
       "AAAAAAEAAAQAAAAAAQAAFAAAAAABAAAIAAAAAAEAAAAAAAAAAQAABAAAAAABAAAUAAAAAAEAAAgA\n",
       "AAAAAQAAAAAAAAABAAAEAAAAAAEAABQAAAAAAQAACAAAAAABAAAAAAAAAAEAAAQAAAAAAQAAEAAA\n",
       "AAABAAAIAAAAAAEAAAAAAAAAHHN0c2MAAAAAAAAAAQAAAAEAAACQAAAAAQAAAlRzdHN6AAAAAAAA\n",
       "AAAAAACQAAANrAAAAY8AAADyAAAAjAAAAO4AAAEcAAAA4QAAAJ0AAADjAAAA3AAAANUAAADQAAAA\n",
       "hwAAAIkAAACtAAAAxwAAANQAAACFAAAAcwAAAGQAAABlAAAA7AAAAM8AAAB4AAAAgwAAAEsAAABF\n",
       "AAAA3wAAAM0AAAA6AAAAfwAAAJAAAACuAAAArAAAAIUAAACHAAAAuwAAAMEAAACQAAAAcwAAAMoA\n",
       "AACbAAAAfQAAAHoAAADCAAAAtAAAAMwAAAA/AAAAUwAAAK8AAABKAAAATQAAAEYAAACeAAAApAAA\n",
       "AM0AAADgAAAA3AAAANUAAADSAAAAzgAAAOkAAACKAAAAewAAACwAAAA/AAAA1AAAAIoAAAA+AAAA\n",
       "jgAAALEAAACdAAAAbAAAAFsAAADJAAAA1gAAAGMAAACGAAAAxwAAANQAAABBAAAAMwAAANMAAADV\n",
       "AAAAfgAAANIAAADLAAAAzAAAAN4AAADYAAAAlAAAAKsAAABBAAAAPgAAALQAAACSAAAAOwAAAGoA\n",
       "AADNAAAAuAAAAGQAAAC5AAAAuwAAAOwAAABBAAAAOAAAANMAAADRAAAAhgAAAEsAAAB8AAAA2QAA\n",
       "AJsAAAB5AAAAdwAAAOIAAADwAAAA2AAAAIkAAACiAAAAoAAAAMMAAADDAAAAYwAAAG4AAADmAAAA\n",
       "bwAAAFMAAAB+AAAAzwAAAMwAAABeAAAAeAAAAPUAAADUAAAAjAAAANQAAADFAAAA3QAAAOAAAADU\n",
       "AAAA3wAAAJUAAACQAAAAFHN0Y28AAAAAAAAAAQAAACwAAABidWR0YQAAAFptZXRhAAAAAAAAACFo\n",
       "ZGxyAAAAAAAAAABtZGlyYXBwbAAAAAAAAAAAAAAAAC1pbHN0AAAAJal0b28AAAAdZGF0YQAAAAEA\n",
       "AAAATGF2ZjU2LjQwLjEwMQ==\n",
       "\">\n",
       "  Your browser does not support the video tag.\n",
       "</video>"
      ],
      "text/plain": [
       "<matplotlib.animation.FuncAnimation at 0x117780fd0>"
      ]
     },
     "execution_count": 10,
     "metadata": {},
     "output_type": "execute_result"
    }
   ],
   "source": [
    "plotTrajectoriesFile('EddyParticles.nc', mode = 'movie2d_notebook')"
   ]
  },
  {
   "cell_type": "markdown",
   "metadata": {},
   "source": [
    "Now one of the neat features of PARCELS is that the particles can be plotted as a movie *during* execution. To rerun the particles while plotting them on top of the zonal velocity field (`grid.U`), first reinitialise the `ParticleSet` and then re-execute. However, now rather than saving the output to a file, display a movie using the `show_movie` keyword, in this case with the zonal velocity `grid.U` as background"
   ]
  },
  {
   "cell_type": "code",
   "execution_count": 11,
   "metadata": {
    "collapsed": true
   },
   "outputs": [],
   "source": [
    "## THIS DOES NOT WORK YET IN THIS IPYTHON NOTEBOOK, BECAUSE OF THE INLINE PLOTTING. \n",
    "## IT WILL WORK ON MOST MACHINES, THOUGH\n",
    "# pset = grid.ParticleSet(size=2, pclass=JITParticle, lon=[3.3, 3.3], lat=[46.0, 47.8])\n",
    "# pset.execute(AdvectionRK4, \n",
    "#              runtime=timedelta(days=6), \n",
    "#              dt=timedelta(minutes=5), \n",
    "#              interval=timedelta(hours=1),\n",
    "#              show_movie=grid.U)"
   ]
  },
  {
   "cell_type": "markdown",
   "metadata": {},
   "source": [
    "## Adding a custom behaviour kernel <a name=\"customkernel\"></a>"
   ]
  },
  {
   "cell_type": "markdown",
   "metadata": {},
   "source": [
    "A key feature of PARCELS is the ability to quickly create very simple kernels, and add them to the execution. Kernels in this case our little snippets of code that alter the trajectories of the particles. \n",
    "In this example, we'll create a simple kernel where particles obtain an extra 5 m/s westward velocity after 1 day. Of course, this is not very realistic scenario, but it nicely illustrates the power of custom kernels."
   ]
  },
  {
   "cell_type": "code",
   "execution_count": 12,
   "metadata": {
    "collapsed": false
   },
   "outputs": [],
   "source": [
    "def WestVel(particle, grid, time, dt):\n",
    "    if time > 86400:\n",
    "        uvel = -2.\n",
    "        particle.lon += uvel * dt / 1852 / 60# * np.cos(particle.lat)* 3.1415926 /180"
   ]
  },
  {
   "cell_type": "markdown",
   "metadata": {},
   "source": [
    "Now reset the `ParticleSet` again, and re-execute. Note that we have now changed `kernel` to be `AdvectionRK4 + k_WestVel`, where `k_WestVel` is the `WestVel` function as defined above cast into a `Kernel` object (via the `pset.Kernel` call)."
   ]
  },
  {
   "cell_type": "code",
   "execution_count": 13,
   "metadata": {
    "collapsed": false
   },
   "outputs": [
    {
     "name": "stdout",
     "output_type": "stream",
     "text": [
      "Compiled JITParticleAdvectionRK4WestVel ==> /var/folders/r2/8593q8z93kd7t4j9kbb_f7p00000gn/T/parcels-501/42db79cc91d56809425b7fa912780235.so\n"
     ]
    }
   ],
   "source": [
    "pset = grid.ParticleSet(size=2, pclass=JITParticle, lon=[3.3, 3.3], lat=[46.0, 47.8])\n",
    "\n",
    "k_WestVel = pset.Kernel(WestVel)       # casting the WestVel function to a kernel object\n",
    "\n",
    "pset.execute(AdvectionRK4 + k_WestVel, # simply add kernels using the + operator\n",
    "             runtime=timedelta(days=3), \n",
    "             dt=timedelta(minutes=5), \n",
    "             interval=timedelta(hours=1),\n",
    "             output_file=pset.ParticleFile(name=\"EddyParticles_WestVel\"))"
   ]
  },
  {
   "cell_type": "markdown",
   "metadata": {},
   "source": [
    "And now plot this new trajectory file"
   ]
  },
  {
   "cell_type": "code",
   "execution_count": 14,
   "metadata": {
    "collapsed": false
   },
   "outputs": [
    {
     "data": {
      "image/png": "[encoded data removed]",
      "text/plain": [
       "<matplotlib.figure.Figure at 0x11761f090>"
      ]
     },
     "metadata": {},
     "output_type": "display_data"
    }
   ],
   "source": [
    "plotTrajectoriesFile('EddyParticles_Westvel.nc')"
   ]
  },
  {
   "cell_type": "markdown",
   "metadata": {
    "collapsed": true
   },
   "source": [
    "## Reading in data from arbritrary NetCDF files <a name=\"netcdf\"></a>"
   ]
  },
  {
   "cell_type": "markdown",
   "metadata": {},
   "source": [
    "In most cases, you will want to advect particles within pre-computed velocity fields. If these velocity fields are stored in NetCDF format, it is fairly easy to load them into the `Grid.from_netcdf()` function."
   ]
  },
  {
   "cell_type": "markdown",
   "metadata": {},
   "source": [
    "The `examples` directory contains a set of [GlobCurrent](http://globcurrent.ifremer.fr/products-data/products-overview) files of the region around South Africa. "
   ]
  },
  {
   "cell_type": "markdown",
   "metadata": {},
   "source": [
    "First, define the names of the files containing the zonal (U) and meridional (V) velocities. You can use wildcards (`*`) and the filenames for U and V can be the same (as in this case)"
   ]
  },
  {
   "cell_type": "code",
   "execution_count": 15,
   "metadata": {
    "collapsed": false
   },
   "outputs": [],
   "source": [
    "filenames = {'U': \"examples/GlobCurrent_example_data/20*.nc\",\n",
    "             'V': \"examples/GlobCurrent_example_data/20*.nc\"}"
   ]
  },
  {
   "cell_type": "markdown",
   "metadata": {},
   "source": [
    "Then, define a dictionary of the variables (`U` and `V`) and dimensions (`lon`, `lat` and `time`; note that in this case there is no `depth` because the GlobCurrent data is only for the surface of the ocean)"
   ]
  },
  {
   "cell_type": "code",
   "execution_count": 16,
   "metadata": {
    "collapsed": false
   },
   "outputs": [],
   "source": [
    "variables = {'U': 'eastward_eulerian_current_velocity', \n",
    "             'V': 'northward_eulerian_current_velocity'}\n",
    "dimensions = {'lat': 'lat', \n",
    "              'lon': 'lon', \n",
    "              'time': 'time'}"
   ]
  },
  {
   "cell_type": "markdown",
   "metadata": {},
   "source": [
    "Finally, read in the grid using the `Grid.from_netcdf` function with the above-defined `filenames`, `variables` and `dimensions`"
   ]
  },
  {
   "cell_type": "code",
   "execution_count": 17,
   "metadata": {
    "collapsed": false
   },
   "outputs": [
    {
     "name": "stdout",
     "output_type": "stream",
     "text": [
      "WARNING: Casting lon data to np.float32\n",
      "WARNING: Casting lat data to np.float32\n",
      "WARNING: Casting lon data to np.float32\n",
      "WARNING: Casting lat data to np.float32\n"
     ]
    }
   ],
   "source": [
    "grid = Grid.from_netcdf(filenames, variables, dimensions)"
   ]
  },
  {
   "cell_type": "markdown",
   "metadata": {},
   "source": [
    "Now define a `ParticleSet`, in this case with 10 particle starting on a line between (27E, 35S) and (29E, 35S)"
   ]
  },
  {
   "cell_type": "code",
   "execution_count": 18,
   "metadata": {
    "collapsed": true
   },
   "outputs": [],
   "source": [
    "pset = grid.ParticleSet(size=5,           # releasing 5 particles\n",
    "                        pclass=Particle,  # Using scipy mode\n",
    "                        start=(28, -33),  # releasing on a line: the start longitude and latitude\n",
    "                        finish=(30, -33)) # releasing on a line: the end longitude and latitude"
   ]
  },
  {
   "cell_type": "markdown",
   "metadata": {},
   "source": [
    "And finally execute the `ParticleSet` for 1 week using 4th order Runge-Kutta, and show a movie on top of the zonal velocity"
   ]
  },
  {
   "cell_type": "code",
   "execution_count": 19,
   "metadata": {
    "collapsed": true
   },
   "outputs": [],
   "source": [
    "pset.execute(AdvectionRK4, \n",
    "             runtime=timedelta(days=10),\n",
    "             dt=timedelta(minutes=5),\n",
    "             interval=timedelta(hours=6),\n",
    "             output_file=pset.ParticleFile(name=\"GlobCurrentParticles\"))"
   ]
  },
  {
   "cell_type": "markdown",
   "metadata": {},
   "source": [
    "Now visualise this simulation using the `plotParticles` script again. Note you can plot the particles on top of one of the velocity fields using the `tracerfile`, `tracerfield`, etc keywords."
   ]
  },
  {
   "cell_type": "code",
   "execution_count": 20,
   "metadata": {
    "collapsed": false
   },
   "outputs": [
    {
     "data": {
      "image/png": "[encoded data removed]",
      "text/plain": [
       "<matplotlib.figure.Figure at 0x116e63e90>"
      ]
     },
     "metadata": {},
     "output_type": "display_data"
    }
   ],
   "source": [
    "plotTrajectoriesFile('GlobCurrentParticles.nc', \n",
    "                     tracerfile='examples/GlobCurrent_example_data/20020101000000-GLOBCURRENT-L4-CUReul_hs-ALT_SUM-v02.0-fv01.0.nc', \n",
    "                     tracerlon='lon', \n",
    "                     tracerlat='lat', \n",
    "                     tracerfield='eastward_eulerian_current_velocity')"
   ]
  },
  {
   "cell_type": "markdown",
   "metadata": {},
   "source": [
    "## A second example kernel: calculating distance travelled"
   ]
  },
  {
   "cell_type": "markdown",
   "metadata": {},
   "source": [
    "As a second example of what custom kernels can do, we will now show how to create a kernel that logs the total distance that particles have travelled."
   ]
  },
  {
   "cell_type": "markdown",
   "metadata": {},
   "source": [
    "First, we need to create a new `ParticleSet` that includes a few extra variables (called `user_vars` in PARCELS)"
   ]
  },
  {
   "cell_type": "code",
   "execution_count": 21,
   "metadata": {
    "collapsed": true
   },
   "outputs": [],
   "source": [
    "class DistParticle(Particle):             # Define a new particle class with all the variables needed.\n",
    "    \n",
    "    user_vars = {'distance': np.float32,  # Three new variables: the distance as well as \n",
    "                 'prev_lon': np.float32,  # the previous longitude and\n",
    "                 'prev_lat': np.float32}  # the previous latitude.\n",
    "    \n",
    "    def __init__(self, *args, **kwargs):\n",
    "        super(DistParticle, self).__init__(*args, **kwargs) # Inheritance of other fields for new particles.\n",
    "        self.distance = 0.                # Set default values for the three new variables\n",
    "        self.prev_lon = self.lon\n",
    "        self.prev_lat = self.lat"
   ]
  },
  {
   "cell_type": "markdown",
   "metadata": {},
   "source": [
    "Now define a new function `totaldistance` that calculates the sum of Euclidean distances between the old and new locations in each RK4 step"
   ]
  },
  {
   "cell_type": "code",
   "execution_count": 22,
   "metadata": {
    "collapsed": false
   },
   "outputs": [],
   "source": [
    "def totaldistance(particle, grid, time, dt):\n",
    "    # Calculate the distance in latitudinal direction (from degrees to meters by 1.11e5 m/deg)\n",
    "    lat_dist = (particle.lat - particle.prev_lat) * 1.11e5\n",
    "    # Calculate the distance in longitudinal direction, using cosine of latitude for spherical earth\n",
    "    lon_dist = (particle.lon - particle.prev_lon) * 1.11e5 * math.cos(particle.lat) * math.pi /180\n",
    "    # Calculate the total Euclidean distance travelled by the particle\n",
    "    particle.distance += math.sqrt((lon_dist)**2 + (lat_dist)**2)\n",
    "\n",
    "    particle.prev_lon = particle.lon        # Set the stored values for next iteration.\n",
    "    particle.prev_lat = particle.lat"
   ]
  },
  {
   "cell_type": "markdown",
   "metadata": {},
   "source": [
    "We will run this on a `ParticleSet` containing the two particles within the idealised moving eddies grid from above. Note that `pclass=DistParticle` in this case"
   ]
  },
  {
   "cell_type": "code",
   "execution_count": 23,
   "metadata": {
    "collapsed": true
   },
   "outputs": [],
   "source": [
    "grid = Grid.from_nemo(\"examples/MovingEddies_data/moving_eddies\")\n",
    "pset = grid.ParticleSet(size=2, pclass=DistParticle, lon=[3.3, 3.3], lat=[46.0, 47.8])"
   ]
  },
  {
   "cell_type": "markdown",
   "metadata": {},
   "source": [
    "Again define a new kernel to include the function written above."
   ]
  },
  {
   "cell_type": "code",
   "execution_count": 24,
   "metadata": {
    "collapsed": false
   },
   "outputs": [],
   "source": [
    "k_dist = pset.Kernel(totaldistance)    # Cast totaldistance function as a kernel."
   ]
  },
  {
   "cell_type": "markdown",
   "metadata": {},
   "source": [
    "Now execute the `ParticleSet`"
   ]
  },
  {
   "cell_type": "code",
   "execution_count": 25,
   "metadata": {
    "collapsed": false
   },
   "outputs": [],
   "source": [
    "pset.execute(AdvectionRK4 + k_dist,       # Add kernels using the + operator.\n",
    "             runtime=timedelta(days=6),          \n",
    "             dt=timedelta(minutes=5),            \n",
    "             interval=timedelta(hours=1),        \n",
    "             output_file=pset.ParticleFile(name=\"EddyParticles_Dist\"))"
   ]
  },
  {
   "cell_type": "markdown",
   "metadata": {},
   "source": [
    "And finally print the distance that each particle has travelled (note that this is also stored in the `EddyParticles_Dist.nc` file)"
   ]
  },
  {
   "cell_type": "code",
   "execution_count": 26,
   "metadata": {
    "collapsed": false
   },
   "outputs": [
    {
     "name": "stdout",
     "output_type": "stream",
     "text": [
      "709116.041017\n",
      "756262.863441\n"
     ]
    }
   ],
   "source": [
    "for particle in pset:           # Print the distance travelled by our particle.\n",
    "    print particle.distance"
   ]
  }
 ],
 "metadata": {
  "kernelspec": {
   "display_name": "Python 2",
   "language": "python",
   "name": "python2"
  },
  "language_info": {
   "codemirror_mode": {
    "name": "ipython",
    "version": 2
   },
   "file_extension": ".py",
   "mimetype": "text/x-python",
   "name": "python",
   "nbconvert_exporter": "python",
   "pygments_lexer": "ipython2",
   "version": "2.7.11"
  }
 },
 "nbformat": 4,
 "nbformat_minor": 0
}
