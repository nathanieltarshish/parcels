{
 "cells": [
  {
   "cell_type": "markdown",
   "metadata": {},
   "source": [
    "# PARCELS Tutorial"
   ]
  },
  {
   "cell_type": "markdown",
   "metadata": {},
   "source": [
    "Welcome to a quick tutorial on PARCELS. This is meant to get you started with the code, and give you a flavour of some of the key features of PARCELS."
   ]
  },
  {
   "cell_type": "markdown",
   "metadata": {},
   "source": [
    "In this tutorial, we will first cover how to run a set of particles [from a very simple idealised grid](#idealised). Then, we will show how to [add custom behaviour](#customkernel) to the particles. And finally, we will show how to [run particles in a set of NetCDF files from external data](#netcdf)"
   ]
  },
  {
   "cell_type": "markdown",
   "metadata": {},
   "source": [
    "Let's start with importing the relevant modules. The key ones are all in the `parcels` directory. First load in the key functions."
   ]
  },
  {
   "cell_type": "code",
   "execution_count": 1,
   "metadata": {
    "collapsed": false
   },
   "outputs": [],
   "source": [
    "%matplotlib inline\n",
    "from parcels import *\n",
    "from scripts import *\n",
    "import numpy as np\n",
    "import math\n",
    "from datetime import timedelta"
   ]
  },
  {
   "cell_type": "markdown",
   "metadata": {},
   "source": [
    "## Running particles in an idealised grid <a name=\"idealised\"></a>"
   ]
  },
  {
   "cell_type": "markdown",
   "metadata": {},
   "source": [
    "The first step to running particles with PARCELS is to define a `grid` object. In this first case, we use a simple flow of two idealised moving eddies. That field is saved in NetCDF format in the directory `examples/MovingEddies_data`. Since we know that the files are in what's called `NEMO` format, we can call these files using the function `Grid.from_nemo`."
   ]
  },
  {
   "cell_type": "code",
   "execution_count": 2,
   "metadata": {
    "collapsed": false
   },
   "outputs": [],
   "source": [
    "grid = Grid.from_nemo(\"examples/MovingEddies_data/moving_eddies\")"
   ]
  },
  {
   "cell_type": "markdown",
   "metadata": {},
   "source": [
    "The grid can then be visualised with the `show()` function. To plot an animation of the zonal velocity (`U`), give the following command"
   ]
  },
  {
   "cell_type": "code",
   "execution_count": 3,
   "metadata": {
    "collapsed": false
   },
   "outputs": [
    {
     "data": {
      "text/html": [
       "<video width=\"432.0\" height=\"288.0\" controls autoplay loop>\n",
       "  <source type=\"video/mp4\" src=\"data:video/mp4;base64,AAAAHGZ0eXBNNFYgAAACAGlzb21pc28yYXZjMQAAAAhmcmVlAAA1N21kYXQAAAKgBgX//5zcRem9\n",
       "5tlIt5Ys2CDZI+7veDI2NCAtIGNvcmUgMTQ4IC0gSC4yNjQvTVBFRy00IEFWQyBjb2RlYyAtIENv\n",
       "cHlsZWZ0IDIwMDMtMjAxNSAtIGh0dHA6Ly93d3cudmlkZW9sYW4ub3JnL3gyNjQuaHRtbCAtIG9w\n",
       "dGlvbnM6IGNhYmFjPTEgcmVmPTMgZGVibG9jaz0xOjA6MCBhbmFseXNlPTB4MzoweDExMyBtZT1o\n",
       "ZXggc3VibWU9NyBwc3k9MSBwc3lfcmQ9MS4wMDowLjAwIG1peGVkX3JlZj0xIG1lX3JhbmdlPTE2\n",
       "IGNocm9tYV9tZT0xIHRyZWxsaXM9MSA4eDhkY3Q9MSBjcW09MCBkZWFkem9uZT0yMSwxMSBmYXN0\n",
       "X3Bza2lwPTEgY2hyb21hX3FwX29mZnNldD0tMiB0aHJlYWRzPTkgbG9va2FoZWFkX3RocmVhZHM9\n",
       "MSBzbGljZWRfdGhyZWFkcz0wIG5yPTAgZGVjaW1hdGU9MSBpbnRlcmxhY2VkPTAgYmx1cmF5X2Nv\n",
       "bXBhdD0wIGNvbnN0cmFpbmVkX2ludHJhPTAgYmZyYW1lcz0zIGJfcHlyYW1pZD0yIGJfYWRhcHQ9\n",
       "MSBiX2JpYXM9MCBkaXJlY3Q9MSB3ZWlnaHRiPTEgb3Blbl9nb3A9MCB3ZWlnaHRwPTIga2V5aW50\n",
       "PTI1MCBrZXlpbnRfbWluPTEwIHNjZW5lY3V0PTQwIGludHJhX3JlZnJlc2g9MCByY19sb29rYWhl\n",
       "YWQ9NDAgcmM9Y3JmIG1idHJlZT0xIGNyZj0yMy4wIHFjb21wPTAuNjAgcXBtaW49MCBxcG1heD02\n",
       "OSBxcHN0ZXA9NCBpcF9yYXRpbz0xLjQwIGFxPTE6MS4wMACAAAAVWmWIhAAR//73iB8yy2n5Otdy\n",
       "EeetLq0fUO5GcV6kvf4gAAADABacrtfxCc+uAA4u7V2uXqTWrlJpoGEUjreH6xwOjqmU42cQlQWC\n",
       "kRzdgrRaOR08DJyczaoDoxpTMXyBxgOC8Gncn41s+z6XWMFnHwpHFy5T0305/7gq5wpe+Q4fptx6\n",
       "rePhJ5SWyAltsx9EFHga/fK5KGZBCjwujj2MIfO/60CqZv2x23WLb5IYI4PSKzp03XLCxvhfsMDW\n",
       "erQey7ojJFgbr2iVaGNzVYRIOKzpRpUHV40GORCA/nYb06DAueftV8+kuSFMToJD2a2Kp6qgNNpa\n",
       "mX+Dlr0RCkkd48DzEZmz3D2Y8THJaloGCP/gjNDRxP4+TuOnYOk//GflBy/p5XXPwS4UmoA2OYsu\n",
       "p6eKiDChkiAdgoerFZaErqD15U3/AUmahiZw66Knyuc4QN9iexAo33Ghwu5P7gZEPqBnS9jCTfSV\n",
       "qnyzbOMMz0mvtNxQ1fIrO1+HC5K+Zt5iTECYcuXYER2O52w1u1gZfAWh1yiEwFZlKeyxmUMl9kCN\n",
       "5SRAWUzffqnL7d8u/JuI4DkIK6yxMmw1I+t6lXBuEeU5q+YC1DJS/O0hLLLM/PN5VU6149yFBQg2\n",
       "Ik/6wA5tIMTxUYOR0BsBI14ZaB9dItqZorrBPIeqQj3tbgm3jJVh8xC6xxr8bYUWzDz60Aa7/IQw\n",
       "u+ebww2Kt/6tPQCdan3th6kChUaS1x6u4SSerMY1ooz0VrSLLdNdjkDVBzZMARyMNAn68qZ0WMnv\n",
       "krtuFKdtXObgEvPe8id2FJMLpJD34k65CWpknAu1bgYnu70wmNSbTpGWG0LUFShJZUT6a4BDMlw9\n",
       "6AVhYx2g39Ns1XTyF7VNEt800RNChLi5duZSmiG88CbFVWILpZfnzNMfnNmDtZvG2pkcrBkAjj1D\n",
       "7oAAI8LRH8NPQj1gGmVd1m9ebiCfxP0WXwHZ/oq3V8y6QDAvcqoRGBEPLbCf9di23fhQUP7eoHRW\n",
       "/jpaM5YU8cZsAtUDzlreRORw3q13qab4RwxTdTJPrpIJBXJSFHGVNRLhDyNAae8VZVb60rg+6uc4\n",
       "Oz+drwoHVI0DS4e7Na0i3aAcAqhYDgcFHQNeF4jOxRT6/KZtPxXYEKlG/oqoGWZKEUnOSobl7SCE\n",
       "ZLAkU77VsTuge4MzrAqVSQY1r3NDCNL3elWlkS1n8emZWLGbR6aFVyGXpuH//U7RpFzVfzZFlEBs\n",
       "S48MbWMNK3zR4UhxYrYVIU9TBoCigjcikemd7QrZBXfghpTqO8luQ4VYn2npG9IW4rrMg0sIqkmx\n",
       "kIQF/dYvZu9ys6YjJ+RUQsryDPbHFkicBiusBu1cofSZ0IFfIuS8oRQoqPGA+knHxA7bI65ZR6ko\n",
       "PHxSEUhGDlx78GKuvU3ynLQORflZdXD4a4bEm9noMUx8Xi406iFvZo8+tG+fxOZaXLmKw3YyMJtL\n",
       "Usx9xHYZKDeVjswSgRxCUugfddZdwuLsoWnS9b3V4NdOECwDtD1naimjKLkGh25CnCn5rCXHAmNy\n",
       "d9emmdR8FidFgcoaIaUyvc7B28lHVmCE4cfA5ODKoz8P4XFakgQ+0dWW+UoSjEVRFAKDMwYGr6FC\n",
       "hENNuWb+7xfWyXUK7+q+d6dHQct0oFovDmdZadLsXSbSKbwDe3kxD2H5qe7u1U7k4Z2AEmeJrwos\n",
       "SY0eQy82JhV1Zwt+8D4DfvYgdYLNQS8a7QPZ9L9LKoInrsYP5TqRFobs+8TwK8P1njUBPJV56D3s\n",
       "AACzZG9hqwPZvhZPNeu246obustWTDx7XP7u33oqXYCjLJFWfN0sWjiiFsabMXmHgx2Q4kLvFt4s\n",
       "7QZQsCluNFLl3YIhYEKKnqQSuHgmxM+PHERChuyl7KYU4wst2xpz3tJ8klw01uOhN5yyEmOrUZSN\n",
       "8H1lejPiwaowaOdKDY5wRpsphdM+KQhFHAV69nfZZyND8U586G5+sAO818ZR52iKVkpKJCJYcTzD\n",
       "4Jf61KE//5msbqn3K1feEtgZd1zp++ho6Sn8UzUFjiKQ03ThhjrSobadaHBgN4v+GCFlHrcop/jy\n",
       "x9ghsvaEyJaBftH53tmZlghTAEgARpC9fUzzRBg56EXFi0S8XTJHj3WjFexnRZW5efshD2EfHsH6\n",
       "+t2VTW6vrQmpVztPwhpafxEADk/kQSBrolQexr91jr2kdpJjJE1O7WA+slWizdMDBE/r5JfmQAP/\n",
       "1O8fATdbjSkMzReyK87ajOImmvDp1JcQ+OBccVOMlsMmB3DUfLC6eoAWbIXc50OHiKsbqmaP9W+U\n",
       "U6FQPE7cCGOPxOHvfMWfBeuxKKVhZnmePehkRfyIOoDUYj0MQ68meRXHcMvfN+4S4HTtTsuYFYHo\n",
       "Y/hr65/lXWUaXOQLMpDnuS3C8ogWrkT9Q9UvXpoLmK4BG2J/5zk8AjKq3vPqhkpImYR/7QtX3uVb\n",
       "UF7plqfMvTDGHbWXvzSbl5YFiKvo2IroDHBjD23+KtFKoTYQUkVLvdOqLaK/h5d6PsUCLk4V4usz\n",
       "JTVH4Fv6Yf/sqGpsDg1qmOzEzITZJlcQt2VoVp+b65J+zlD6KScO/PBmDqKOmEiaAQjB6hSt/d5n\n",
       "/jcvPfw02wTMytzExkXB5LyJahaxx9FAK4W3psa+AfYmeTIKalOaKWUc2q/+3XzeESilSk+BL2nQ\n",
       "GRiD/XdYfEG7ore8I1FAgkskE93ZSG5AlHDUvj+eNz/GQvYoxNNi+3nsgHcM6CSr5PXQ/gNzA1Ff\n",
       "/F1swqbSQuSPjOu837r431jSyBmZfQAK5M4+IPMDgJ/dO7USrzNnsL4i1VG5RDyfMfI8uYi4ioP0\n",
       "zxOOOrKDA8vSgxJFXR9IRUUOH4cpsbGx/bfEhEiQxjEOrWOG6kziVUjGg2op3+59poaEhMob8bPI\n",
       "oUY2kBVdztYHi0yYKfqUrEvDvP3cil+8uKCmuSuOFn59hkjjVdUSHsKWC+wL7VQ2FyuxT/ec1m1h\n",
       "qKpKjU1USL3HL22TmPmJOoUJuxY+YOUj9pYdIVU/Q5/lZRPspZiMkJ6MJH2BIZiCxpuahcRIRa51\n",
       "TR+ICWjP5TK/aKfQ7CaZX9uBBabPVDJfwXHznYyqkn9On8x4RstPP1tEL3AymuShQwm1RVpyoMIK\n",
       "S7JP8PKqQdqM+ipp5CaIpS0TdVE6pfVKpv0a66bhtGKxQHVMx7D8Qu56jj8GuyiOb3+Y1CgkENcy\n",
       "NTtmlvMfvdCel1JVoLuN08jpjAg9wsK8OR9OLvDFX4g2vtfx3dTHxsTpmAkDMDmFf+HYetYjMzxx\n",
       "SXg/Z1jeIadS8ZUAm9ycQYgea1AIAWQ8lVkRXhmcFjx2IuZznFsUtxeJPgAP/yvOpQ+QK6hP3j2t\n",
       "0+lY8s+5CEmyjAV37oShXbFMigUIiOgBnfIyjP5j1pLkfUZE+MBZLhWnUS4r1DyNnqAOI6z9quVv\n",
       "tITDDNn1jdeAakwoocVeCezHW/qz30PNkEiHlk2Y9cwCLRAsD8NEs2NMjJgTfQ652+lG5ryrr4p3\n",
       "lA+c4y8Ibw+lo0/htYyTGxdWufTuBfIf5D19CQtFPAKdqE0bQPvcD6xKLTWnutBFoupxVmuyEuzG\n",
       "CDzO2t7+A9mMgsC0UjOgm4F0Si4EPjshiGpH+Zgyq5h/5q1NaWZTPigmQKRtD89LLgzlfQ9+LaEV\n",
       "CqSAFWeMiqbOkt3yID+NrEJ1hDP2asZ5xxXEyrdC+vOkzCshr5dNaGaDip2vL7EnSvLXxV3oFUEu\n",
       "7CHsHkhp+OqsnTgbzunfxWVDJHXZmXCdm8N4ONp53yDGMbaDFnVcaVqKznvaeoiBJjFHy+hrZCIS\n",
       "Y5vnPX2gjJLUL2u6wXU+uUdm+jn0vO64Nc1rVK0m/hhn1Uv4SLk3pWS9ZVMs/19gWkXl2G8GsyYL\n",
       "WMXblvd9U3DjchEIxl98bUog4WkBYzvM9AO/mZvCUORECq4zQrHV7jOjBR8UOh1CQ2j0jOpcdRJe\n",
       "i+TQcE9K5B0tOmo4t6BwJEYH5fj2pEvP5uTYYzU8168EHxYwQOWLKKfPR5wVBDkB1pjtp3s5xIP2\n",
       "52aPLqU8P0OIRrWrU2qquVoVOL9lU/nit4e9xNvYoVyK8K1BZU/6+VWpF1WETo8e8bu676DT5Mai\n",
       "EiluQ5i/MgnzbZoST7I+zf4ivpiqYlQt/MuwkSxemxrF7O0z8Rbq+Xc14pqgYxIXOEKvjFgP0rd2\n",
       "SJh4HeTZmN31oOJIg9LZ2+peLa1cB/LBkaVuSVlC5C2+7RWRetcWZuZS73OsVxUaeeCinLseuXIN\n",
       "n7d0urG6ZqKJFJwmfEXqrH9Duy2DAVf9ZKly2IYk60d8YnDuxD2rY229FSb6TOCmk6I24OOQ7HJv\n",
       "1UKDOf1zXUQUIBAaeHEm/awpa8Y9of0btYEXJG/gnSUmOm6uLpVFhUTHPW4RZkIZXK6dNr/PUkIl\n",
       "Cpvzoj3yOeYpASv5vg0faqRpStfM4On/anehyCuhBD1WeFcFTezwK5Gc1/mq6v4YWt0MlfEAYZ7c\n",
       "O0mpMXHPyuJy6BDoDVSAKdQTW0auZ3Lx5dfExyy8ZGkY+27GBbvsjS80IdHct6+4ATlpWF7wjkLH\n",
       "msBKh9NGjH9Gq1Xz7JAAnrGCv56SaBG3rHBIkSgzPHF2HbGTUwbSompferub6atqf6xXkExX2qQ2\n",
       "PLImkdvuWuwxizYKox2eoU+7sJ2sI0lK1X++tH+ZkW3MafIIUMZxPs4Xfxol00pF2KIDuUh6GYHD\n",
       "t36JhIXtPJN+JR/BIYmFXgUltZqDRAdUbZu2kkMsd7mWAPT2jGdyPjYDLT+N8kwdySMPBz4+S+iv\n",
       "NxLIX3OC+zMN87qFsrcta1BP9f99SEyJ/qroS5POFP+q1HIyt52qSeA4BgkM9JSygSrbVi6nRzRD\n",
       "hS5drABpCla3qvhDhdKXlBY3phSdG35ljZ3ISfbpZTZag1HD1oGnPeHSIK87tDclJjZ4pLaDZJ4r\n",
       "7W5OwMWfb+3JA1E4Qrih+EFCIwOoyUPV0x5EromjqzF5BbzAYD9ODKRJKrsE6T9/GJ+zmkTCM4bI\n",
       "uT08tKbSwdDu05u3crDiQmTXbEqbvNsydBZhhSTq6+n/ZrIU8GHikLjYU8elp03IFdnA9+g+ryoh\n",
       "5MeIL6Ix486acmtTD5yw2U4KuIrv5ulVDCw1BhaU4AgeVw4RcKtoEkZ+yTkRob6sWdRrkVrhXBUz\n",
       "RCOZNw8U/X942fWhFkNry7xCGDGT/9ZoK5uxgdeGIiE1JmInIHlSz5toIh3r0YwkOiVImn/qjEpS\n",
       "swSVNSlcSpFhdFWiq7m+lF/lzAgOG6v5d0Xt+eVotDByVev+CEgqD2s85/GBqrAg1fyOPvMjSUh+\n",
       "m+3bpDITkUUxfxi1kLJB1mad8SILxF9W62Q3tyIzNJBYy9X9/Dvv947hzuIAcnyQJ/F1YwGeS3+W\n",
       "+VTRAL79kv65dKN4SPfuglYcSgUb4FYvLnAe9QR/AQnUs1f4075tH6XhcY5xWj8BfxM+s8QVKqKg\n",
       "EjtCbpZOPO4pWIhlq/ELaHEy6OCtnxdBZON/DttrENaVcfGJqhhSm0B/8uv79BVcv0mSjcTfHkHL\n",
       "I9iPf1Og5hItUsn0x/3bY5JV1JTp3Xf8R/x/fMZyqQf43Wt/YPchXLIIcwxa6H/c0i3knc3lCXKE\n",
       "A1EOBaBnn4pbQecP+aPVP9JIyFzQtXNPVgbZjbf9a79qGBZRffnKcddo25QxKH2JSrbENhsQUoAp\n",
       "mucAxBC/vseuKdONawYyLU/i5+cyq5nCxxWxt5hDMfNivlte69JwbdJx62fPeikj4U6J+RH0e4zk\n",
       "AlfwGg3ecq0aQmx0VGUwD8MxMbW9h1lLG7Zkh/a/l3V83gFntBN5ZUuDt58bJbMGVcGz7SHd4UEz\n",
       "xAawgpGfM+znk9cGWRknj8Z8FwaDrsSCMRKildHSR8FagRPvjmkis7S4Gdw7YK3md0nLEd2Azveh\n",
       "RZRIolusG7Tgq6q2OaHzmpojJ9pJYe/bHMySH8BLOXbq+1O9zL5APiocowrj7UJ14q9kTQBelZaB\n",
       "LhSsV9gmum8lmfV0bl05Vbi+zp9v9mysM4pPHCwoUTt1ks+FP5/56YBRox24vWioitdbFylt02DX\n",
       "uyiakPjhLSuA/Ec2+LdGzEIYiA3WOP2PNKyvny/TlKBZN6llEuVJ96jAZxBHOqGfqeuVTDmLoOvF\n",
       "nXKSauLh2MYfWaAXdlp2HjB65l5yI6sVsfD3D11FrgUogLGQ4tNidCsH7dBGEE8gywkp4BVLNM66\n",
       "CckEHv0yuTEz6hb2W2lxdjSpJUFh7WJOOjXp/yV93LX+ywTaRFfpjdwdXrUaQ4ho26n6GevvIIA9\n",
       "UCHOpougyjcwT9anHUhLXpI1SKEtyt90HoWLQdQBjDKrAUVxYqj1agn4DYQF6xkbC7vBKkix2FMY\n",
       "o5SrFSkuaLHq9St3nCyTalUUOXk0rUops7SLxY9f4yB0Mxcsivnk8bdeKdg82zGyW3D7IZiRlN/4\n",
       "WEuMVfs/OJ8YM3VBymk4Kh4Fc4sErQ658A5sGaGPMLvCNcd3faYIknaOfnALMPffE3my3pXJWDuG\n",
       "bDESJmrIqMeoP7DV2BDTBipEDfrLNhnIRkB049kybYXfpmum9JGJkpuh6R2FfvD1gs6qSCIQlV/f\n",
       "CpovaGwpnjhJgoQ43u0TPrThlcl9nu0JSCUm87+zPdu+VW+hNU5S4WQvTyFzclvZ5xJMNmXoFQ3W\n",
       "FZtZpTDb7zHtOdjqanzQxart9biqa2/LZS+cdN7qut32cU8hJ2lraNJLycp6lLjnmebQeTXU4+9R\n",
       "NFRvA9R1a8qxAC69yFhd2jQb7AQz/SOznhOjDaN5z1NhkWhcs1voYE3sMJQnEiIAer8EmLb2FO+r\n",
       "VtSDoseRRjZcMpkjLlVd4UWvsRsrF1Pe3qxxXH1HYcnKX9XmUxba91UxQikH2+aHJKKAVNq9cTq4\n",
       "o9d1oCe0Hj4Sr9z+64qTIs7bHQSsJfPFgXF6yHkMEMkvRQ2olOxkp4UkmWNxSS/tDMSlq+/omufV\n",
       "idTPK/JVL/dZ/ji2pOGqd7AbD/9M9+T/Cs4GoVH+WZMle1KUsb2N9AmWuKbIkK+ck4Xvzk+cfZE9\n",
       "iGWsCqaTgXCuOaLgoYwGbnflYj2V23qOIfuPt+DRIk827LRx1RkF6XTJDdRLxqL8H0OhjVuSMzq/\n",
       "9EnhF9Hea3bzrPULiz2SulND3kjvO5DHNNopfhE/FmICn9NV9t8FiWY3BocWwWquVQWeYjcgYt/J\n",
       "kFl/bTnwaI3Fq2lSgqItA0LjtmK1XNp6ReUhYTBAAACZgQAAA0xBmiRsQR/+tSqC8p1IAK38nTiy\n",
       "WgYBa1+Nfr9/YaZmyLQUWGGwYT+v+yAh46P425V95G2VADS9YMG0+XVc4gjaXegFVDutT9THzxtK\n",
       "5mq/cs/Lt7MDdW12ptm/vfeI89fNSwr9gEN4SfP5I1umcTqfZQvrBC9QgApSGxQS4ShrR4j//qcO\n",
       "YmAGG1PaFD5mBbD5X+mLjKtPRHC+mMJNlpUABaVkntdWH1RrbujMXutsS1YLlWxdJXxflE8Yu7Yo\n",
       "/dYd4n+ShsmddUDaj3+Z2sGf+H1wpm9hvvMAgjc13iWACDz3+VJ4zHM6BeFiHveoqIBAOnU+3mef\n",
       "63WcMjS4zHliw24RYfnopqFAiP6osVnJ9WimAsP3rDfoC0W06hg7GPcwMF6vEeNsu5Ieg2q7INHc\n",
       "yCHkaAEFMnvgICBWFURrG5we+tG4+GrwvvY7k8oamZ35G4tsi0aomcEWX9jnj7OBnOiEPTvF9Iku\n",
       "BByHJRY/4g+ZW2oBzABF3wCKD1uTAJ5VoFXZh/scP6loKUfjqAktcfN9qeHVQ9x8hDWR88JpBQDK\n",
       "Bf5DEupyQtac1xjHtLDUW/ixIkoZDru8WMthdyoUh7PzXAYsHI+ADBcMlJkuDR3mDQFGucqdgxRF\n",
       "6b1XMdh6KV0z0a+YgxooPhRVs8mLNuh93KCjS6vqCd36W4dLSsRMlLnA/oOofxZutkqu2G6Tq5tu\n",
       "l5DH0KAubxbR4NvYJe2aWqlEzwEMkxsWgJapoqlsLLwFvwof6EIUVRJdCWTmKJOe5oczTCnD4Mnc\n",
       "kU5X7EQkmqgdlwQTKVfSSPur5MWNDQPtgifMBVgDxnQtyexFnBQk6GTKkbhb8zr+RO7I9XU+OXOE\n",
       "vnyVzPS3MFDn29amgwz+/Q3uXP0MXAfFQ9gUZLltwcATi2yfqkWYRZP4t2NguLWb4RYWlo9FSu0H\n",
       "cVoeGna1owy+eTSLWZfu7xmnzLG9hzhxCeLHyFSHxX9/npaTDgIx/a/chudLMW/SW3o1qoCvds4k\n",
       "sd1visX35EulUu52C8l8jYWRgOsYH8Y4/xQKYDUzgu1z+UGNGZp/1T/SYMiyRayWGbDmBaooL1+e\n",
       "o6PWa0B6uJEEUTJ2BVEvQ2NC3N9bvf7kwKaAAAABUkGeQniHfwFLqgbQOppfEGsdjWxBPpqO0zI8\n",
       "dM6vrpUAkVwvJ4cV14DnwgL3xbLqJSYXo7uyVfFWTfaz+64c8AVGserLhufW2y/p5FHaRJR23KLU\n",
       "hrRoFr2vzhHh1W5TOHVoSFwv4dBNzy30H0XZIV4wbuKyfvUeIDM++USqePUFVGL6DwPr2Z5rplQm\n",
       "Am6qkox7f21BVSVuQUuufQsWgGDCJS+2iFZ2kKeajlkMwPZZ+41/d6SmlXF5xiV61kDzLcDZcWVF\n",
       "3bO0KxpX0jQeSgZ1/zT8YivZZ3AyKU59Cox6gHVBhvTxP0JOx6DmzUPRfyembbk37CABgX0dtDNE\n",
       "kSmzK5C8xHM48wmJ9bGqnYBsXIh1uxS1HI+aY9VluaqvW6JtqEaOmhU6+P5+7tzFPgur+ThYOy+8\n",
       "OtLBYfTCzoFu8U2Fln9Hpfehl/Amh31dfvlRAAABBAGeYXRDfwHM75LI37oi5c40zNddSVdDrW76\n",
       "j7co6K+re5XVpAIYzzwU4UkkCFRnhPyLpcBjhscY2SKqKG85KUxE2bSjW+ynTg5aW3n1JYgFTTTp\n",
       "HUQ/9Cm1RMBGngplztN9/RwtgrzzLzxHRTdef2Kn5HIUKgL3bcIX7OqagdrwsJ72bJ263Sbh+0Kv\n",
       "1vGkTTyXQd6QtwIsDHbaHrPgtlkO3RG2bSc5iNaAaQdj0MZWbqG6mIw9jerZBPT58nxUewJ5Vub+\n",
       "cmlgGZqwAPWV0RYGiB5xyewmnZEezP9svmaFpeV3n7y22VBDn6wa+m9JQxegzuTNBjejI8TyaBPl\n",
       "BS0+5yZEAAABBwGeY2pDfwAL8Xass2MaTdgBMH9BBgXmveRfFq+Mcal6YpD0TGKzE5Y4PLqSiKnj\n",
       "PKxsPHQYJnsDuYnsp3R/EIS683Q1yscZ5V9Y4DQVFphMnlU6bVbZslQGmt+nvmBackwWRV3xmQnS\n",
       "QRzu1IwT4wwvQQ4cp711v16xqWXARn7GPiVpSXs7w6D4XgWnfUc7PjsgspIVmy3Pd6IQ3ymVa2+N\n",
       "LSwEGKRtyH+eteShC1MR95aTEM+lJxqkd/4p3Xz7qfaEGDbohGD/VH+faqKuDul/s4QxH1aLydj+\n",
       "Ez+7InXfUVQd33T1EwonMToInSbZCrgpFBei+N77UteFJNFnQ12oAgyQIhpxAAACD0GaaEmoQWiZ\n",
       "TAgj//61KoAER+zdcB0Fct/2c6bW648HplilEcRxcfWtKPY9hmsvZ8m5UsqSrILwrc1mY/ZmVbiR\n",
       "mbpKC79EX8lD5lZZYu25tVIr5ve4BNsbCKri4ScqKNxO82lruq1P0E107o6dB7uImKwfnHpKVkEB\n",
       "TJhNUhG7Gd6vnFPehW2yPMZFXtHWPeqclOEGEeyCJcpzRvWXTudqaY8Py4wexvifc772wocEG/5i\n",
       "gCKULijrmVJRin19c4QMzde2dnbF0d+vLy0lcNy8UI+S+r7oT4TFWdcG13ip5AUsRCIlox4kpDZp\n",
       "d8jOs/I+FIzTY4Jid8ApwizmdYUeaTof/jb7IyjPQ3QawGZ74AkfYMLm70sIyajulM3hsxyg34te\n",
       "/gGaTElD4ThbDAAGdH2e2QNlyJfZVdRyN6rUekCM1V4KVbTAULhMypGdFge2MeCjzX4BGqA7Bc+Z\n",
       "ZVDBgJvM3JyfmWTr+HoUC4bbBCyo8jiNim7ueUI+Z5m5Y30UktMB5fyIV9VQfFdZ7jAHD6IUVRfJ\n",
       "XQxUTrlXiGyQpKUC/G7TtvUy1Xj9iAXI1FaMNnEM5tI1O4oDMVi6EJqXZtRMyVolwshETIQktpZm\n",
       "dQSUUXhnNVzCYlIkF8XJAeXrQFCzWTOfavU15c8TysucfsoWvTzVudwUXKgf4LogmfxXvCgJvYgf\n",
       "Df+bDq2BAAABVkGehkURLDv/AAt0cdsbDHeW4b6VMiLndKTDafT6vicaW1DB6DdmgXxAEyDLERQN\n",
       "QKS7c5TOlHOsfWxqkPiAd9BE9FWYUtSz0/cNjKDAl5p9RmlEkoJgXhF9TEIPBNpLYpoSGL+/TRWF\n",
       "WS5u1RhpZD21etQRXxybgIW/RRYU7Zn18ubOb068Z7nwThlG9N2mHJltXMdMEO1p7vmjo0nwSbxo\n",
       "l6khloNySz4Fwtv/NH/81rvtFyZV1dquJuVcW0X4P0VNBzmx1VNUWGj4y9JZYnBU71geb38T+mBW\n",
       "kijRs3aVixPCRi75QW2M2AVbti/FxsuCIKXbT34kwZopRtRYcbZqWQKLeuUThw5oGk8WVobZsXwu\n",
       "27Z2DS8QfMl5R6bu+pYO8pPXFFhrUvMMjrQBhwc/juAs+fmiKJcSEH07Mm7H8UzolWHHdCaNZw8/\n",
       "TCNPeOe0aLOErQAAAPIBnqV0Q38AC+9Y6hIHioDCIgPFPy5s7NJaE+RhH8l1C0hSYJUGLC0YqIYK\n",
       "+kGko3XYCC1u5syAVJ6Jht++EDV6f+jcGjTD3VHnFnMOGFaH7sr239CBbsNegu5K5ZHpX/2Tyy+1\n",
       "HYIh2A67K6QAptkP2UWe1csYQjpexGfClvmYiGChljKnxWo02tA787wxAKYyzoF4d/Gmj8QM6nSV\n",
       "w+PvVNoZrGVK+WnB8YjrLagmrbH8angfoOnQsGAJ6w9TraIyT1PvEIRby6K8yu+crfRpToMvgNSX\n",
       "LIy/fI+7mKlMFWVAF9RT/KPEN6wdZgCuOpYiIQAAAOMBnqdqQ38ADzBC+RHRxCEEELtL1RZlRuqq\n",
       "3nzQp7MWPLjU6TzjeMAlN/uZ7i7razrPaoOZa2/pxeOH+f3hkOrgJ6DryCZZsligA1wPzYUWNrB3\n",
       "GrfNdC2sk5/2vfUmY6Bs6vmKc8mluCJ1W047Nl0yXLUzR0y21cbth6n30Ije+xP1ALaMNwz32Wfz\n",
       "2fvrDH5JOpzXcHbkIS5pcST9mE9Gc6Il8BQekV4XGuMNeGnHQNv64vJsEiYuEr59z8oJXJO0mRTu\n",
       "OpAqryfLE96P+CjhdJYgiiPRbxqFxgiyn2l47V3xEAAAAb1BmqxJqEFsmUwII//+tSqAA1GwT4AX\n",
       "l2HxwIC3Rt+9pvSNAjhjl8/VqmI1lxZnMUvSELKh+6jxzasrf/szRqI4LsZu2zxBDrvWnlda0cgv\n",
       "OSeg4dCVr0GXXvr+lxECIab78KF3KgiFC1EihMJ63FWM59R14W8R+omIZRFCo1XidgIonsqvapMp\n",
       "x8lsg+1XDwXwoQErsieGleg3lnjjVQFTO9OqLahLA+ryU9L8p2hCrk3Fgs+am74fVeL3+NU6+iIB\n",
       "ELh+ugYajPXADYlk55ZrroClh004/7HmaAoFU2eNv5S7z0MVCzA1FyaMvGZ5JgoelGqvPnkbxoVQ\n",
       "XEXjGgVjSSpKOBbcx7wPpv5gTmRfJk/J+b2Bc7iBBZlKDK/csP/vo3bLoznvqMaL04sl35BTsKL/\n",
       "FQD078mxgU6h2ukC8MFR/p0+FCA7HdCohOzi+/af68RWxP4G09PyaB2TgknbSiA6MZckmpCtNmJi\n",
       "PFgox+IqnJmytV8fd/9N+jWwOtrOloa7o7IDudKYDRsSmgaekypZH29WcS4G32jFaqG/O83RfI8n\n",
       "YM4c8+rqq37HVJHYoLx0ynGscp7qOLiAAAABDUGeykUVLDv/AAz7LRxdse/6NEBdcvpoekJpPowm\n",
       "Hao/TLZC3fMWkbBqnWquUyUNc2UTGXPUQgDcgllWQl+Ty8vf4YiOR554py/6txEGnPoIawSKy92b\n",
       "MlkPOGsrjIS0hZT9PAzDXaBGp0Pwfz6wMoNTp1C9i77ZI5hCXUvJy7oIOcHiiSoirSeOK0GSnTAw\n",
       "54RjtHembJbaPZaY4sHqPhQS/51M/HXNf9n6Ff0xYv5G0GkRe2Jhkg8/2k8okY6fs2R44mNEUnOm\n",
       "9bk1g0loI/cjFZDU26wBMTQanOB8nh7qTtbC8rsQsQMtg9yklKiNMaTgZdR+NEV8KNI1bE7NzB1o\n",
       "bXiLu6ctNk1sgKmBAAAAxgGe6XRDfwARX5cVOZvEH7YhZLGAgmP39aOU+7fv0yittXJnesf8tQle\n",
       "rw51tmdgaDrlvGoTVLM6DZGbyCSJq6YlcaDE/cMhhDlR0HHembP/vqbmHKE6criYIQFr8JUmeP0G\n",
       "hTImrng7uIR8ozlzwZZ3JZSpmaqvFB26RJfpbHTVlGDzxB4tJtQLZ7yoMRvNTE8nY0eLPs+VkyAX\n",
       "vyEL4P0+wU/Yqg9UnLJhNcmlR8vR3aRyvdyfBDsKvf3wvsKeMZ/FviKLgAAAANcBnutqQ38AEl+X\n",
       "Oe19SJJ/sqhyuMaL8B374PS/oKMc5KdJfc9DvW9uafeqHsZWkGlZDrQf6UY0oExaolnekAjI7BkV\n",
       "Y65ZETTFrcDidQ7JOcgbTsfVx4GK/A+HIyUvuWwZjc9mlm+Zm0w40jtQeDmVegCBxWuS/MgXx+/A\n",
       "IssuM0DjEBXOmiVCOOvMvjfA0tuXsOx8hZvlbgylrcxTLT9d5nvla3K0Vj7fjmda13soKE7ncsA7\n",
       "PJkjCmOP289ddIA07WA9TAlSkpxLhS8ARQkVbKHaTl9fQAAAAYVBmvBJqEFsmUwIIf/+qlUADZUK\n",
       "5QQmwzqRuCJs4AzNrArCKi4yRLvAIL7uRJ7mbYkhx57j8f/OTkzOuxr6HKQILsXuxPk/DkUGa9R3\n",
       "8wbYztCri+xCAcUszqFuPQGxgqBbVYqHXC7f2M+3IRjwhUSNFd4Ph4ZnIp+YF5BejYtqzAknQyW9\n",
       "3mrUklJnacEu+GXKqUQG29u5H5WaZOFt6d6cN299r/DZLBb/qEQl/wISmR0x/b2uWLZQkalBxQGD\n",
       "vo+etjbH+m0Xl5RGbelgvcN1XeniIY351oM8lylzn3UjmapqQu+SEMLEXHE5UZRTwAPOX6Za3T/G\n",
       "IKMLb4klfsFxuNaUjE/mI7n6r2y0Qj9Ttzfiz48S8kSLx5N6rt5NGjAzB04LrSk9frTiuZi5cv9U\n",
       "QuUb3VwctFOFo1LGSF8RdV67KJznOcQ3IJz2zqjo53ADq8vdfjjVGLPvedlhD9IMJpunzsqpZgmH\n",
       "o4QHfRPNGL+6VJ0DROpNJvCOYZzEDyVyWDQeUQAAATZBnw5FFSw7/wAalHqM0o/4pJOeDAiBOwmB\n",
       "GEjBPKJjiDBPIFYxTvMmQxjf2GLtspFSBubRKiH1yLHB96ccEkzU4HupyWZQAs1ZylaSyWxbOG05\n",
       "mdA6QUpAsSSTnY2g0U+VfZFRFRMOyfIvXAzdOgbSAMv9qB3L8kfXmE7uR24W2tghor9llqrChDSH\n",
       "ooc5A+BudxKa2uf5JChaRkc3MhkEKkKVsRORAK7vBCTzllHx/SMx9Iiq9BqZAL8NIV7Csrji9Xs/\n",
       "X9RPvdmA4Oqr6CzCjfkCp94XruD5dJ5vvnrzwYFh9Xqxf7V3te0CuBHYq2ILYWAn7Ez6oFLG/9gz\n",
       "n55CclxaUhmB9l4qasOacrzRTKOHvx+kA/wmrDgOOKgsUYAX7OtPy5tm9eTbb92Txvf/dSXRGkPB\n",
       "AAAA6gGfLXRDfwAivySRfP9YduV80QwzjsmF6JzOybz3ZzJPMKDxm6ETC6bY/LKoFHRNcuBBlulv\n",
       "3NfTAGFqjGUOLtgDIL8KZuxz1nl/KBPfhAH5jKip+165ceKw0Sl2K1d+FjljyTIz/reBgC1uzLZh\n",
       "3Bqc8LCz/RriahLMgWtxU/t4DEUaFgrBIJ/7Trz+K4jKdnpoR5ORru2e2M5qYa//FIk57klEv3eL\n",
       "hhwIseOrGtoUcMZ/ain6xMJtV6O0xSkztcLOyKNcGG++7EzXfTiAwsxCuN1xiq+BqKjFJGeL4IxA\n",
       "CNkMH8QS0vkCGwAAANIBny9qQ38AJb2qdmG3E5fig5qmR62Ma6O65z9VTjp8Nx5OmT/66p2vpPq8\n",
       "CE6cP/DqEs8RdKqcayhimOpIfI3gvy5Wc60feWKhovZBj71PF/neZ57MuDhcl78bV7nnnxfXrhc7\n",
       "jW/Cuj/7Hw/GAozqHrNhGbASnYA1RTHPc+y1FEI8shpbHOcR5d6Ibg2kRMt8foaWgE3i1ZcxeXpH\n",
       "ScyWHE2OBIzu/FCzhbsivVa7hOW9Zb4xcWvOUHnMwJ4EL71zfCT1Cwd9pa2C3P+dwXI3x0AAAAHn\n",
       "QZs0SahBbJlMCH///qmWAGq/l6gki+/SGLoJrOcW6BEjdz+7ygcyd9m0fQWLZGhNr2g86LOgsOf0\n",
       "Bnlkk+e1KAYTHVt8ogarB57YfcZNf6VEcVoXemHuJv8gMm4G48Vbgs+HOKohhIvJXH6SStW8t4lN\n",
       "z5QCyfQWwoupeLpiFON3jl7gEJeDl6lnTrz7BudTbJIGL4TfdVZe4964KtHBQ4mkqq9/2GcHigDq\n",
       "r4sWHOvTzrI5gdcHxYodiNB3eIS1QsAgKgFcQ2yBMzYAmLVwtcxya8zg/Y18XfzD4Uway0LmCPpT\n",
       "imQ8991bFM4VQBQOLgvfj0z/kO5A9BxnkdLAAOcx01e/S2SkDtOp+ntiLrmvI6Bo/D1wBcYUY/tV\n",
       "UaFdyvJOtiyzbM4nLHvABfdADfff8hMTqemRo9EP8uz9QgDFA2Bp7TMnEsZ6bhCBW3Qm9WpVVn78\n",
       "tclHmFhV79Rj/4TJpT1s/evEGAZiU8TsuomU/XPsbLz7mFBx4tO6JeABPD5A1wEn+QkQROW6aq9a\n",
       "9teJGffIreM/BW1XVtgwKK5TW8Ig6akMEBx9gxTGa6wFkKw0E3THO+OkOld8Gh7y6LIEqeA1NR83\n",
       "Cc9q7SdEHiGtusDR/Ocrb4Ui817kf2QYrrKGhF3LwgAAAW5Bn1JFFSw7/wA1KQH8cxxwfCQ9UP1q\n",
       "PljcMoFBVACQjEXtHgAc35fKwzBcsWQume6YpKDlnstAWxe+1BIuEvx0Lewqda/OZ2FuLYVGX+gu\n",
       "800fY/s8xpvF8sw7S4PnrSoE1leSl1C51sSTUIt6qBYsPhlkcmT67NCOkxn9FM23t56ydRpTZ8GE\n",
       "ecHiZ6skYfWQGUvl5vG2Bm34uAc/OJ/5iCgY/SgpXPitR9KLFSZLMgyf8jC23qN2buATaQnyTRTC\n",
       "soqtoHQFROF9pAOfX9t8F6olMrTsHHOUGcUdECGBObl/gGZI5yVC03+nkh4ty+T5tIpvgnu8AM9x\n",
       "/2L3d5TpPFC/+XlurVReFVXixee+APicFc5RF4kZlhSwfJnZWdIn5X6UIyR9G6NVz3inpsiBDnG7\n",
       "VyeyLRRrPc6SlzeRYh1L4kprASnFEqtnUZIWu48IZeqGt9q5Y2YqXTZ8xgWYg64r2qMAHNME13gk\n",
       "0zEAAAC4AZ9xdEN/ACW/IQHgbQyl06qbL/Th2vabHm/7miLPqv9+r7doiSUdOlsKqeCKJmaotY4W\n",
       "LOjaHZpWvei+RDDLOvgwtNtIY9GvaqXVEd0mho00UFPuA8osMqNO/nmS/gacIWR0IqPY2S0+kX1r\n",
       "bRq4PSS8Yb/uE6uLM4vMSJtGCsGUZ3MnKdTVsEKCrBXce4XLk8rm2Wbp9TT4yP1QxwC0ldthZqvc\n",
       "0oJCFQqDSx6xx3JnEeGeWF4ljgAAAOoBn3NqQ38AS3tU7jTNBPX6hrQUdsLXLBPRnGJErr7PkjQR\n",
       "TUMNR/2cuYOPDP4Q8bTPA6YL0A/CUY4obGN7/kFCbh+3OXnjkqkKjAJWHw75Tw2lWAciACBr9nml\n",
       "3a0y2+yAREhWTiuJBD/vSeZseZsut+EREJhs1K6JHa5uI6vLFGHwgWaWTJ6D0HrcIgmyWlV6o1/g\n",
       "d7F1MijBGdH2JnHzvhYmWSIG7zBhfle4jhkzl3A8cdA4rdRRGtHT6a78SwZTt/802tYJexmTCUPx\n",
       "NPZWUp1Ns83wbMzX7EvF146qZ23cvOp6jL+hrXMAAAFsQZt3SahBbJlMCG///qeEANvFa8AAhYd8\n",
       "WxoGF0fudkkyen5m9xZlIB9PyB1tX+KkDYbJemiSswdrhPUeuawYc4mf80UYH8KkJQZ9vvizT/4s\n",
       "cPuL2lrayTdtY70h5pLGK38AYuzvAi5tLcFlp1H/BBtjTlUUgBLodcqON5M+pxEaLjrelieePtHe\n",
       "YjjzPe0D+/QQAgpP4wrGTv0UP3r+uOdrDCHH8PRZnLoWC+or7JcTTss8sEuCu6aMfvtCQyH6Kjzp\n",
       "A/8UpPMQNwONPSNEGMnN928XzESRIeCZpmGKq2Rm3Y4+WufmtWTOdoXGqpXJ4wkJs4VT0LmiCLpF\n",
       "8Wgeq6uDFgRxIbfbjbMpf0u8nSwNmQ6Tqjl4S5RNTcxbXiw/kR0iixboZjgpI4eW+QPIfnal+qSx\n",
       "Q+BHPq9UIvkre3O93jWYGVC71hKymF1Y5E37t7yGIL38AboxPkmz998est/0rsY8osWA16LQ6QAA\n",
       "AOdBn5ZCG/8AR2aUbGXEkmcN6wAQVGx9CV6Rl928omhytGPHN3GgRTLxr0uLehBe2m1+w0/PvQ2l\n",
       "vGB3jaSYNvaLY6M7A/sMa07oMEkW0k9gWxyN6TZerPfRl4V7sH9N4SiKyu7SlvST6P/WHII9f9TK\n",
       "aKnW6tc2rZwP+yWEm+LpRwws4gc88+CesVprAKRTtdeWJkfbi/4QEq26rKftZ592XxkTDfu3706i\n",
       "aEZsDLCVarDO13XxqWxTT/eR+VKKQ7vs/TtodzdT02zamv87uHxRUgYDPfWYDjIy0fOFVa6v+nAz\n",
       "ZOWAroAAAADGAZ+1aRDfAE1thhQgBOkZOQNDGzlioDkd6lB/c07j9dtfY82gWba8t1XnCc/bk0pL\n",
       "n9Ks1oN1rIIhjwEUzr2ESC8KpKuHRyEL7b6WGwrR33LBPdz433ptkUBiGPxScg6BVcRN90nmh/8r\n",
       "HyNNCNVcUQB/dDYdI5Ws7JiVa8I98v8s/S9WQ7IqIWGDNp6R1HSxjPbQXMZW0JKvG/rRO4jsByTN\n",
       "zvviTTf3/fgV8Yfuuo/pvJMlsPA8qET39hDTgP2wshANx5KxAAAETm1vb3YAAABsbXZoZAAAAAAA\n",
       "AAAAAAAAAAAAA+gAAAlgAAEAAAEAAAAAAAAAAAAAAAABAAAAAAAAAAAAAAAAAAAAAQAAAAAAAAAA\n",
       "AAAAAAAAQAAAAAAAAAAAAAAAAAAAAAAAAAAAAAAAAAAAAAAAAAIAAAN4dHJhawAAAFx0a2hkAAAA\n",
       "AwAAAAAAAAAAAAAAAQAAAAAAAAlgAAAAAAAAAAAAAAAAAAAAAAABAAAAAAAAAAAAAAAAAAAAAQAA\n",
       "AAAAAAAAAAAAAAAAQAAAAAGwAAABIAAAAAAAJGVkdHMAAAAcZWxzdAAAAAAAAAABAAAJYAAACAAA\n",
       "AQAAAAAC8G1kaWEAAAAgbWRoZAAAAAAAAAAAAAAAAAAAKAAAAGAAVcQAAAAAAC1oZGxyAAAAAAAA\n",
       "AAB2aWRlAAAAAAAAAAAAAAAAVmlkZW9IYW5kbGVyAAAAApttaW5mAAAAFHZtaGQAAAABAAAAAAAA\n",
       "AAAAAAAkZGluZgAAABxkcmVmAAAAAAAAAAEAAAAMdXJsIAAAAAEAAAJbc3RibAAAALNzdHNkAAAA\n",
       "AAAAAAEAAACjYXZjMQAAAAAAAAABAAAAAAAAAAAAAAAAAAAAAAGwASAASAAAAEgAAAAAAAAAAQAA\n",
       "AAAAAAAAAAAAAAAAAAAAAAAAAAAAAAAAAAAAAAAAABj//wAAADFhdmNDAWQAFf/hABhnZAAVrNlB\n",
       "sJaEAAADAAQAAAMAUDxYtlgBAAZo6+PLIsAAAAAcdXVpZGtoQPJfJE/FujmlG88DI/MAAAAAAAAA\n",
       "GHN0dHMAAAAAAAAAAQAAABgAAAQAAAAAFHN0c3MAAAAAAAAAAQAAAAEAAADQY3R0cwAAAAAAAAAY\n",
       "AAAAAQAACAAAAAABAAAUAAAAAAEAAAgAAAAAAQAAAAAAAAABAAAEAAAAAAEAABQAAAAAAQAACAAA\n",
       "AAABAAAAAAAAAAEAAAQAAAAAAQAAFAAAAAABAAAIAAAAAAEAAAAAAAAAAQAABAAAAAABAAAUAAAA\n",
       "AAEAAAgAAAAAAQAAAAAAAAABAAAEAAAAAAEAABQAAAAAAQAACAAAAAABAAAAAAAAAAEAAAQAAAAA\n",
       "AQAAEAAAAAABAAAIAAAAAAEAAAAAAAAAHHN0c2MAAAAAAAAAAQAAAAEAAAAYAAAAAQAAAHRzdHN6\n",
       "AAAAAAAAAAAAAAAYAAAYAgAAA1AAAAFWAAABCAAAAQsAAAITAAABWgAAAPYAAADnAAABwQAAAREA\n",
       "AADKAAAA2wAAAYkAAAE6AAAA7gAAANYAAAHrAAABcgAAALwAAADuAAABcAAAAOsAAADKAAAAFHN0\n",
       "Y28AAAAAAAAAAQAAACwAAABidWR0YQAAAFptZXRhAAAAAAAAACFoZGxyAAAAAAAAAABtZGlyYXBw\n",
       "bAAAAAAAAAAAAAAAAC1pbHN0AAAAJal0b28AAAAdZGF0YQAAAAEAAAAATGF2ZjU2LjQwLjEwMQ==\n",
       "\">\n",
       "  Your browser does not support the video tag.\n",
       "</video>"
      ],
      "text/plain": [
       "<matplotlib.animation.FuncAnimation at 0x1181be190>"
      ]
     },
     "execution_count": 3,
     "metadata": {},
     "output_type": "execute_result"
    }
   ],
   "source": [
    "grid.U.show(animation=True)"
   ]
  },
  {
   "cell_type": "markdown",
   "metadata": {},
   "source": [
    "The next step is to define a `ParticleSet`, that lives on this grid. In this case, we start 2 particles at (3.3E, 46N) and (3.3E, 47.8N). Note that we use `JITParticle` as `pclass`, because we will be executing the advection in JIT (Just-In-Time) mode. The alternative is to run in `scipy` mode, in which case `pclass` is simply `Particle`"
   ]
  },
  {
   "cell_type": "code",
   "execution_count": 4,
   "metadata": {
    "collapsed": true
   },
   "outputs": [],
   "source": [
    "pset = grid.ParticleSet(size=2,             # the number of particles\n",
    "                        pclass=JITParticle, # the type of particles (JITParticle or Particle)\n",
    "                        lon=[ 3.3,  3.3],   # a vector of release longitudes \n",
    "                        lat=[46.0, 47.8])   # a vector of release latitudes"
   ]
  },
  {
   "cell_type": "markdown",
   "metadata": {},
   "source": [
    "Print the `ParticleSet` to see where they start"
   ]
  },
  {
   "cell_type": "code",
   "execution_count": 5,
   "metadata": {
    "collapsed": false
   },
   "outputs": [
    {
     "name": "stdout",
     "output_type": "stream",
     "text": [
      "P(3.300000, 46.000000, 0.000000)[164, 49]\n",
      "P(3.300000, 47.799999, 0.000000)[164, 139]\n"
     ]
    }
   ],
   "source": [
    "print pset"
   ]
  },
  {
   "cell_type": "markdown",
   "metadata": {},
   "source": [
    "This output shows for each particle the (longitude, latitude, depth), and then in square brackets the grid indices of the longitude and latitude."
   ]
  },
  {
   "cell_type": "markdown",
   "metadata": {},
   "source": [
    "To plot the positions of these particles on the zonal velocity, use the following command"
   ]
  },
  {
   "cell_type": "code",
   "execution_count": 6,
   "metadata": {
    "collapsed": false
   },
   "outputs": [
    {
     "data": {
      "image/png": "[encoded data removed]",
      "text/plain": [
       "<matplotlib.figure.Figure at 0x116300490>"
      ]
     },
     "metadata": {},
     "output_type": "display_data"
    }
   ],
   "source": [
    "pset.show(field=grid.U)"
   ]
  },
  {
   "cell_type": "markdown",
   "metadata": {},
   "source": [
    "The final step is to run (or 'execute') the `ParticelSet`. We run the particles using the `AdvectionRK4` kernel, which is a 4th order Runge-Kutte implementation that comes with PARCELS. We run the particles for 6 days (using the `timedelta` function from `datetime`), at an RK4 timestep of 5 minutes. We store the trajectory information at an interval of 1 hour in a file called `EddyParticles.nc`."
   ]
  },
  {
   "cell_type": "code",
   "execution_count": 7,
   "metadata": {
    "collapsed": false
   },
   "outputs": [
    {
     "name": "stdout",
     "output_type": "stream",
     "text": [
      "Compiled JITParticleAdvectionRK4 ==> /var/folders/r2/8593q8z93kd7t4j9kbb_f7p00000gn/T/parcels-501/9f8658500c543573b6cb42579adb2bd9.so\n"
     ]
    }
   ],
   "source": [
    "pset.execute(AdvectionRK4,                # the kernel (which defines how particles move)\n",
    "             runtime=timedelta(days=6),   # the total length of the run\n",
    "             dt=timedelta(minutes=5),     # the timestep of the kernel\n",
    "             interval=timedelta(hours=1), # the interval at which output is stored\n",
    "             output_file=pset.ParticleFile(name=\"EddyParticles\")) # the name of the output file"
   ]
  },
  {
   "cell_type": "markdown",
   "metadata": {},
   "source": [
    "The code should have run, which can be confirmed by printing and plotting the `ParticleSet` again"
   ]
  },
  {
   "cell_type": "code",
   "execution_count": 10,
   "metadata": {
    "collapsed": false
   },
   "outputs": [
    {
     "name": "stdout",
     "output_type": "stream",
     "text": [
      "P(2.024544, 46.088627, 518400.000000)[100, 54]\n",
      "P(2.017195, 48.305283, 518400.000000)[100, 164]\n"
     ]
    },
    {
     "data": {
      "image/png": "[encoded data removed]",
      "text/plain": [
       "<matplotlib.figure.Figure at 0x11f64fa90>"
      ]
     },
     "metadata": {},
     "output_type": "display_data"
    }
   ],
   "source": [
    "print pset\n",
    "pset.show(field=grid.U)"
   ]
  },
  {
   "cell_type": "markdown",
   "metadata": {},
   "source": [
    "Note that, while the particles (the black dots) have moved in the above, the `U` field still only shows the first snapshot (as also highlighted in the plot title). PARCELS currently does not have the capacity yet to plot the velocity fields associated with the time of the particles"
   ]
  },
  {
   "cell_type": "markdown",
   "metadata": {},
   "source": [
    "The trajectory information of the particles is stored in the `EddyParticles.nc` file. It can be quickly plotted using the `plotTrajectoriesFile` function."
   ]
  },
  {
   "cell_type": "code",
   "execution_count": null,
   "metadata": {
    "collapsed": false
   },
   "outputs": [],
   "source": [
    "plotTrajectoriesFile('EddyParticles.nc')"
   ]
  },
  {
   "cell_type": "markdown",
   "metadata": {},
   "source": [
    "The `plotTrajectoriesFile` function can also be used to show the trajectories as a movie, by specifying that it has to run in `movie2d_notebook` mode. If we pass this to our function above, we can watch the particles go!"
   ]
  },
  {
   "cell_type": "code",
   "execution_count": null,
   "metadata": {
    "collapsed": false
   },
   "outputs": [],
   "source": [
    "plotTrajectoriesFile('EddyParticles.nc', mode = 'movie2d_notebook')"
   ]
  },
  {
   "cell_type": "markdown",
   "metadata": {},
   "source": [
    "Now one of the neat features of PARCELS is that the particles can be plotted as a movie *during* execution. To rerun the particles while plotting them on top of the zonal velocity field (`grid.U`), first reinitialise the `ParticleSet` and then re-execute. However, now rather than saving the output to a file, display a movie using the `show_movie` keyword, in this case with the zonal velocity `grid.U` as background"
   ]
  },
  {
   "cell_type": "code",
   "execution_count": null,
   "metadata": {
    "collapsed": true
   },
   "outputs": [],
   "source": [
    "## THIS DOES NOT WORK YET IN THIS IPYTHON NOTEBOOK, BECAUSE OF THE INLINE PLOTTING. \n",
    "## IT WILL WORK ON MOST MACHINES, THOUGH\n",
    "# pset = grid.ParticleSet(size=2, pclass=JITParticle, lon=[3.3, 3.3], lat=[46.0, 47.8])\n",
    "# pset.execute(AdvectionRK4, \n",
    "#              runtime=timedelta(days=6), \n",
    "#              dt=timedelta(minutes=5), \n",
    "#              interval=timedelta(hours=1),\n",
    "#              show_movie=grid.U)"
   ]
  },
  {
   "cell_type": "markdown",
   "metadata": {},
   "source": [
    "## Adding a custom behaviour kernel <a name=\"customkernel\"></a>"
   ]
  },
  {
   "cell_type": "markdown",
   "metadata": {},
   "source": [
    "A key feature of PARCELS is the ability to quickly create very simple kernels, and add them to the execution. Kernels in this case our little snippets of code that alter the trajectories of the particles. \n",
    "In this example, we'll create a simple kernel where particles obtain an extra 5 m/s westward velocity after 1 day. Of course, this is not very realistic scenario, but it nicely illustrates the power of custom kernels."
   ]
  },
  {
   "cell_type": "code",
   "execution_count": null,
   "metadata": {
    "collapsed": false
   },
   "outputs": [],
   "source": [
    "def WestVel(particle, grid, time, dt):\n",
    "    if time > 86400:\n",
    "        uvel = -2.\n",
    "        particle.lon += uvel * dt / 1852 / 60# * np.cos(particle.lat)* 3.1415926 /180"
   ]
  },
  {
   "cell_type": "markdown",
   "metadata": {},
   "source": [
    "Now reset the `ParticleSet` again, and re-execute. Note that we have now changed `kernel` to be `AdvectionRK4 + k_WestVel`, where `k_WestVel` is the `WestVel` function as defined above cast into a `Kernel` object (via the `pset.Kernel` call)."
   ]
  },
  {
   "cell_type": "code",
   "execution_count": null,
   "metadata": {
    "collapsed": true
   },
   "outputs": [],
   "source": [
    "pset = grid.ParticleSet(size=2, pclass=JITParticle, lon=[3.3, 3.3], lat=[46.0, 47.8])\n",
    "\n",
    "k_WestVel = pset.Kernel(WestVel)       # casting the WestVel function to a kernel object\n",
    "\n",
    "pset.execute(AdvectionRK4 + k_WestVel, # simply add kernels using the + operator\n",
    "             runtime=timedelta(days=3), \n",
    "             dt=timedelta(minutes=5), \n",
    "             interval=timedelta(hours=1),\n",
    "             output_file=pset.ParticleFile(name=\"EddyParticles_WestVel\"))"
   ]
  },
  {
   "cell_type": "markdown",
   "metadata": {},
   "source": [
    "And now plot this new particle field"
   ]
  },
  {
   "cell_type": "code",
   "execution_count": null,
   "metadata": {
    "collapsed": true
   },
   "outputs": [],
   "source": [
    "run scripts/plotParticles.py -p EddyParticles_WestVel.nc"
   ]
  },
  {
   "cell_type": "markdown",
   "metadata": {
    "collapsed": true
   },
   "source": [
    "## Reading in data from arbritrary NetCDF files <a name=\"netcdf\"></a>"
   ]
  },
  {
   "cell_type": "markdown",
   "metadata": {},
   "source": [
    "In most cases, you will want to advect particles within pre-computed velocity fields. If these velocity fields are stored in NetCDF format, it is fairly easy to load them into the `Grid.from_netcdf()` function."
   ]
  },
  {
   "cell_type": "markdown",
   "metadata": {},
   "source": [
    "The `examples` directory contains a set of [GlobCurrent](http://globcurrent.ifremer.fr/products-data/products-overview) files of the region around South Africa. "
   ]
  },
  {
   "cell_type": "markdown",
   "metadata": {},
   "source": [
    "First, define the names of the files containing the zonal (U) and meridional (V) velocities. You can use wildcards (`*`) and the filenames for U and V can be the same (as in this case)"
   ]
  },
  {
   "cell_type": "code",
   "execution_count": null,
   "metadata": {
    "collapsed": false
   },
   "outputs": [],
   "source": [
    "filenames = {'U': \"examples/GlobCurrent_example_data/20*.nc\",\n",
    "             'V': \"examples/GlobCurrent_example_data/20*.nc\"}"
   ]
  },
  {
   "cell_type": "markdown",
   "metadata": {},
   "source": [
    "Then, define a dictionary of the variables (`U` and `V`) and dimensions (`lon`, `lat` and `time`; note that in this case there is no `depth` because the GlobCurrent data is only for the surface of the ocean)"
   ]
  },
  {
   "cell_type": "code",
   "execution_count": null,
   "metadata": {
    "collapsed": false
   },
   "outputs": [],
   "source": [
    "variables = {'U': 'eastward_eulerian_current_velocity', \n",
    "             'V': 'northward_eulerian_current_velocity'}\n",
    "dimensions = {'lat': 'lat', \n",
    "              'lon': 'lon', \n",
    "              'time': 'time'}"
   ]
  },
  {
   "cell_type": "markdown",
   "metadata": {},
   "source": [
    "Finally, read in the grid using the `Grid.from_netcdf` function with the above-defined `filenames`, `variables` and `dimensions`"
   ]
  },
  {
   "cell_type": "code",
   "execution_count": null,
   "metadata": {
    "collapsed": true
   },
   "outputs": [],
   "source": [
    "grid = Grid.from_netcdf(filenames, variables, dimensions)"
   ]
  },
  {
   "cell_type": "markdown",
   "metadata": {},
   "source": [
    "Now define a `ParticleSet`, in this case with 10 particle starting on a line between (27E, 35S) and (29E, 35S)"
   ]
  },
  {
   "cell_type": "code",
   "execution_count": null,
   "metadata": {
    "collapsed": true
   },
   "outputs": [],
   "source": [
    "pset = grid.ParticleSet(size=5,           # releasing 5 particles\n",
    "                        pclass=Particle,  # Using scipy mode\n",
    "                        start=(28, -33),  # releasing on a line: the start longitude and latitude\n",
    "                        finish=(30, -33)) # releasing on a line: the end longitude and latitude"
   ]
  },
  {
   "cell_type": "markdown",
   "metadata": {},
   "source": [
    "And finally execute the `ParticleSet` for 1 week using 4th order Runge-Kutta, and show a movie on top of the zonal velocity"
   ]
  },
  {
   "cell_type": "code",
   "execution_count": null,
   "metadata": {
    "collapsed": true
   },
   "outputs": [],
   "source": [
    "pset.execute(AdvectionRK4, \n",
    "             runtime=timedelta(days=10),\n",
    "             dt=timedelta(minutes=5),\n",
    "             interval=timedelta(hours=6),\n",
    "             output_file=pset.ParticleFile(name=\"GlobCurrentParticles\"))"
   ]
  },
  {
   "cell_type": "markdown",
   "metadata": {},
   "source": [
    "Now visualise this simulation using the `plotParticles` script again. Note you can plot the particles on top of one of the velocity fields using the `tracerfile`, `tracerfield`, etc keywords."
   ]
  },
  {
   "cell_type": "code",
   "execution_count": null,
   "metadata": {
    "collapsed": true
   },
   "outputs": [],
   "source": [
    "particleplotting('GlobCurrentParticles.nc', \n",
    "                 tracerfile='examples/GlobCurrent_example_data/20020101000000-GLOBCURRENT-L4-CUReul_hs-ALT_SUM-v02.0-fv01.0.nc', \n",
    "                 tracerlon='lon', \n",
    "                 tracerlat='lat', \n",
    "                 tracerfield='eastward_eulerian_current_velocity')"
   ]
  },
  {
   "cell_type": "markdown",
   "metadata": {},
   "source": [
    "# Particle Distance Calulation - Example Kernel"
   ]
  },
  {
   "cell_type": "markdown",
   "metadata": {},
   "source": [
    "We will now create another custom kernel capable of tracking the total distance our particles have travelled. Using the grids previously defined:"
   ]
  },
  {
   "cell_type": "code",
   "execution_count": null,
   "metadata": {
    "collapsed": false
   },
   "outputs": [],
   "source": [
    "def totaldistance(particle, grid, time, dt):\n",
    "    \n",
    "    lon_dist = (particle.lon - particle.previous_lon) * 1852 * 60   # Calculate the distance in longitidnal direction (m). \n",
    "    \n",
    "    # A proper calculation of the dsitance travelled in the latitudinal direction \n",
    "    # requires the np.cos() function - the kernel can't find the numpy module. \n",
    "    lat_dist = (particle.lat - particle.previous_lat) * 1852 * 60 # * np.cos(particle.latitiude) * np.pi /180   \n",
    "    \n",
    "    particle.distance += ((lon_dist)**2 + (lat_dist)**2)**0.5       # Calculate the total distance travelled by the particle.\n",
    "    \n",
    "    particle.previous_lon = particle.lon                            # Set the stored values for next iteration.\n",
    "    particle.previous_lat = particle.lat"
   ]
  },
  {
   "cell_type": "markdown",
   "metadata": {},
   "source": [
    "Again define a new kernel to include the function written above."
   ]
  },
  {
   "cell_type": "code",
   "execution_count": null,
   "metadata": {
    "collapsed": true
   },
   "outputs": [],
   "source": [
    "k_dist = pset.Kernel(totaldistance)    # Cast totaldistance function as a kernel."
   ]
  },
  {
   "cell_type": "markdown",
   "metadata": {},
   "source": [
    " We will run this on a pset containing a sinlge particle created within an ideal grid scenario:"
   ]
  },
  {
   "cell_type": "code",
   "execution_count": null,
   "metadata": {
    "collapsed": true
   },
   "outputs": [],
   "source": [
    "grid = Grid.from_nemo(\"examples/MovingEddies_data/moving_eddies\")\n",
    "\n",
    "class MyParticle(Particle):                                  # Define a new particle class with all the variables needed.\n",
    "    \n",
    "    user_vars = {'distance': np.float32,                     # The total distance travelled be the particle.\n",
    "                 'previous_lon': np.float32,                 # Store the previous coordinates to calulate the distance\n",
    "                 'previous_lat': np.float32}                 # travelled between each point.\n",
    "    \n",
    "    def __init__(self, *args, **kwargs):\n",
    "        super(MyParticle, self).__init__(*args, **kwargs)    # New particle inherits all other particle functions.\n",
    "        self.distance = 0.\n",
    "        self.previous_lon = self.lon\n",
    "        self.previous_lat = self.lat\n",
    "        \n",
    "pset = grid.ParticleSet(size=1,                               # Particle set consists of single particle.\n",
    "                        pclass=MyParticle,                    # The type of particle is tthat defined above (MyParticle).\n",
    "                        lon=[ 3.3], lat=[46.0])               # Coordinates of the particle.\n",
    "\n",
    "print pset"
   ]
  },
  {
   "cell_type": "markdown",
   "metadata": {},
   "source": [
    "Again running (executing) the ParticleSet:"
   ]
  },
  {
   "cell_type": "code",
   "execution_count": null,
   "metadata": {
    "collapsed": true
   },
   "outputs": [],
   "source": [
    "pset.execute(AdvectionRK4 + k_dist,       # Add kernels using the + operator.\n",
    "             runtime=timedelta(days=6),          \n",
    "             dt=timedelta(minutes=5),            \n",
    "             interval=timedelta(hours=1),        \n",
    "             output_file=pset.ParticleFile(name=\"EddyParticles\"))"
   ]
  },
  {
   "cell_type": "code",
   "execution_count": null,
   "metadata": {
    "collapsed": true
   },
   "outputs": [],
   "source": [
    "for particle in pset:           # Print the distance travelled by our particle.\n",
    "    print particle.distance"
   ]
  }
 ],
 "metadata": {
  "kernelspec": {
   "display_name": "Python 2",
   "language": "python",
   "name": "python2"
  },
  "language_info": {
   "codemirror_mode": {
    "name": "ipython",
    "version": 2
   },
   "file_extension": ".py",
   "mimetype": "text/x-python",
   "name": "python",
   "nbconvert_exporter": "python",
   "pygments_lexer": "ipython2",
   "version": "2.7.11"
  }
 },
 "nbformat": 4,
 "nbformat_minor": 0
}
